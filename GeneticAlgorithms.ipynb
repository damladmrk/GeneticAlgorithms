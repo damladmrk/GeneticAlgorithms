{
  "cells": [
    {
      "cell_type": "markdown",
      "metadata": {
        "id": "view-in-github",
        "colab_type": "text"
      },
      "source": [
        "<a href=\"https://colab.research.google.com/github/damladmrk/GeneticAlgorithms/blob/main/GeneticAlgorithms.ipynb\" target=\"_parent\"><img src=\"https://colab.research.google.com/assets/colab-badge.svg\" alt=\"Open In Colab\"/></a>"
      ]
    },
    {
      "cell_type": "markdown",
      "metadata": {
        "id": "N5llxEQeCHEn"
      },
      "source": [
        "### **Difference Between Genetic Algorithms and Evolutionary Algorithms**\n",
        "\n",
        "**Evolutionary Algorithms (EAs)** are a broad family of optimization algorithms inspired by the process of natural evolution. They include various biologically-inspired techniques that use mechanisms such as selection, mutation, and recombination to evolve solutions over generations.\n",
        "\n",
        "**Genetic Algorithms (GAs)** are a specific type of evolutionary algorithm that simulates the process of natural selection based on genetics. They typically represent candidate solutions as binary strings (chromosomes) and apply genetic operators like crossover and mutation.\n",
        "\n",
        "#### ✅ Key Differences\n",
        "\n",
        "| Aspect              | Genetic Algorithms (GAs)                          | Evolutionary Algorithms (EAs)                                                 |\n",
        "|---------------------|--------------------------------------------------|--------------------------------------------------------------------------------|\n",
        "| **Scope**           | A subset of evolutionary algorithms              | An umbrella term for all nature-inspired population-based optimization methods |\n",
        "| **Representation**  | Usually binary strings                           | Can use binary, real-valued, tree-based, or custom representations             |\n",
        "| **Operators Used**  | Selection, crossover, mutation                   | Varies — may include problem-specific or broader operators                     |\n",
        "| **Examples**        | Simple GA, Steady-State GA                       | GAs, Evolution Strategies, Genetic Programming, Differential Evolution         |\n",
        "| **Focus**           | Emphasizes genetic operators                     | Focuses on evolutionary adaptation mechanisms in general                       |\n",
        "\n",
        "#### 🧬 Summary\n",
        "\n",
        "All **genetic algorithms** are **evolutionary algorithms**, but not all evolutionary algorithms are genetic algorithms.  \n",
        "GAs are more biologically specific, while EAs are a broader class allowing more flexibility in problem-solving.\n",
        "\n"
      ]
    },
    {
      "cell_type": "markdown",
      "metadata": {
        "id": "hwyP075BsUCf"
      },
      "source": [
        "# **Product Class**\n",
        "\n",
        "We will solve a truck loading problem so we are going to create this class."
      ]
    },
    {
      "cell_type": "code",
      "execution_count": null,
      "metadata": {
        "id": "ob1jRBnaB4IS"
      },
      "outputs": [],
      "source": [
        "class Product():\n",
        "  def __init__(self, name, space, price):\n",
        "    \"\"\"\n",
        "      name: product name\n",
        "      space: space hold in the truck\n",
        "      price: price of product\n",
        "    \"\"\"\n",
        "    self.name = name\n",
        "    self.space = space\n",
        "    self.price = price"
      ]
    },
    {
      "cell_type": "code",
      "execution_count": null,
      "metadata": {
        "id": "mlnh72VqslNO"
      },
      "outputs": [],
      "source": [
        "products_list = []\n",
        "products_list.append(Product('Refrigerator A', 0.751, 999.90))\n",
        "products_list.append(Product('Cell phone', 0.00000899, 2199.12))\n",
        "products_list.append(Product('TV 55', 0.400, 4346.99))\n",
        "products_list.append(Product(\"TV 50' \", 0.290, 3999.90))\n",
        "products_list.append(Product(\"TV 42' \", 0.200, 2999.00))\n",
        "products_list.append(Product(\"Notebook A\", 0.00350, 2499.90))\n",
        "products_list.append(Product(\"Ventilator\", 0.496, 199.90))\n",
        "products_list.append(Product(\"Microwave A\", 0.0424, 308.66))\n",
        "products_list.append(Product(\"Microwave B\", 0.0544, 429.90))\n",
        "products_list.append(Product(\"Microwave C\", 0.0319, 299.29))\n",
        "products_list.append(Product(\"Refrigerator B\", 0.635, 849.00))\n",
        "products_list.append(Product(\"Refrigerator C\", 0.870, 1199.89))\n",
        "products_list.append(Product(\"Notebook B\", 0.498, 1999.90))\n",
        "products_list.append(Product(\"Notebook C\", 0.527, 3999.00))"
      ]
    },
    {
      "cell_type": "code",
      "execution_count": null,
      "metadata": {
        "id": "-mr3XEFoGJ5Q"
      },
      "outputs": [],
      "source": [
        "spaces = []\n",
        "prices = []\n",
        "names = []\n",
        "for product in products_list:\n",
        "  spaces.append(product.space)\n",
        "  prices.append(product.price)\n",
        "  names.append(product.name)\n",
        "limit = 3"
      ]
    },
    {
      "cell_type": "code",
      "execution_count": null,
      "metadata": {
        "colab": {
          "base_uri": "https://localhost:8080/"
        },
        "id": "U1SK6EK7srx7",
        "outputId": "007be5c8-2623-423a-b9a0-3f6385a67960"
      },
      "outputs": [
        {
          "output_type": "stream",
          "name": "stdout",
          "text": [
            "Name: Refrigerator A | Price: $999.90 | Space: 0.751 m^2\n",
            "Name: Cell phone | Price: $2199.12 | Space: 8.99e-06 m^2\n",
            "Name: TV 55 | Price: $4346.99 | Space: 0.4 m^2\n",
            "Name: TV 50'  | Price: $3999.90 | Space: 0.29 m^2\n",
            "Name: TV 42'  | Price: $2999.00 | Space: 0.2 m^2\n",
            "Name: Notebook A | Price: $2499.90 | Space: 0.0035 m^2\n",
            "Name: Ventilator | Price: $199.90 | Space: 0.496 m^2\n",
            "Name: Microwave A | Price: $308.66 | Space: 0.0424 m^2\n",
            "Name: Microwave B | Price: $429.90 | Space: 0.0544 m^2\n",
            "Name: Microwave C | Price: $299.29 | Space: 0.0319 m^2\n",
            "Name: Refrigerator B | Price: $849.00 | Space: 0.635 m^2\n",
            "Name: Refrigerator C | Price: $1199.89 | Space: 0.87 m^2\n",
            "Name: Notebook B | Price: $1999.90 | Space: 0.498 m^2\n",
            "Name: Notebook C | Price: $3999.00 | Space: 0.527 m^2\n"
          ]
        }
      ],
      "source": [
        "for product in products_list:\n",
        "    print(f\"Name: {product.name} | Price: ${product.price:.2f} | Space: {product.space} m^2\")\n",
        "\n"
      ]
    },
    {
      "cell_type": "markdown",
      "metadata": {
        "id": "FGfKf2gQttbo"
      },
      "source": [
        "For this problem ;\n",
        "\n",
        "\n",
        "*   **individuals or chromosomes** : represent the solutions.\n",
        "*   **0 - 1**: are we taking the product or not.\n",
        "\n"
      ]
    },
    {
      "cell_type": "markdown",
      "metadata": {
        "id": "ztv4bywcveIE"
      },
      "source": [
        "# **Individual Class**"
      ]
    },
    {
      "cell_type": "code",
      "execution_count": null,
      "metadata": {
        "id": "4KjgDYAhxMfY"
      },
      "outputs": [],
      "source": [
        "import random"
      ]
    },
    {
      "cell_type": "code",
      "execution_count": null,
      "metadata": {
        "id": "x_8TDNnRtDs5"
      },
      "outputs": [],
      "source": [
        "class Individual():\n",
        "  def __init__(self, spaces, prices, space_limit, generation=0):\n",
        "    self.spaces = spaces\n",
        "    self.prices = prices\n",
        "    self.space_limit = space_limit\n",
        "    self.score_evaluation = 0\n",
        "    self.used_space = 0\n",
        "    self.generation = generation\n",
        "    self.chromosome = []\n",
        "\n",
        "    for i in range(len(spaces)):\n",
        "      if random.random() < 0.5:\n",
        "        self.chromosome.append('0')\n",
        "      else:\n",
        "        self.chromosome.append('1')\n",
        "\n",
        "  def fitness(self):\n",
        "    score = 0\n",
        "    sum_spaces = 0\n",
        "    for i in range(len(self.chromosome)):\n",
        "      if self.chromosome[i] == '1':\n",
        "        score += self.prices[i]\n",
        "        sum_spaces += self.spaces[i]\n",
        "    if sum_spaces > self.space_limit:\n",
        "      score = 1\n",
        "    self.score_evaluation = score\n",
        "    self.used_space = sum_spaces\n",
        "\n",
        "  def crossover(self, other_individual):\n",
        "    cutoff = round(random.random() * len(self.chromosome))\n",
        "    #print(cutoff)\n",
        "\n",
        "    child1 = other_individual.chromosome[0:cutoff] + self.chromosome[cutoff::]\n",
        "    child2 = self.chromosome[0:cutoff] + other_individual.chromosome[cutoff::]\n",
        "    #print(child1)\n",
        "    #print(child2)\n",
        "    children = [Individual(self.spaces, self.prices, self.space_limit, self.generation + 1),\n",
        "                Individual(self.spaces, self.prices, self.space_limit, self.generation + 1)]\n",
        "    children[0].chromosome = child1\n",
        "    children[1].chromosome = child2\n",
        "    return children\n",
        "\n",
        "  def mutation(self, rate):\n",
        "    #print('Before:', self.chromosome)\n",
        "    for i in range(len(self.chromosome)):\n",
        "      if random.random() < rate:\n",
        "        if self.chromosome[i] == '1':\n",
        "          self.chromosome[i] = '0'\n",
        "        else:\n",
        "          self.chromosome[i] = '1'\n",
        "    #print('After: ', self.chromosome)\n",
        "    return self"
      ]
    },
    {
      "cell_type": "code",
      "source": [
        "individual1 = Individual(spaces, prices, limit)\n",
        "#print('Spaces: ', individual1.spaces)\n",
        "#print('Prices: ', individual1.prices)\n",
        "#print('Chromosome: ', individual1.chromosome)\n",
        "for i in range(len(products_list)):\n",
        "  #print(individual1.chromosome[i])\n",
        "  if individual1.chromosome[i] == '1':\n",
        "    print('Name: ', products_list[i].name)\n",
        "individual1.fitness()\n",
        "print('Score: ', individual1.score_evaluation)\n",
        "print('Used space: ', individual1.used_space)\n",
        "print('Chromosome: ', individual1.chromosome)\n",
        "\n",
        "individual2 = Individual(spaces, prices, limit)\n",
        "#print('Spaces: ', individual1.spaces)\n",
        "#print('Prices: ', individual1.prices)\n",
        "#print('Chromosome: ', individual1.chromosome)\n",
        "for i in range(len(products_list)):\n",
        "  #print(individual1.chromosome[i])\n",
        "  if individual2.chromosome[i] == '1':\n",
        "    print('Name: ', products_list[i].name)\n",
        "individual2.fitness()\n",
        "print('Score: ', individual2.score_evaluation)\n",
        "print('Used space: ', individual2.used_space)\n",
        "print('Chromosome: ', individual2.chromosome)"
      ],
      "metadata": {
        "colab": {
          "base_uri": "https://localhost:8080/"
        },
        "id": "xIKGySuzpWkD",
        "outputId": "66f52f13-13b2-4ccc-dfc5-6eb529bcde82"
      },
      "execution_count": null,
      "outputs": [
        {
          "output_type": "stream",
          "name": "stdout",
          "text": [
            "Name:  TV 50' \n",
            "Name:  Ventilator\n",
            "Name:  Microwave A\n",
            "Name:  Refrigerator B\n",
            "Name:  Refrigerator C\n",
            "Score:  6557.35\n",
            "Used space:  2.3334\n",
            "Chromosome:  ['0', '0', '0', '1', '0', '0', '1', '1', '0', '0', '1', '1', '0', '0']\n",
            "Name:  TV 55\n",
            "Name:  TV 50' \n",
            "Name:  TV 42' \n",
            "Name:  Microwave A\n",
            "Name:  Microwave B\n",
            "Name:  Microwave C\n",
            "Name:  Refrigerator B\n",
            "Name:  Refrigerator C\n",
            "Score:  14432.63\n",
            "Used space:  2.5237\n",
            "Chromosome:  ['0', '0', '1', '1', '1', '0', '0', '1', '1', '1', '1', '1', '0', '0']\n"
          ]
        }
      ]
    },
    {
      "cell_type": "markdown",
      "metadata": {
        "id": "t3aX4TY4Cbt-"
      },
      "source": [
        "# **Crossover**\n",
        "\n",
        "- Combining two chromosomes to create more fitting child.\n",
        "\n",
        "\n",
        "**One point**: cut from a single point and sum one side of parents."
      ]
    },
    {
      "cell_type": "code",
      "execution_count": null,
      "metadata": {
        "id": "ZDbNAT8lDuqY"
      },
      "outputs": [],
      "source": [
        "def crossover(self, other_individual):\n",
        "    cutoff = round(random.random() * len(self.chromosome))\n",
        "    print(cutoff)\n",
        "\n",
        "    child1 = other_individual.chromosome[0:cutoff] + self.chromosome[cutoff::]\n",
        "    child2 = self.chromosome[0:cutoff] + other_individual.chromosome[cutoff::]\n",
        "    print(child1)\n",
        "    print(child2)\n",
        "    children = [Individual(self.spaces, self.prices, self.space_limit, self.generation + 1),\n",
        "                Individual(self.spaces, self.prices, self.space_limit, self.generation + 1)]\n",
        "    children[0].chromosome = child1\n",
        "    children[1].chromosome = child2\n",
        "    return children"
      ]
    },
    {
      "cell_type": "code",
      "execution_count": null,
      "metadata": {
        "id": "OzvGQjmZG8-R"
      },
      "outputs": [],
      "source": [
        "children = individual1.crossover(individual2)"
      ]
    },
    {
      "cell_type": "code",
      "execution_count": null,
      "metadata": {
        "id": "1xVBtByKHAHY",
        "colab": {
          "base_uri": "https://localhost:8080/"
        },
        "outputId": "93c543be-d98d-41cf-a53b-6546cbf69b43"
      },
      "outputs": [
        {
          "output_type": "execute_result",
          "data": {
            "text/plain": [
              "<__main__.Individual at 0x7ddd1ac9d210>"
            ]
          },
          "metadata": {},
          "execution_count": 10
        }
      ],
      "source": [
        "individual1.mutation(0.65)\n",
        "individual2.mutation(0.15)"
      ]
    },
    {
      "cell_type": "markdown",
      "source": [
        "# **Genetik Algoritm Class**\n",
        "\n",
        "- Genetik algoritm class represents the generations."
      ],
      "metadata": {
        "id": "imQdz5cAyD6r"
      }
    },
    {
      "cell_type": "code",
      "source": [
        "class GeneticAlgorithm():\n",
        "  def __init__(self, population_size):\n",
        "    self.population_size = population_size\n",
        "    self.population = []\n",
        "    self.generation = 0\n",
        "    self.best_solution = None\n",
        "    self.list_of_solutions = []\n",
        "\n",
        "  def initialize_population(self, spaces, prices, space_limit):\n",
        "    for i in range(self.population_size):\n",
        "      self.population.append(Individual(spaces, prices, space_limit))\n",
        "    self.best_solution = self.population[0]\n",
        "\n",
        "  def order_population(self):\n",
        "    self.population = sorted(self.population, key=lambda population: population.score_evaluation, reverse=True)\n",
        "\n",
        "  def best_individual(self, individual):\n",
        "    if individual.score_evaluation > self.best_solution.score_evaluation:\n",
        "      self.best_solution = individual\n",
        "\n",
        "  def sum_evaluations(self):\n",
        "    sum = 0\n",
        "    for individual in self.population:\n",
        "      sum += individual.score_evaluation\n",
        "    return sum\n",
        "\n",
        "  def select_parent(self, sum_evaluation):\n",
        "    # will return the index of parent\n",
        "    parent = -1\n",
        "    random_value = random.random() * sum_evaluation\n",
        "    sum = 0\n",
        "    i = 0\n",
        "    #print('*** random value:', random_value)\n",
        "    while i < len(self.population) and sum < random_value:\n",
        "      #print('i:', i, ' - sum: ', sum)\n",
        "      sum += self.population[i].score_evaluation\n",
        "      parent += 1\n",
        "      i += 1\n",
        "    return parent\n",
        "\n",
        "  def visualize_generation(self):\n",
        "    best = self.population[0]\n",
        "    print('Generation: ', best.generation,\n",
        "          'Total price: ', best.score_evaluation, 'Space: ', best.used_space,\n",
        "          'Chromosome: ', best.chromosome)\n",
        "\n",
        "  def select_parent(self, sum_evaluation):\n",
        "    parent = -1\n",
        "    random_value = random.random() * sum_evaluation\n",
        "    sum = 0\n",
        "    i = 0\n",
        "    #print('*** random value:', random_value)\n",
        "    while i < len(self.population) and sum < random_value:\n",
        "      #print('i:', i, ' - sum: ', sum)\n",
        "      sum += self.population[i].score_evaluation\n",
        "      parent += 1\n",
        "      i += 1\n",
        "    return parent\n",
        "\n",
        "  def visualize_generation(self):\n",
        "    best = self.population[0]\n",
        "    print('Generation: ', self.population[0].generation,\n",
        "          'Total price: ', best.score_evaluation, 'Space: ', best.used_space,\n",
        "          'Chromosome: ', best.chromosome)\n",
        "\n",
        "  def solve(self, mutation_probability, number_of_generations, spaces, prices, limit):\n",
        "    self.initialize_population(spaces, prices, limit)\n",
        "\n",
        "    for individual in self.population:\n",
        "      individual.fitness()\n",
        "    self.order_population()\n",
        "    self.best_solution = self.population[0]\n",
        "    self.list_of_solutions.append(self.best_solution.score_evaluation)\n",
        "\n",
        "    self.visualize_generation()\n",
        "\n",
        "    for generation in range(number_of_generations):\n",
        "      sum = self.sum_evaluations()\n",
        "      new_population = []\n",
        "      for new_individuals in range(0, self.population_size, 2):\n",
        "        parent1 = self.select_parent(sum)\n",
        "        parent2 = self.select_parent(sum)\n",
        "        children = self.population[parent1].crossover(self.population[parent2])\n",
        "        new_population.append(children[0].mutation(mutation_probability))\n",
        "        new_population.append(children[1].mutation(mutation_probability))\n",
        "\n",
        "      self.population = list(new_population)\n",
        "\n",
        "      for individual in self.population:\n",
        "        individual.fitness()\n",
        "      self.order_population()\n",
        "      self.visualize_generation()\n",
        "      best = self.population[0]\n",
        "      self.list_of_solutions.append(best.score_evaluation)\n",
        "      self.best_individual(best)\n",
        "\n",
        "    print('**** Best solution - Generation: ', self.best_solution.generation)\n",
        "    print('Total price: ', self.best_solution.score_evaluation, ' Space: ', self.best_solution.used_space)\n",
        "    print(' Chromosome: ', self.best_solution.chromosome)\n",
        "\n",
        "    return self.best_solution.chromosome"
      ],
      "metadata": {
        "id": "I5lsyq8EwT_0"
      },
      "execution_count": null,
      "outputs": []
    },
    {
      "cell_type": "code",
      "source": [
        "population_size = 20\n",
        "ga = GeneticAlgorithm(population_size)\n",
        "ga.initialize_population(spaces, prices, limit)"
      ],
      "metadata": {
        "id": "D15ZLDf4ynPj"
      },
      "execution_count": null,
      "outputs": []
    },
    {
      "cell_type": "code",
      "source": [
        "print(len(ga.population))\n",
        "print(ga.population[0].chromosome)"
      ],
      "metadata": {
        "colab": {
          "base_uri": "https://localhost:8080/"
        },
        "id": "bL4cCDS7nndG",
        "outputId": "56d0f232-b72f-4214-e35b-b9affa05f330"
      },
      "execution_count": null,
      "outputs": [
        {
          "output_type": "stream",
          "name": "stdout",
          "text": [
            "20\n",
            "['0', '0', '1', '0', '0', '0', '1', '0', '1', '1', '1', '0', '0', '1']\n"
          ]
        }
      ]
    },
    {
      "cell_type": "code",
      "source": [
        "for individual in ga.population:\n",
        "  individual.fitness()\n",
        "ga.order_population()\n",
        "for i in range(ga.population_size):\n",
        "  print('Individual: ', i, '\\nSpaces: ', ga.population[i].spaces, '\\nPrices: ', ga.population[i].prices,\n",
        "        '\\nChromosome: ', ga.population[i].chromosome, '\\nScore: ', ga.population[i].score_evaluation, '\\n')"
      ],
      "metadata": {
        "colab": {
          "base_uri": "https://localhost:8080/"
        },
        "id": "1O699Me41_Aj",
        "outputId": "6f7862ec-7316-4bf4-e397-01b72a9277c9"
      },
      "execution_count": null,
      "outputs": [
        {
          "output_type": "stream",
          "name": "stdout",
          "text": [
            "Individual:  0 \n",
            "Spaces:  [0.751, 8.99e-06, 0.4, 0.29, 0.2, 0.0035, 0.496, 0.0424, 0.0544, 0.0319, 0.635, 0.87, 0.498, 0.527] \n",
            "Prices:  [999.9, 2199.12, 4346.99, 3999.9, 2999.0, 2499.9, 199.9, 308.66, 429.9, 299.29, 849.0, 1199.89, 1999.9, 3999.0] \n",
            "Chromosome:  ['0', '1', '1', '1', '0', '0', '0', '0', '1', '0', '0', '0', '1', '1'] \n",
            "Score:  16974.809999999998 \n",
            "\n",
            "Individual:  1 \n",
            "Spaces:  [0.751, 8.99e-06, 0.4, 0.29, 0.2, 0.0035, 0.496, 0.0424, 0.0544, 0.0319, 0.635, 0.87, 0.498, 0.527] \n",
            "Prices:  [999.9, 2199.12, 4346.99, 3999.9, 2999.0, 2499.9, 199.9, 308.66, 429.9, 299.29, 849.0, 1199.89, 1999.9, 3999.0] \n",
            "Chromosome:  ['0', '0', '1', '0', '1', '1', '0', '0', '0', '0', '1', '0', '1', '1'] \n",
            "Score:  16693.79 \n",
            "\n",
            "Individual:  2 \n",
            "Spaces:  [0.751, 8.99e-06, 0.4, 0.29, 0.2, 0.0035, 0.496, 0.0424, 0.0544, 0.0319, 0.635, 0.87, 0.498, 0.527] \n",
            "Prices:  [999.9, 2199.12, 4346.99, 3999.9, 2999.0, 2499.9, 199.9, 308.66, 429.9, 299.29, 849.0, 1199.89, 1999.9, 3999.0] \n",
            "Chromosome:  ['0', '1', '1', '1', '1', '0', '1', '0', '0', '1', '1', '0', '0', '0'] \n",
            "Score:  14893.2 \n",
            "\n",
            "Individual:  3 \n",
            "Spaces:  [0.751, 8.99e-06, 0.4, 0.29, 0.2, 0.0035, 0.496, 0.0424, 0.0544, 0.0319, 0.635, 0.87, 0.498, 0.527] \n",
            "Prices:  [999.9, 2199.12, 4346.99, 3999.9, 2999.0, 2499.9, 199.9, 308.66, 429.9, 299.29, 849.0, 1199.89, 1999.9, 3999.0] \n",
            "Chromosome:  ['1', '1', '1', '0', '1', '1', '0', '1', '0', '1', '0', '1', '0', '0'] \n",
            "Score:  14852.75 \n",
            "\n",
            "Individual:  4 \n",
            "Spaces:  [0.751, 8.99e-06, 0.4, 0.29, 0.2, 0.0035, 0.496, 0.0424, 0.0544, 0.0319, 0.635, 0.87, 0.498, 0.527] \n",
            "Prices:  [999.9, 2199.12, 4346.99, 3999.9, 2999.0, 2499.9, 199.9, 308.66, 429.9, 299.29, 849.0, 1199.89, 1999.9, 3999.0] \n",
            "Chromosome:  ['1', '1', '0', '1', '0', '1', '0', '1', '1', '1', '0', '0', '0', '1'] \n",
            "Score:  14735.67 \n",
            "\n",
            "Individual:  5 \n",
            "Spaces:  [0.751, 8.99e-06, 0.4, 0.29, 0.2, 0.0035, 0.496, 0.0424, 0.0544, 0.0319, 0.635, 0.87, 0.498, 0.527] \n",
            "Prices:  [999.9, 2199.12, 4346.99, 3999.9, 2999.0, 2499.9, 199.9, 308.66, 429.9, 299.29, 849.0, 1199.89, 1999.9, 3999.0] \n",
            "Chromosome:  ['0', '1', '1', '0', '0', '1', '0', '1', '1', '1', '0', '0', '1', '0'] \n",
            "Score:  12083.76 \n",
            "\n",
            "Individual:  6 \n",
            "Spaces:  [0.751, 8.99e-06, 0.4, 0.29, 0.2, 0.0035, 0.496, 0.0424, 0.0544, 0.0319, 0.635, 0.87, 0.498, 0.527] \n",
            "Prices:  [999.9, 2199.12, 4346.99, 3999.9, 2999.0, 2499.9, 199.9, 308.66, 429.9, 299.29, 849.0, 1199.89, 1999.9, 3999.0] \n",
            "Chromosome:  ['0', '0', '1', '0', '0', '0', '1', '0', '1', '1', '1', '0', '0', '1'] \n",
            "Score:  10124.079999999998 \n",
            "\n",
            "Individual:  7 \n",
            "Spaces:  [0.751, 8.99e-06, 0.4, 0.29, 0.2, 0.0035, 0.496, 0.0424, 0.0544, 0.0319, 0.635, 0.87, 0.498, 0.527] \n",
            "Prices:  [999.9, 2199.12, 4346.99, 3999.9, 2999.0, 2499.9, 199.9, 308.66, 429.9, 299.29, 849.0, 1199.89, 1999.9, 3999.0] \n",
            "Chromosome:  ['0', '1', '0', '0', '1', '0', '0', '0', '0', '0', '1', '0', '0', '1'] \n",
            "Score:  10046.119999999999 \n",
            "\n",
            "Individual:  8 \n",
            "Spaces:  [0.751, 8.99e-06, 0.4, 0.29, 0.2, 0.0035, 0.496, 0.0424, 0.0544, 0.0319, 0.635, 0.87, 0.498, 0.527] \n",
            "Prices:  [999.9, 2199.12, 4346.99, 3999.9, 2999.0, 2499.9, 199.9, 308.66, 429.9, 299.29, 849.0, 1199.89, 1999.9, 3999.0] \n",
            "Chromosome:  ['1', '1', '0', '0', '1', '0', '0', '0', '1', '0', '0', '0', '1', '0'] \n",
            "Score:  8627.82 \n",
            "\n",
            "Individual:  9 \n",
            "Spaces:  [0.751, 8.99e-06, 0.4, 0.29, 0.2, 0.0035, 0.496, 0.0424, 0.0544, 0.0319, 0.635, 0.87, 0.498, 0.527] \n",
            "Prices:  [999.9, 2199.12, 4346.99, 3999.9, 2999.0, 2499.9, 199.9, 308.66, 429.9, 299.29, 849.0, 1199.89, 1999.9, 3999.0] \n",
            "Chromosome:  ['0', '1', '0', '0', '0', '0', '0', '1', '0', '0', '1', '0', '0', '1'] \n",
            "Score:  7355.78 \n",
            "\n",
            "Individual:  10 \n",
            "Spaces:  [0.751, 8.99e-06, 0.4, 0.29, 0.2, 0.0035, 0.496, 0.0424, 0.0544, 0.0319, 0.635, 0.87, 0.498, 0.527] \n",
            "Prices:  [999.9, 2199.12, 4346.99, 3999.9, 2999.0, 2499.9, 199.9, 308.66, 429.9, 299.29, 849.0, 1199.89, 1999.9, 3999.0] \n",
            "Chromosome:  ['0', '0', '0', '0', '0', '1', '1', '0', '1', '0', '0', '0', '0', '0'] \n",
            "Score:  3129.7000000000003 \n",
            "\n",
            "Individual:  11 \n",
            "Spaces:  [0.751, 8.99e-06, 0.4, 0.29, 0.2, 0.0035, 0.496, 0.0424, 0.0544, 0.0319, 0.635, 0.87, 0.498, 0.527] \n",
            "Prices:  [999.9, 2199.12, 4346.99, 3999.9, 2999.0, 2499.9, 199.9, 308.66, 429.9, 299.29, 849.0, 1199.89, 1999.9, 3999.0] \n",
            "Chromosome:  ['0', '0', '0', '1', '0', '0', '1', '0', '1', '0', '1', '1', '1', '1'] \n",
            "Score:  1 \n",
            "\n",
            "Individual:  12 \n",
            "Spaces:  [0.751, 8.99e-06, 0.4, 0.29, 0.2, 0.0035, 0.496, 0.0424, 0.0544, 0.0319, 0.635, 0.87, 0.498, 0.527] \n",
            "Prices:  [999.9, 2199.12, 4346.99, 3999.9, 2999.0, 2499.9, 199.9, 308.66, 429.9, 299.29, 849.0, 1199.89, 1999.9, 3999.0] \n",
            "Chromosome:  ['0', '1', '1', '0', '1', '0', '1', '0', '0', '0', '1', '1', '0', '1'] \n",
            "Score:  1 \n",
            "\n",
            "Individual:  13 \n",
            "Spaces:  [0.751, 8.99e-06, 0.4, 0.29, 0.2, 0.0035, 0.496, 0.0424, 0.0544, 0.0319, 0.635, 0.87, 0.498, 0.527] \n",
            "Prices:  [999.9, 2199.12, 4346.99, 3999.9, 2999.0, 2499.9, 199.9, 308.66, 429.9, 299.29, 849.0, 1199.89, 1999.9, 3999.0] \n",
            "Chromosome:  ['1', '1', '1', '0', '0', '0', '1', '1', '0', '0', '0', '1', '1', '0'] \n",
            "Score:  1 \n",
            "\n",
            "Individual:  14 \n",
            "Spaces:  [0.751, 8.99e-06, 0.4, 0.29, 0.2, 0.0035, 0.496, 0.0424, 0.0544, 0.0319, 0.635, 0.87, 0.498, 0.527] \n",
            "Prices:  [999.9, 2199.12, 4346.99, 3999.9, 2999.0, 2499.9, 199.9, 308.66, 429.9, 299.29, 849.0, 1199.89, 1999.9, 3999.0] \n",
            "Chromosome:  ['0', '0', '1', '1', '0', '0', '1', '1', '0', '0', '1', '1', '1', '0'] \n",
            "Score:  1 \n",
            "\n",
            "Individual:  15 \n",
            "Spaces:  [0.751, 8.99e-06, 0.4, 0.29, 0.2, 0.0035, 0.496, 0.0424, 0.0544, 0.0319, 0.635, 0.87, 0.498, 0.527] \n",
            "Prices:  [999.9, 2199.12, 4346.99, 3999.9, 2999.0, 2499.9, 199.9, 308.66, 429.9, 299.29, 849.0, 1199.89, 1999.9, 3999.0] \n",
            "Chromosome:  ['1', '0', '1', '0', '0', '0', '1', '0', '1', '0', '0', '1', '0', '1'] \n",
            "Score:  1 \n",
            "\n",
            "Individual:  16 \n",
            "Spaces:  [0.751, 8.99e-06, 0.4, 0.29, 0.2, 0.0035, 0.496, 0.0424, 0.0544, 0.0319, 0.635, 0.87, 0.498, 0.527] \n",
            "Prices:  [999.9, 2199.12, 4346.99, 3999.9, 2999.0, 2499.9, 199.9, 308.66, 429.9, 299.29, 849.0, 1199.89, 1999.9, 3999.0] \n",
            "Chromosome:  ['1', '1', '1', '1', '1', '0', '1', '1', '1', '0', '0', '1', '1', '0'] \n",
            "Score:  1 \n",
            "\n",
            "Individual:  17 \n",
            "Spaces:  [0.751, 8.99e-06, 0.4, 0.29, 0.2, 0.0035, 0.496, 0.0424, 0.0544, 0.0319, 0.635, 0.87, 0.498, 0.527] \n",
            "Prices:  [999.9, 2199.12, 4346.99, 3999.9, 2999.0, 2499.9, 199.9, 308.66, 429.9, 299.29, 849.0, 1199.89, 1999.9, 3999.0] \n",
            "Chromosome:  ['0', '0', '1', '0', '1', '1', '1', '1', '0', '0', '1', '1', '1', '0'] \n",
            "Score:  1 \n",
            "\n",
            "Individual:  18 \n",
            "Spaces:  [0.751, 8.99e-06, 0.4, 0.29, 0.2, 0.0035, 0.496, 0.0424, 0.0544, 0.0319, 0.635, 0.87, 0.498, 0.527] \n",
            "Prices:  [999.9, 2199.12, 4346.99, 3999.9, 2999.0, 2499.9, 199.9, 308.66, 429.9, 299.29, 849.0, 1199.89, 1999.9, 3999.0] \n",
            "Chromosome:  ['0', '0', '1', '1', '0', '1', '0', '1', '0', '1', '1', '1', '1', '1'] \n",
            "Score:  1 \n",
            "\n",
            "Individual:  19 \n",
            "Spaces:  [0.751, 8.99e-06, 0.4, 0.29, 0.2, 0.0035, 0.496, 0.0424, 0.0544, 0.0319, 0.635, 0.87, 0.498, 0.527] \n",
            "Prices:  [999.9, 2199.12, 4346.99, 3999.9, 2999.0, 2499.9, 199.9, 308.66, 429.9, 299.29, 849.0, 1199.89, 1999.9, 3999.0] \n",
            "Chromosome:  ['1', '0', '1', '0', '1', '0', '1', '0', '1', '0', '1', '0', '1', '1'] \n",
            "Score:  1 \n",
            "\n"
          ]
        }
      ]
    },
    {
      "cell_type": "code",
      "source": [
        "ga.best_solution.score_evaluation"
      ],
      "metadata": {
        "id": "x69drGFr1_gi",
        "colab": {
          "base_uri": "https://localhost:8080/"
        },
        "outputId": "411252bf-764c-4a2b-e712-03a280a4f8c8"
      },
      "execution_count": null,
      "outputs": [
        {
          "output_type": "execute_result",
          "data": {
            "text/plain": [
              "10124.079999999998"
            ]
          },
          "metadata": {},
          "execution_count": 15
        }
      ]
    },
    {
      "cell_type": "code",
      "source": [
        "ga.population[0].score_evaluation"
      ],
      "metadata": {
        "colab": {
          "base_uri": "https://localhost:8080/"
        },
        "id": "WenVsi7TAPvY",
        "outputId": "a10f6d78-ba8a-47f1-9508-5f21617d794d"
      },
      "execution_count": null,
      "outputs": [
        {
          "output_type": "execute_result",
          "data": {
            "text/plain": [
              "16974.809999999998"
            ]
          },
          "metadata": {},
          "execution_count": 16
        }
      ]
    },
    {
      "cell_type": "code",
      "source": [
        "ga.best_individual(ga.population[0])"
      ],
      "metadata": {
        "id": "v5STGTNNAT0k"
      },
      "execution_count": null,
      "outputs": []
    },
    {
      "cell_type": "code",
      "source": [
        "ga.best_solution.chromosome"
      ],
      "metadata": {
        "colab": {
          "base_uri": "https://localhost:8080/"
        },
        "id": "NwgrMXgRAXL7",
        "outputId": "c4cb07b2-fd54-4729-c0ae-b5e82eff4b50"
      },
      "execution_count": null,
      "outputs": [
        {
          "output_type": "execute_result",
          "data": {
            "text/plain": [
              "['0', '1', '1', '1', '0', '0', '0', '0', '1', '0', '0', '0', '1', '1']"
            ]
          },
          "metadata": {},
          "execution_count": 18
        }
      ]
    },
    {
      "cell_type": "code",
      "source": [
        "sum = ga.sum_evaluations()\n",
        "print('Sum of evaluations: ', sum)"
      ],
      "metadata": {
        "colab": {
          "base_uri": "https://localhost:8080/"
        },
        "id": "Zjx2DF84AdRA",
        "outputId": "781e1a1b-a567-49b8-910a-112c90b701b6"
      },
      "execution_count": null,
      "outputs": [
        {
          "output_type": "stream",
          "name": "stdout",
          "text": [
            "Sum of evaluations:  129526.48\n"
          ]
        }
      ]
    },
    {
      "cell_type": "code",
      "source": [
        "parent1 = ga.select_parent(sum)\n",
        "parent1"
      ],
      "metadata": {
        "colab": {
          "base_uri": "https://localhost:8080/"
        },
        "id": "A6bkSXOFAgLK",
        "outputId": "db1a2da6-45ce-4db0-eda5-93eb0251bfe1"
      },
      "execution_count": null,
      "outputs": [
        {
          "output_type": "execute_result",
          "data": {
            "text/plain": [
              "4"
            ]
          },
          "metadata": {},
          "execution_count": 20
        }
      ]
    },
    {
      "cell_type": "code",
      "source": [
        "parent2 = ga.select_parent(sum)\n",
        "parent2"
      ],
      "metadata": {
        "colab": {
          "base_uri": "https://localhost:8080/"
        },
        "id": "emFg3hsRCvcy",
        "outputId": "c7d5b616-4a5c-467e-aa1d-9354ed7a31b7"
      },
      "execution_count": null,
      "outputs": [
        {
          "output_type": "execute_result",
          "data": {
            "text/plain": [
              "1"
            ]
          },
          "metadata": {},
          "execution_count": 21
        }
      ]
    },
    {
      "cell_type": "code",
      "source": [
        "new_population = []\n",
        "mutation_probability = 0.01\n",
        "for new_individuals in range(0, ga.population_size, 2):\n",
        "  print(new_individuals)\n",
        "  parent1 = ga.select_parent(sum)\n",
        "  parent2 = ga.select_parent(sum)\n",
        "  print('\\n', 'index of parents: ', parent1, ' - ', parent2)\n",
        "  children = ga.population[parent1].crossover(ga.population[parent2])\n",
        "  print('p1: ', ga.population[parent1].chromosome)\n",
        "  print('p2: ', ga.population[parent2].chromosome)\n",
        "  print('s1: ', children[0].chromosome)\n",
        "  print('s2: ', children[1].chromosome)\n",
        "  print(\"\\n*********************\\n\")\n",
        "\n",
        "  new_population.append(children[0].mutation(mutation_probability))\n",
        "  new_population.append(children[1].mutation(mutation_probability))"
      ],
      "metadata": {
        "colab": {
          "base_uri": "https://localhost:8080/"
        },
        "id": "JUeKtICUDOdx",
        "outputId": "0fef1847-9e36-4218-ef6a-f612e3d28bde"
      },
      "execution_count": null,
      "outputs": [
        {
          "output_type": "stream",
          "name": "stdout",
          "text": [
            "0\n",
            "\n",
            " index of parents:  0  -  7\n",
            "p1:  ['0', '1', '1', '1', '0', '0', '0', '0', '1', '0', '0', '0', '1', '1']\n",
            "p2:  ['0', '1', '0', '0', '1', '0', '0', '0', '0', '0', '1', '0', '0', '1']\n",
            "s1:  ['0', '1', '0', '0', '1', '0', '0', '0', '0', '0', '1', '0', '0', '1']\n",
            "s2:  ['0', '1', '1', '1', '0', '0', '0', '0', '1', '0', '0', '0', '1', '1']\n",
            "\n",
            "*********************\n",
            "\n",
            "2\n",
            "\n",
            " index of parents:  1  -  4\n",
            "p1:  ['0', '0', '1', '0', '1', '1', '0', '0', '0', '0', '1', '0', '1', '1']\n",
            "p2:  ['1', '1', '0', '1', '0', '1', '0', '1', '1', '1', '0', '0', '0', '1']\n",
            "s1:  ['1', '0', '1', '0', '1', '1', '0', '0', '0', '0', '1', '0', '1', '1']\n",
            "s2:  ['0', '1', '0', '1', '0', '1', '0', '1', '1', '1', '0', '0', '0', '1']\n",
            "\n",
            "*********************\n",
            "\n",
            "4\n",
            "\n",
            " index of parents:  3  -  4\n",
            "p1:  ['1', '1', '1', '0', '1', '1', '0', '1', '0', '1', '0', '1', '0', '0']\n",
            "p2:  ['1', '1', '0', '1', '0', '1', '0', '1', '1', '1', '0', '0', '0', '1']\n",
            "s1:  ['1', '1', '0', '1', '0', '1', '0', '1', '0', '1', '0', '1', '0', '0']\n",
            "s2:  ['1', '1', '1', '0', '1', '1', '0', '1', '1', '1', '0', '0', '0', '1']\n",
            "\n",
            "*********************\n",
            "\n",
            "6\n",
            "\n",
            " index of parents:  8  -  2\n",
            "p1:  ['1', '1', '0', '0', '1', '0', '0', '0', '1', '0', '0', '0', '1', '0']\n",
            "p2:  ['0', '1', '1', '1', '1', '0', '1', '0', '0', '1', '1', '0', '0', '0']\n",
            "s1:  ['0', '1', '1', '1', '1', '0', '1', '0', '0', '1', '1', '0', '0', '0']\n",
            "s2:  ['1', '1', '0', '0', '1', '0', '0', '0', '1', '0', '0', '0', '1', '0']\n",
            "\n",
            "*********************\n",
            "\n",
            "8\n",
            "\n",
            " index of parents:  2  -  4\n",
            "p1:  ['0', '1', '1', '1', '1', '0', '1', '0', '0', '1', '1', '0', '0', '0']\n",
            "p2:  ['1', '1', '0', '1', '0', '1', '0', '1', '1', '1', '0', '0', '0', '1']\n",
            "s1:  ['1', '1', '0', '1', '0', '1', '1', '0', '0', '1', '1', '0', '0', '0']\n",
            "s2:  ['0', '1', '1', '1', '1', '0', '0', '1', '1', '1', '0', '0', '0', '1']\n",
            "\n",
            "*********************\n",
            "\n",
            "10\n",
            "\n",
            " index of parents:  7  -  4\n",
            "p1:  ['0', '1', '0', '0', '1', '0', '0', '0', '0', '0', '1', '0', '0', '1']\n",
            "p2:  ['1', '1', '0', '1', '0', '1', '0', '1', '1', '1', '0', '0', '0', '1']\n",
            "s1:  ['1', '1', '0', '0', '1', '0', '0', '0', '0', '0', '1', '0', '0', '1']\n",
            "s2:  ['0', '1', '0', '1', '0', '1', '0', '1', '1', '1', '0', '0', '0', '1']\n",
            "\n",
            "*********************\n",
            "\n",
            "12\n",
            "\n",
            " index of parents:  1  -  0\n",
            "p1:  ['0', '0', '1', '0', '1', '1', '0', '0', '0', '0', '1', '0', '1', '1']\n",
            "p2:  ['0', '1', '1', '1', '0', '0', '0', '0', '1', '0', '0', '0', '1', '1']\n",
            "s1:  ['0', '1', '1', '1', '0', '0', '0', '0', '0', '0', '1', '0', '1', '1']\n",
            "s2:  ['0', '0', '1', '0', '1', '1', '0', '0', '1', '0', '0', '0', '1', '1']\n",
            "\n",
            "*********************\n",
            "\n",
            "14\n",
            "\n",
            " index of parents:  4  -  7\n",
            "p1:  ['1', '1', '0', '1', '0', '1', '0', '1', '1', '1', '0', '0', '0', '1']\n",
            "p2:  ['0', '1', '0', '0', '1', '0', '0', '0', '0', '0', '1', '0', '0', '1']\n",
            "s1:  ['0', '1', '0', '0', '1', '1', '0', '1', '1', '1', '0', '0', '0', '1']\n",
            "s2:  ['1', '1', '0', '1', '0', '0', '0', '0', '0', '0', '1', '0', '0', '1']\n",
            "\n",
            "*********************\n",
            "\n",
            "16\n",
            "\n",
            " index of parents:  9  -  3\n",
            "p1:  ['0', '1', '0', '0', '0', '0', '0', '1', '0', '0', '1', '0', '0', '1']\n",
            "p2:  ['1', '1', '1', '0', '1', '1', '0', '1', '0', '1', '0', '1', '0', '0']\n",
            "s1:  ['1', '1', '0', '0', '0', '0', '0', '1', '0', '0', '1', '0', '0', '1']\n",
            "s2:  ['0', '1', '1', '0', '1', '1', '0', '1', '0', '1', '0', '1', '0', '0']\n",
            "\n",
            "*********************\n",
            "\n",
            "18\n",
            "\n",
            " index of parents:  8  -  10\n",
            "p1:  ['1', '1', '0', '0', '1', '0', '0', '0', '1', '0', '0', '0', '1', '0']\n",
            "p2:  ['0', '0', '0', '0', '0', '1', '1', '0', '1', '0', '0', '0', '0', '0']\n",
            "s1:  ['0', '0', '0', '0', '0', '1', '0', '0', '1', '0', '0', '0', '1', '0']\n",
            "s2:  ['1', '1', '0', '0', '1', '0', '1', '0', '1', '0', '0', '0', '0', '0']\n",
            "\n",
            "*********************\n",
            "\n"
          ]
        }
      ]
    },
    {
      "cell_type": "code",
      "source": [
        "ga.visualize_generation()"
      ],
      "metadata": {
        "colab": {
          "base_uri": "https://localhost:8080/"
        },
        "id": "pBR8VYOSD5vL",
        "outputId": "b1229e6d-33c0-4aec-9b1c-f65d8d5fd106"
      },
      "execution_count": null,
      "outputs": [
        {
          "output_type": "stream",
          "name": "stdout",
          "text": [
            "Generation:  0 Total price:  16974.809999999998 Space:  1.76940899 Chromosome:  ['0', '1', '1', '1', '0', '0', '0', '0', '1', '0', '0', '0', '1', '1']\n"
          ]
        }
      ]
    },
    {
      "cell_type": "markdown",
      "source": [
        "# **Putting It All Together**"
      ],
      "metadata": {
        "id": "IWj9ZJHDIib-"
      }
    },
    {
      "cell_type": "code",
      "source": [
        "products_list = []\n",
        "products_list.append(Product(\"Refrigerator A\", 0.751, 999.90))\n",
        "products_list.append(Product(\"Cell phone\", 0.0000899, 2911.12))\n",
        "products_list.append(Product(\"TV 55' \", 0.400, 4346.99))\n",
        "products_list.append(Product(\"TV 50' \", 0.290, 3999.90))\n",
        "products_list.append(Product(\"TV 42' \", 0.200, 2999.00))\n",
        "products_list.append(Product(\"Notebook A\", 0.00350, 2499.90))\n",
        "products_list.append(Product(\"Ventilator\", 0.496, 199.90))\n",
        "products_list.append(Product(\"Microwave A\", 0.0424, 308.66))\n",
        "products_list.append(Product(\"Microwave B\", 0.0544, 429.90))\n",
        "products_list.append(Product(\"Microwave C\", 0.0319, 299.29))\n",
        "products_list.append(Product(\"Refrigerator B\", 0.635, 849.00))\n",
        "products_list.append(Product(\"Refrigerator C\", 0.870, 1199.89))\n",
        "products_list.append(Product(\"Notebook B\", 0.498, 1999.90))\n",
        "products_list.append(Product(\"Notebook C\", 0.527, 3999.00))\n",
        "spaces = []\n",
        "prices = []\n",
        "names = []\n",
        "for product in products_list:\n",
        "  spaces.append(product.space)\n",
        "  prices.append(product.price)\n",
        "  names.append(product.name)\n",
        "limit = 3\n",
        "population_size = 20\n",
        "mutation_probability = 0.01\n",
        "number_of_generations = 100\n",
        "ga = GeneticAlgorithm(population_size)\n",
        "result = ga.solve(mutation_probability, number_of_generations, spaces, prices, limit)\n",
        "print('Final chromosome: ', result)\n",
        "for i in range(len(products_list)):\n",
        "  if result[i] == '1':\n",
        "    print('Name: ', products_list[i].name, ' - Price: ', products_list[i].price)"
      ],
      "metadata": {
        "colab": {
          "base_uri": "https://localhost:8080/"
        },
        "id": "snvy4s4tGMhf",
        "outputId": "94e3e0e4-40e4-4210-ec8c-524362b8035d"
      },
      "execution_count": null,
      "outputs": [
        {
          "output_type": "stream",
          "name": "stdout",
          "text": [
            "Generation:  0 Total price:  16795.77 Space:  2.5317899 Chromosome:  ['1', '1', '0', '1', '1', '0', '0', '1', '1', '1', '1', '0', '0', '1']\n",
            "Generation:  1 Total price:  18075.79 Space:  2.9908 Chromosome:  ['1', '0', '0', '1', '1', '1', '0', '0', '1', '1', '1', '0', '1', '1']\n",
            "Generation:  2 Total price:  17584.149999999998 Space:  2.2393 Chromosome:  ['1', '0', '1', '1', '1', '1', '0', '1', '1', '0', '0', '0', '1', '0']\n",
            "Generation:  3 Total price:  18075.79 Space:  2.9908 Chromosome:  ['1', '0', '0', '1', '1', '1', '0', '0', '1', '1', '1', '0', '1', '1']\n",
            "Generation:  4 Total price:  17296.57 Space:  2.5062899000000005 Chromosome:  ['1', '1', '0', '1', '1', '1', '0', '1', '1', '1', '1', '0', '1', '0']\n",
            "Generation:  5 Total price:  18996.379999999997 Space:  2.5033899 Chromosome:  ['1', '1', '0', '1', '1', '1', '0', '1', '1', '0', '1', '0', '0', '1']\n",
            "Generation:  6 Total price:  20147.28 Space:  2.3663899 Chromosome:  ['1', '1', '0', '1', '1', '1', '0', '1', '1', '0', '0', '0', '1', '1']\n",
            "Generation:  7 Total price:  20347.18 Space:  2.8623899 Chromosome:  ['1', '1', '0', '1', '1', '1', '1', '1', '1', '0', '0', '0', '1', '1']\n",
            "Generation:  8 Total price:  20783.149999999998 Space:  2.5113 Chromosome:  ['0', '0', '1', '1', '1', '1', '1', '1', '1', '0', '0', '0', '1', '1']\n",
            "Generation:  9 Total price:  19838.62 Space:  2.3239899 Chromosome:  ['1', '1', '0', '1', '1', '1', '0', '0', '1', '0', '0', '0', '1', '1']\n",
            "Generation:  10 Total price:  20566.38 Space:  2.9469899 Chromosome:  ['1', '1', '0', '1', '1', '1', '0', '1', '0', '0', '1', '0', '1', '1']\n",
            "Generation:  11 Total price:  20573.88 Space:  2.0048 Chromosome:  ['0', '0', '1', '1', '1', '1', '0', '0', '1', '1', '0', '0', '1', '1']\n",
            "Generation:  12 Total price:  20573.88 Space:  2.0048 Chromosome:  ['0', '0', '1', '1', '1', '1', '0', '0', '1', '1', '0', '0', '1', '1']\n",
            "Generation:  13 Total price:  23343.370000000003 Space:  2.9033899000000005 Chromosome:  ['1', '1', '1', '1', '1', '1', '0', '1', '1', '0', '1', '0', '0', '1']\n",
            "Generation:  14 Total price:  20274.589999999997 Space:  1.9729 Chromosome:  ['0', '0', '1', '1', '1', '1', '0', '0', '1', '0', '0', '0', '1', '1']\n",
            "Generation:  15 Total price:  23343.370000000003 Space:  2.9033899000000005 Chromosome:  ['1', '1', '1', '1', '1', '1', '0', '1', '1', '0', '1', '0', '0', '1']\n",
            "Generation:  16 Total price:  20583.25 Space:  2.0153 Chromosome:  ['0', '0', '1', '1', '1', '1', '0', '1', '1', '0', '0', '0', '1', '1']\n",
            "Generation:  17 Total price:  20583.25 Space:  2.0153 Chromosome:  ['0', '0', '1', '1', '1', '1', '0', '1', '1', '0', '0', '0', '1', '1']\n",
            "Generation:  18 Total price:  22494.370000000003 Space:  2.2683899000000003 Chromosome:  ['1', '1', '1', '1', '1', '1', '0', '1', '1', '0', '0', '0', '0', '1']\n",
            "Generation:  19 Total price:  22494.370000000003 Space:  2.2683899000000003 Chromosome:  ['1', '1', '1', '1', '1', '1', '0', '1', '1', '0', '0', '0', '0', '1']\n",
            "Generation:  20 Total price:  24494.270000000004 Space:  2.7663899 Chromosome:  ['1', '1', '1', '1', '1', '1', '0', '1', '1', '0', '0', '0', '1', '1']\n",
            "Generation:  21 Total price:  24494.270000000004 Space:  2.7663899 Chromosome:  ['1', '1', '1', '1', '1', '1', '0', '1', '1', '0', '0', '0', '1', '1']\n",
            "Generation:  22 Total price:  24494.270000000004 Space:  2.7663899 Chromosome:  ['1', '1', '1', '1', '1', '1', '0', '1', '1', '0', '0', '0', '1', '1']\n",
            "Generation:  23 Total price:  24494.270000000004 Space:  2.7663899 Chromosome:  ['1', '1', '1', '1', '1', '1', '0', '1', '1', '0', '0', '0', '1', '1']\n",
            "Generation:  24 Total price:  24494.270000000004 Space:  2.7663899 Chromosome:  ['1', '1', '1', '1', '1', '1', '0', '1', '1', '0', '0', '0', '1', '1']\n",
            "Generation:  25 Total price:  24494.270000000004 Space:  2.7663899 Chromosome:  ['1', '1', '1', '1', '1', '1', '0', '1', '1', '0', '0', '0', '1', '1']\n",
            "Generation:  26 Total price:  22494.370000000003 Space:  2.2683899000000003 Chromosome:  ['1', '1', '1', '1', '1', '1', '0', '1', '1', '0', '0', '0', '0', '1']\n",
            "Generation:  27 Total price:  22343.47 Space:  2.1523899 Chromosome:  ['0', '1', '1', '1', '1', '1', '0', '1', '1', '0', '1', '0', '0', '1']\n",
            "Generation:  28 Total price:  23494.370000000003 Space:  2.0153899 Chromosome:  ['0', '1', '1', '1', '1', '1', '0', '1', '1', '0', '0', '0', '1', '1']\n",
            "Generation:  29 Total price:  23064.47 Space:  1.9609899 Chromosome:  ['0', '1', '1', '1', '1', '1', '0', '1', '0', '0', '0', '0', '1', '1']\n",
            "Generation:  30 Total price:  21694.370000000003 Space:  2.0133899 Chromosome:  ['0', '1', '1', '1', '1', '1', '1', '1', '1', '0', '0', '0', '0', '1']\n",
            "Generation:  31 Total price:  21494.47 Space:  1.5173899 Chromosome:  ['0', '1', '1', '1', '1', '1', '0', '1', '1', '0', '0', '0', '0', '1']\n",
            "Generation:  32 Total price:  21494.47 Space:  1.5173899 Chromosome:  ['0', '1', '1', '1', '1', '1', '0', '1', '1', '0', '0', '0', '0', '1']\n",
            "Generation:  33 Total price:  23694.270000000004 Space:  2.5113898999999997 Chromosome:  ['0', '1', '1', '1', '1', '1', '1', '1', '1', '0', '0', '0', '1', '1']\n",
            "Generation:  34 Total price:  23694.270000000004 Space:  2.5113898999999997 Chromosome:  ['0', '1', '1', '1', '1', '1', '1', '1', '1', '0', '0', '0', '1', '1']\n",
            "Generation:  35 Total price:  23694.270000000004 Space:  2.5113898999999997 Chromosome:  ['0', '1', '1', '1', '1', '1', '1', '1', '1', '0', '0', '0', '1', '1']\n",
            "Generation:  36 Total price:  21494.47 Space:  1.5173899 Chromosome:  ['0', '1', '1', '1', '1', '1', '0', '1', '1', '0', '0', '0', '0', '1']\n",
            "Generation:  37 Total price:  21494.47 Space:  1.5173899 Chromosome:  ['0', '1', '1', '1', '1', '1', '0', '1', '1', '0', '0', '0', '0', '1']\n",
            "Generation:  38 Total price:  21494.47 Space:  1.5173899 Chromosome:  ['0', '1', '1', '1', '1', '1', '0', '1', '1', '0', '0', '0', '0', '1']\n",
            "Generation:  39 Total price:  24694.260000000002 Space:  2.8853899 Chromosome:  ['0', '1', '1', '1', '1', '1', '0', '1', '1', '0', '0', '1', '1', '1']\n",
            "Generation:  40 Total price:  23494.370000000003 Space:  2.0153899 Chromosome:  ['0', '1', '1', '1', '1', '1', '0', '1', '1', '0', '0', '0', '1', '1']\n",
            "Generation:  41 Total price:  23494.370000000003 Space:  2.0153899 Chromosome:  ['0', '1', '1', '1', '1', '1', '0', '1', '1', '0', '0', '0', '1', '1']\n",
            "Generation:  42 Total price:  23494.370000000003 Space:  2.0153899 Chromosome:  ['0', '1', '1', '1', '1', '1', '0', '1', '1', '0', '0', '0', '1', '1']\n",
            "Generation:  43 Total price:  23494.370000000003 Space:  2.0153899 Chromosome:  ['0', '1', '1', '1', '1', '1', '0', '1', '1', '0', '0', '0', '1', '1']\n",
            "Generation:  44 Total price:  23494.370000000003 Space:  2.0153899 Chromosome:  ['0', '1', '1', '1', '1', '1', '0', '1', '1', '0', '0', '0', '1', '1']\n",
            "Generation:  45 Total price:  23494.370000000003 Space:  2.0153899 Chromosome:  ['0', '1', '1', '1', '1', '1', '0', '1', '1', '0', '0', '0', '1', '1']\n",
            "Generation:  46 Total price:  23494.370000000003 Space:  2.0153899 Chromosome:  ['0', '1', '1', '1', '1', '1', '0', '1', '1', '0', '0', '0', '1', '1']\n",
            "Generation:  47 Total price:  22194.36 Space:  2.8818899 Chromosome:  ['0', '1', '1', '1', '1', '0', '0', '1', '1', '0', '0', '1', '1', '1']\n",
            "Generation:  48 Total price:  23494.370000000003 Space:  2.0153899 Chromosome:  ['0', '1', '1', '1', '1', '1', '0', '1', '1', '0', '0', '0', '1', '1']\n",
            "Generation:  49 Total price:  23494.370000000003 Space:  2.0153899 Chromosome:  ['0', '1', '1', '1', '1', '1', '0', '1', '1', '0', '0', '0', '1', '1']\n",
            "Generation:  50 Total price:  23494.370000000003 Space:  2.0153899 Chromosome:  ['0', '1', '1', '1', '1', '1', '0', '1', '1', '0', '0', '0', '1', '1']\n",
            "Generation:  51 Total price:  24494.270000000004 Space:  2.7663899 Chromosome:  ['1', '1', '1', '1', '1', '1', '0', '1', '1', '0', '0', '0', '1', '1']\n",
            "Generation:  52 Total price:  24494.270000000004 Space:  2.7663899 Chromosome:  ['1', '1', '1', '1', '1', '1', '0', '1', '1', '0', '0', '0', '1', '1']\n",
            "Generation:  53 Total price:  24494.270000000004 Space:  2.7663899 Chromosome:  ['1', '1', '1', '1', '1', '1', '0', '1', '1', '0', '0', '0', '1', '1']\n",
            "Generation:  54 Total price:  23494.370000000003 Space:  2.0153899 Chromosome:  ['0', '1', '1', '1', '1', '1', '0', '1', '1', '0', '0', '0', '1', '1']\n",
            "Generation:  55 Total price:  23793.660000000003 Space:  2.0472899 Chromosome:  ['0', '1', '1', '1', '1', '1', '0', '1', '1', '1', '0', '0', '1', '1']\n",
            "Generation:  56 Total price:  24694.260000000002 Space:  2.8853899 Chromosome:  ['0', '1', '1', '1', '1', '1', '0', '1', '1', '0', '0', '1', '1', '1']\n",
            "Generation:  57 Total price:  22194.36 Space:  2.8818899 Chromosome:  ['0', '1', '1', '1', '1', '0', '0', '1', '1', '0', '0', '1', '1', '1']\n",
            "Generation:  58 Total price:  23494.370000000003 Space:  2.0153899 Chromosome:  ['0', '1', '1', '1', '1', '1', '0', '1', '1', '0', '0', '0', '1', '1']\n",
            "Generation:  59 Total price:  23793.660000000003 Space:  2.0472899 Chromosome:  ['0', '1', '1', '1', '1', '1', '0', '1', '1', '1', '0', '0', '1', '1']\n",
            "Generation:  60 Total price:  24343.370000000003 Space:  2.6503899000000004 Chromosome:  ['0', '1', '1', '1', '1', '1', '0', '1', '1', '0', '1', '0', '1', '1']\n",
            "Generation:  61 Total price:  24343.370000000003 Space:  2.6503899000000004 Chromosome:  ['0', '1', '1', '1', '1', '1', '0', '1', '1', '0', '1', '0', '1', '1']\n",
            "Generation:  62 Total price:  24343.370000000003 Space:  2.6503899000000004 Chromosome:  ['0', '1', '1', '1', '1', '1', '0', '1', '1', '0', '1', '0', '1', '1']\n",
            "Generation:  63 Total price:  24343.370000000003 Space:  2.6503899000000004 Chromosome:  ['0', '1', '1', '1', '1', '1', '0', '1', '1', '0', '1', '0', '1', '1']\n",
            "Generation:  64 Total price:  24343.370000000003 Space:  2.6503899000000004 Chromosome:  ['0', '1', '1', '1', '1', '1', '0', '1', '1', '0', '1', '0', '1', '1']\n",
            "Generation:  65 Total price:  24343.370000000003 Space:  2.6503899000000004 Chromosome:  ['0', '1', '1', '1', '1', '1', '0', '1', '1', '0', '1', '0', '1', '1']\n",
            "Generation:  66 Total price:  24694.260000000002 Space:  2.8853899 Chromosome:  ['0', '1', '1', '1', '1', '1', '0', '1', '1', '0', '0', '1', '1', '1']\n",
            "Generation:  67 Total price:  23793.660000000003 Space:  2.0472899 Chromosome:  ['0', '1', '1', '1', '1', '1', '0', '1', '1', '1', '0', '0', '1', '1']\n",
            "Generation:  68 Total price:  23793.660000000003 Space:  2.0472899 Chromosome:  ['0', '1', '1', '1', '1', '1', '0', '1', '1', '1', '0', '0', '1', '1']\n",
            "Generation:  69 Total price:  24694.260000000002 Space:  2.8853899 Chromosome:  ['0', '1', '1', '1', '1', '1', '0', '1', '1', '0', '0', '1', '1', '1']\n",
            "Generation:  70 Total price:  24993.550000000003 Space:  2.9172899 Chromosome:  ['0', '1', '1', '1', '1', '1', '0', '1', '1', '1', '0', '1', '1', '1']\n",
            "Generation:  71 Total price:  24343.370000000003 Space:  2.6503899000000004 Chromosome:  ['0', '1', '1', '1', '1', '1', '0', '1', '1', '0', '1', '0', '1', '1']\n",
            "Generation:  72 Total price:  23684.900000000005 Space:  2.5008898999999998 Chromosome:  ['0', '1', '1', '1', '1', '1', '1', '0', '1', '1', '0', '0', '1', '1']\n",
            "Generation:  73 Total price:  24684.890000000003 Space:  2.8748899000000003 Chromosome:  ['0', '1', '1', '1', '1', '1', '0', '0', '1', '1', '0', '1', '1', '1']\n",
            "Generation:  74 Total price:  24684.890000000003 Space:  2.8748899000000003 Chromosome:  ['0', '1', '1', '1', '1', '1', '0', '0', '1', '1', '0', '1', '1', '1']\n",
            "Generation:  75 Total price:  23694.270000000004 Space:  2.5113898999999997 Chromosome:  ['0', '1', '1', '1', '1', '1', '1', '1', '1', '0', '0', '0', '1', '1']\n",
            "Generation:  76 Total price:  24484.900000000005 Space:  2.7558899000000006 Chromosome:  ['1', '1', '1', '1', '1', '1', '0', '0', '1', '1', '0', '0', '1', '1']\n",
            "Generation:  77 Total price:  24494.270000000004 Space:  2.7663899 Chromosome:  ['1', '1', '1', '1', '1', '1', '0', '1', '1', '0', '0', '0', '1', '1']\n",
            "Generation:  78 Total price:  24694.260000000002 Space:  2.8853899 Chromosome:  ['0', '1', '1', '1', '1', '1', '0', '1', '1', '0', '0', '1', '1', '1']\n",
            "Generation:  79 Total price:  24694.260000000002 Space:  2.8853899 Chromosome:  ['0', '1', '1', '1', '1', '1', '0', '1', '1', '0', '0', '1', '1', '1']\n",
            "Generation:  80 Total price:  24494.270000000004 Space:  2.7663899 Chromosome:  ['1', '1', '1', '1', '1', '1', '0', '1', '1', '0', '0', '0', '1', '1']\n",
            "Generation:  81 Total price:  24793.560000000005 Space:  2.7982899000000003 Chromosome:  ['1', '1', '1', '1', '1', '1', '0', '1', '1', '1', '0', '0', '1', '1']\n",
            "Generation:  82 Total price:  24793.560000000005 Space:  2.7982899000000003 Chromosome:  ['1', '1', '1', '1', '1', '1', '0', '1', '1', '1', '0', '0', '1', '1']\n",
            "Generation:  83 Total price:  24793.560000000005 Space:  2.7982899000000003 Chromosome:  ['1', '1', '1', '1', '1', '1', '0', '1', '1', '1', '0', '0', '1', '1']\n",
            "Generation:  84 Total price:  24793.560000000005 Space:  2.7982899000000003 Chromosome:  ['1', '1', '1', '1', '1', '1', '0', '1', '1', '1', '0', '0', '1', '1']\n",
            "Generation:  85 Total price:  24363.660000000003 Space:  2.7438899 Chromosome:  ['1', '1', '1', '1', '1', '1', '0', '1', '0', '1', '0', '0', '1', '1']\n",
            "Generation:  86 Total price:  24494.270000000004 Space:  2.7663899 Chromosome:  ['1', '1', '1', '1', '1', '1', '0', '1', '1', '0', '0', '0', '1', '1']\n",
            "Generation:  87 Total price:  24793.560000000005 Space:  2.7982899000000003 Chromosome:  ['1', '1', '1', '1', '1', '1', '0', '1', '1', '1', '0', '0', '1', '1']\n",
            "Generation:  88 Total price:  24793.560000000005 Space:  2.7982899000000003 Chromosome:  ['1', '1', '1', '1', '1', '1', '0', '1', '1', '1', '0', '0', '1', '1']\n",
            "Generation:  89 Total price:  24793.560000000005 Space:  2.7982899000000003 Chromosome:  ['1', '1', '1', '1', '1', '1', '0', '1', '1', '1', '0', '0', '1', '1']\n",
            "Generation:  90 Total price:  24494.270000000004 Space:  2.7663899 Chromosome:  ['1', '1', '1', '1', '1', '1', '0', '1', '1', '0', '0', '0', '1', '1']\n",
            "Generation:  91 Total price:  24793.560000000005 Space:  2.7982899000000003 Chromosome:  ['1', '1', '1', '1', '1', '1', '0', '1', '1', '1', '0', '0', '1', '1']\n",
            "Generation:  92 Total price:  24793.560000000005 Space:  2.7982899000000003 Chromosome:  ['1', '1', '1', '1', '1', '1', '0', '1', '1', '1', '0', '0', '1', '1']\n",
            "Generation:  93 Total price:  24494.270000000004 Space:  2.7663899 Chromosome:  ['1', '1', '1', '1', '1', '1', '0', '1', '1', '0', '0', '0', '1', '1']\n",
            "Generation:  94 Total price:  24494.270000000004 Space:  2.7663899 Chromosome:  ['1', '1', '1', '1', '1', '1', '0', '1', '1', '0', '0', '0', '1', '1']\n",
            "Generation:  95 Total price:  24494.270000000004 Space:  2.7663899 Chromosome:  ['1', '1', '1', '1', '1', '1', '0', '1', '1', '0', '0', '0', '1', '1']\n",
            "Generation:  96 Total price:  24793.560000000005 Space:  2.7982899000000003 Chromosome:  ['1', '1', '1', '1', '1', '1', '0', '1', '1', '1', '0', '0', '1', '1']\n",
            "Generation:  97 Total price:  24494.270000000004 Space:  2.7663899 Chromosome:  ['1', '1', '1', '1', '1', '1', '0', '1', '1', '0', '0', '0', '1', '1']\n",
            "Generation:  98 Total price:  24494.270000000004 Space:  2.7663899 Chromosome:  ['1', '1', '1', '1', '1', '1', '0', '1', '1', '0', '0', '0', '1', '1']\n",
            "Generation:  99 Total price:  24494.270000000004 Space:  2.7663899 Chromosome:  ['1', '1', '1', '1', '1', '1', '0', '1', '1', '0', '0', '0', '1', '1']\n",
            "Generation:  100 Total price:  24185.610000000004 Space:  2.7239899000000003 Chromosome:  ['1', '1', '1', '1', '1', '1', '0', '0', '1', '0', '0', '0', '1', '1']\n",
            "**** Best solution - Generation:  70\n",
            "Total price:  24993.550000000003  Space:  2.9172899\n",
            " Chromosome:  ['0', '1', '1', '1', '1', '1', '0', '1', '1', '1', '0', '1', '1', '1']\n",
            "Final chromosome:  ['0', '1', '1', '1', '1', '1', '0', '1', '1', '1', '0', '1', '1', '1']\n",
            "Name:  Cell phone  - Price:  2911.12\n",
            "Name:  TV 55'   - Price:  4346.99\n",
            "Name:  TV 50'   - Price:  3999.9\n",
            "Name:  TV 42'   - Price:  2999.0\n",
            "Name:  Notebook A  - Price:  2499.9\n",
            "Name:  Microwave A  - Price:  308.66\n",
            "Name:  Microwave B  - Price:  429.9\n",
            "Name:  Microwave C  - Price:  299.29\n",
            "Name:  Refrigerator C  - Price:  1199.89\n",
            "Name:  Notebook B  - Price:  1999.9\n",
            "Name:  Notebook C  - Price:  3999.0\n"
          ]
        }
      ]
    },
    {
      "cell_type": "code",
      "source": [
        "for value in ga.list_of_solutions:\n",
        "  print(value)"
      ],
      "metadata": {
        "id": "o4H3yS0dI0Vh",
        "colab": {
          "base_uri": "https://localhost:8080/"
        },
        "outputId": "7736ccbf-40f5-4afc-fa6e-c0e19463d40c"
      },
      "execution_count": null,
      "outputs": [
        {
          "output_type": "stream",
          "name": "stdout",
          "text": [
            "16795.77\n",
            "18075.79\n",
            "17584.149999999998\n",
            "18075.79\n",
            "17296.57\n",
            "18996.379999999997\n",
            "20147.28\n",
            "20347.18\n",
            "20783.149999999998\n",
            "19838.62\n",
            "20566.38\n",
            "20573.88\n",
            "20573.88\n",
            "23343.370000000003\n",
            "20274.589999999997\n",
            "23343.370000000003\n",
            "20583.25\n",
            "20583.25\n",
            "22494.370000000003\n",
            "22494.370000000003\n",
            "24494.270000000004\n",
            "24494.270000000004\n",
            "24494.270000000004\n",
            "24494.270000000004\n",
            "24494.270000000004\n",
            "24494.270000000004\n",
            "22494.370000000003\n",
            "22343.47\n",
            "23494.370000000003\n",
            "23064.47\n",
            "21694.370000000003\n",
            "21494.47\n",
            "21494.47\n",
            "23694.270000000004\n",
            "23694.270000000004\n",
            "23694.270000000004\n",
            "21494.47\n",
            "21494.47\n",
            "21494.47\n",
            "24694.260000000002\n",
            "23494.370000000003\n",
            "23494.370000000003\n",
            "23494.370000000003\n",
            "23494.370000000003\n",
            "23494.370000000003\n",
            "23494.370000000003\n",
            "23494.370000000003\n",
            "22194.36\n",
            "23494.370000000003\n",
            "23494.370000000003\n",
            "23494.370000000003\n",
            "24494.270000000004\n",
            "24494.270000000004\n",
            "24494.270000000004\n",
            "23494.370000000003\n",
            "23793.660000000003\n",
            "24694.260000000002\n",
            "22194.36\n",
            "23494.370000000003\n",
            "23793.660000000003\n",
            "24343.370000000003\n",
            "24343.370000000003\n",
            "24343.370000000003\n",
            "24343.370000000003\n",
            "24343.370000000003\n",
            "24343.370000000003\n",
            "24694.260000000002\n",
            "23793.660000000003\n",
            "23793.660000000003\n",
            "24694.260000000002\n",
            "24993.550000000003\n",
            "24343.370000000003\n",
            "23684.900000000005\n",
            "24684.890000000003\n",
            "24684.890000000003\n",
            "23694.270000000004\n",
            "24484.900000000005\n",
            "24494.270000000004\n",
            "24694.260000000002\n",
            "24694.260000000002\n",
            "24494.270000000004\n",
            "24793.560000000005\n",
            "24793.560000000005\n",
            "24793.560000000005\n",
            "24793.560000000005\n",
            "24363.660000000003\n",
            "24494.270000000004\n",
            "24793.560000000005\n",
            "24793.560000000005\n",
            "24793.560000000005\n",
            "24494.270000000004\n",
            "24793.560000000005\n",
            "24793.560000000005\n",
            "24494.270000000004\n",
            "24494.270000000004\n",
            "24494.270000000004\n",
            "24793.560000000005\n",
            "24494.270000000004\n",
            "24494.270000000004\n",
            "24494.270000000004\n",
            "24185.610000000004\n"
          ]
        }
      ]
    },
    {
      "cell_type": "code",
      "source": [
        "import plotly.express as px\n",
        "figure = px.line(x = range(0,101), y = ga.list_of_solutions, title = 'Genetic algorithm results')\n",
        "figure.show()"
      ],
      "metadata": {
        "id": "_h22kDCMWY0H",
        "colab": {
          "base_uri": "https://localhost:8080/",
          "height": 542
        },
        "outputId": "00579b31-c29d-405a-f8a5-96a55bb2a791"
      },
      "execution_count": null,
      "outputs": [
        {
          "output_type": "display_data",
          "data": {
            "text/html": [
              "<html>\n",
              "<head><meta charset=\"utf-8\" /></head>\n",
              "<body>\n",
              "    <div>            <script src=\"https://cdnjs.cloudflare.com/ajax/libs/mathjax/2.7.5/MathJax.js?config=TeX-AMS-MML_SVG\"></script><script type=\"text/javascript\">if (window.MathJax && window.MathJax.Hub && window.MathJax.Hub.Config) {window.MathJax.Hub.Config({SVG: {font: \"STIX-Web\"}});}</script>                <script type=\"text/javascript\">window.PlotlyConfig = {MathJaxConfig: 'local'};</script>\n",
              "        <script charset=\"utf-8\" src=\"https://cdn.plot.ly/plotly-2.35.2.min.js\"></script>                <div id=\"96979676-be06-4e5c-9fb8-ba84229c97f3\" class=\"plotly-graph-div\" style=\"height:525px; width:100%;\"></div>            <script type=\"text/javascript\">                                    window.PLOTLYENV=window.PLOTLYENV || {};                                    if (document.getElementById(\"96979676-be06-4e5c-9fb8-ba84229c97f3\")) {                    Plotly.newPlot(                        \"96979676-be06-4e5c-9fb8-ba84229c97f3\",                        [{\"hovertemplate\":\"x=%{x}\\u003cbr\\u003ey=%{y}\\u003cextra\\u003e\\u003c\\u002fextra\\u003e\",\"legendgroup\":\"\",\"line\":{\"color\":\"#636efa\",\"dash\":\"solid\"},\"marker\":{\"symbol\":\"circle\"},\"mode\":\"lines\",\"name\":\"\",\"orientation\":\"v\",\"showlegend\":false,\"x\":[0,1,2,3,4,5,6,7,8,9,10,11,12,13,14,15,16,17,18,19,20,21,22,23,24,25,26,27,28,29,30,31,32,33,34,35,36,37,38,39,40,41,42,43,44,45,46,47,48,49,50,51,52,53,54,55,56,57,58,59,60,61,62,63,64,65,66,67,68,69,70,71,72,73,74,75,76,77,78,79,80,81,82,83,84,85,86,87,88,89,90,91,92,93,94,95,96,97,98,99,100],\"xaxis\":\"x\",\"y\":[16795.77,18075.79,17584.149999999998,18075.79,17296.57,18996.379999999997,20147.28,20347.18,20783.149999999998,19838.62,20566.38,20573.88,20573.88,23343.370000000003,20274.589999999997,23343.370000000003,20583.25,20583.25,22494.370000000003,22494.370000000003,24494.270000000004,24494.270000000004,24494.270000000004,24494.270000000004,24494.270000000004,24494.270000000004,22494.370000000003,22343.47,23494.370000000003,23064.47,21694.370000000003,21494.47,21494.47,23694.270000000004,23694.270000000004,23694.270000000004,21494.47,21494.47,21494.47,24694.260000000002,23494.370000000003,23494.370000000003,23494.370000000003,23494.370000000003,23494.370000000003,23494.370000000003,23494.370000000003,22194.36,23494.370000000003,23494.370000000003,23494.370000000003,24494.270000000004,24494.270000000004,24494.270000000004,23494.370000000003,23793.660000000003,24694.260000000002,22194.36,23494.370000000003,23793.660000000003,24343.370000000003,24343.370000000003,24343.370000000003,24343.370000000003,24343.370000000003,24343.370000000003,24694.260000000002,23793.660000000003,23793.660000000003,24694.260000000002,24993.550000000003,24343.370000000003,23684.900000000005,24684.890000000003,24684.890000000003,23694.270000000004,24484.900000000005,24494.270000000004,24694.260000000002,24694.260000000002,24494.270000000004,24793.560000000005,24793.560000000005,24793.560000000005,24793.560000000005,24363.660000000003,24494.270000000004,24793.560000000005,24793.560000000005,24793.560000000005,24494.270000000004,24793.560000000005,24793.560000000005,24494.270000000004,24494.270000000004,24494.270000000004,24793.560000000005,24494.270000000004,24494.270000000004,24494.270000000004,24185.610000000004],\"yaxis\":\"y\",\"type\":\"scatter\"}],                        {\"template\":{\"data\":{\"histogram2dcontour\":[{\"type\":\"histogram2dcontour\",\"colorbar\":{\"outlinewidth\":0,\"ticks\":\"\"},\"colorscale\":[[0.0,\"#0d0887\"],[0.1111111111111111,\"#46039f\"],[0.2222222222222222,\"#7201a8\"],[0.3333333333333333,\"#9c179e\"],[0.4444444444444444,\"#bd3786\"],[0.5555555555555556,\"#d8576b\"],[0.6666666666666666,\"#ed7953\"],[0.7777777777777778,\"#fb9f3a\"],[0.8888888888888888,\"#fdca26\"],[1.0,\"#f0f921\"]]}],\"choropleth\":[{\"type\":\"choropleth\",\"colorbar\":{\"outlinewidth\":0,\"ticks\":\"\"}}],\"histogram2d\":[{\"type\":\"histogram2d\",\"colorbar\":{\"outlinewidth\":0,\"ticks\":\"\"},\"colorscale\":[[0.0,\"#0d0887\"],[0.1111111111111111,\"#46039f\"],[0.2222222222222222,\"#7201a8\"],[0.3333333333333333,\"#9c179e\"],[0.4444444444444444,\"#bd3786\"],[0.5555555555555556,\"#d8576b\"],[0.6666666666666666,\"#ed7953\"],[0.7777777777777778,\"#fb9f3a\"],[0.8888888888888888,\"#fdca26\"],[1.0,\"#f0f921\"]]}],\"heatmap\":[{\"type\":\"heatmap\",\"colorbar\":{\"outlinewidth\":0,\"ticks\":\"\"},\"colorscale\":[[0.0,\"#0d0887\"],[0.1111111111111111,\"#46039f\"],[0.2222222222222222,\"#7201a8\"],[0.3333333333333333,\"#9c179e\"],[0.4444444444444444,\"#bd3786\"],[0.5555555555555556,\"#d8576b\"],[0.6666666666666666,\"#ed7953\"],[0.7777777777777778,\"#fb9f3a\"],[0.8888888888888888,\"#fdca26\"],[1.0,\"#f0f921\"]]}],\"heatmapgl\":[{\"type\":\"heatmapgl\",\"colorbar\":{\"outlinewidth\":0,\"ticks\":\"\"},\"colorscale\":[[0.0,\"#0d0887\"],[0.1111111111111111,\"#46039f\"],[0.2222222222222222,\"#7201a8\"],[0.3333333333333333,\"#9c179e\"],[0.4444444444444444,\"#bd3786\"],[0.5555555555555556,\"#d8576b\"],[0.6666666666666666,\"#ed7953\"],[0.7777777777777778,\"#fb9f3a\"],[0.8888888888888888,\"#fdca26\"],[1.0,\"#f0f921\"]]}],\"contourcarpet\":[{\"type\":\"contourcarpet\",\"colorbar\":{\"outlinewidth\":0,\"ticks\":\"\"}}],\"contour\":[{\"type\":\"contour\",\"colorbar\":{\"outlinewidth\":0,\"ticks\":\"\"},\"colorscale\":[[0.0,\"#0d0887\"],[0.1111111111111111,\"#46039f\"],[0.2222222222222222,\"#7201a8\"],[0.3333333333333333,\"#9c179e\"],[0.4444444444444444,\"#bd3786\"],[0.5555555555555556,\"#d8576b\"],[0.6666666666666666,\"#ed7953\"],[0.7777777777777778,\"#fb9f3a\"],[0.8888888888888888,\"#fdca26\"],[1.0,\"#f0f921\"]]}],\"surface\":[{\"type\":\"surface\",\"colorbar\":{\"outlinewidth\":0,\"ticks\":\"\"},\"colorscale\":[[0.0,\"#0d0887\"],[0.1111111111111111,\"#46039f\"],[0.2222222222222222,\"#7201a8\"],[0.3333333333333333,\"#9c179e\"],[0.4444444444444444,\"#bd3786\"],[0.5555555555555556,\"#d8576b\"],[0.6666666666666666,\"#ed7953\"],[0.7777777777777778,\"#fb9f3a\"],[0.8888888888888888,\"#fdca26\"],[1.0,\"#f0f921\"]]}],\"mesh3d\":[{\"type\":\"mesh3d\",\"colorbar\":{\"outlinewidth\":0,\"ticks\":\"\"}}],\"scatter\":[{\"fillpattern\":{\"fillmode\":\"overlay\",\"size\":10,\"solidity\":0.2},\"type\":\"scatter\"}],\"parcoords\":[{\"type\":\"parcoords\",\"line\":{\"colorbar\":{\"outlinewidth\":0,\"ticks\":\"\"}}}],\"scatterpolargl\":[{\"type\":\"scatterpolargl\",\"marker\":{\"colorbar\":{\"outlinewidth\":0,\"ticks\":\"\"}}}],\"bar\":[{\"error_x\":{\"color\":\"#2a3f5f\"},\"error_y\":{\"color\":\"#2a3f5f\"},\"marker\":{\"line\":{\"color\":\"#E5ECF6\",\"width\":0.5},\"pattern\":{\"fillmode\":\"overlay\",\"size\":10,\"solidity\":0.2}},\"type\":\"bar\"}],\"scattergeo\":[{\"type\":\"scattergeo\",\"marker\":{\"colorbar\":{\"outlinewidth\":0,\"ticks\":\"\"}}}],\"scatterpolar\":[{\"type\":\"scatterpolar\",\"marker\":{\"colorbar\":{\"outlinewidth\":0,\"ticks\":\"\"}}}],\"histogram\":[{\"marker\":{\"pattern\":{\"fillmode\":\"overlay\",\"size\":10,\"solidity\":0.2}},\"type\":\"histogram\"}],\"scattergl\":[{\"type\":\"scattergl\",\"marker\":{\"colorbar\":{\"outlinewidth\":0,\"ticks\":\"\"}}}],\"scatter3d\":[{\"type\":\"scatter3d\",\"line\":{\"colorbar\":{\"outlinewidth\":0,\"ticks\":\"\"}},\"marker\":{\"colorbar\":{\"outlinewidth\":0,\"ticks\":\"\"}}}],\"scattermapbox\":[{\"type\":\"scattermapbox\",\"marker\":{\"colorbar\":{\"outlinewidth\":0,\"ticks\":\"\"}}}],\"scatterternary\":[{\"type\":\"scatterternary\",\"marker\":{\"colorbar\":{\"outlinewidth\":0,\"ticks\":\"\"}}}],\"scattercarpet\":[{\"type\":\"scattercarpet\",\"marker\":{\"colorbar\":{\"outlinewidth\":0,\"ticks\":\"\"}}}],\"carpet\":[{\"aaxis\":{\"endlinecolor\":\"#2a3f5f\",\"gridcolor\":\"white\",\"linecolor\":\"white\",\"minorgridcolor\":\"white\",\"startlinecolor\":\"#2a3f5f\"},\"baxis\":{\"endlinecolor\":\"#2a3f5f\",\"gridcolor\":\"white\",\"linecolor\":\"white\",\"minorgridcolor\":\"white\",\"startlinecolor\":\"#2a3f5f\"},\"type\":\"carpet\"}],\"table\":[{\"cells\":{\"fill\":{\"color\":\"#EBF0F8\"},\"line\":{\"color\":\"white\"}},\"header\":{\"fill\":{\"color\":\"#C8D4E3\"},\"line\":{\"color\":\"white\"}},\"type\":\"table\"}],\"barpolar\":[{\"marker\":{\"line\":{\"color\":\"#E5ECF6\",\"width\":0.5},\"pattern\":{\"fillmode\":\"overlay\",\"size\":10,\"solidity\":0.2}},\"type\":\"barpolar\"}],\"pie\":[{\"automargin\":true,\"type\":\"pie\"}]},\"layout\":{\"autotypenumbers\":\"strict\",\"colorway\":[\"#636efa\",\"#EF553B\",\"#00cc96\",\"#ab63fa\",\"#FFA15A\",\"#19d3f3\",\"#FF6692\",\"#B6E880\",\"#FF97FF\",\"#FECB52\"],\"font\":{\"color\":\"#2a3f5f\"},\"hovermode\":\"closest\",\"hoverlabel\":{\"align\":\"left\"},\"paper_bgcolor\":\"white\",\"plot_bgcolor\":\"#E5ECF6\",\"polar\":{\"bgcolor\":\"#E5ECF6\",\"angularaxis\":{\"gridcolor\":\"white\",\"linecolor\":\"white\",\"ticks\":\"\"},\"radialaxis\":{\"gridcolor\":\"white\",\"linecolor\":\"white\",\"ticks\":\"\"}},\"ternary\":{\"bgcolor\":\"#E5ECF6\",\"aaxis\":{\"gridcolor\":\"white\",\"linecolor\":\"white\",\"ticks\":\"\"},\"baxis\":{\"gridcolor\":\"white\",\"linecolor\":\"white\",\"ticks\":\"\"},\"caxis\":{\"gridcolor\":\"white\",\"linecolor\":\"white\",\"ticks\":\"\"}},\"coloraxis\":{\"colorbar\":{\"outlinewidth\":0,\"ticks\":\"\"}},\"colorscale\":{\"sequential\":[[0.0,\"#0d0887\"],[0.1111111111111111,\"#46039f\"],[0.2222222222222222,\"#7201a8\"],[0.3333333333333333,\"#9c179e\"],[0.4444444444444444,\"#bd3786\"],[0.5555555555555556,\"#d8576b\"],[0.6666666666666666,\"#ed7953\"],[0.7777777777777778,\"#fb9f3a\"],[0.8888888888888888,\"#fdca26\"],[1.0,\"#f0f921\"]],\"sequentialminus\":[[0.0,\"#0d0887\"],[0.1111111111111111,\"#46039f\"],[0.2222222222222222,\"#7201a8\"],[0.3333333333333333,\"#9c179e\"],[0.4444444444444444,\"#bd3786\"],[0.5555555555555556,\"#d8576b\"],[0.6666666666666666,\"#ed7953\"],[0.7777777777777778,\"#fb9f3a\"],[0.8888888888888888,\"#fdca26\"],[1.0,\"#f0f921\"]],\"diverging\":[[0,\"#8e0152\"],[0.1,\"#c51b7d\"],[0.2,\"#de77ae\"],[0.3,\"#f1b6da\"],[0.4,\"#fde0ef\"],[0.5,\"#f7f7f7\"],[0.6,\"#e6f5d0\"],[0.7,\"#b8e186\"],[0.8,\"#7fbc41\"],[0.9,\"#4d9221\"],[1,\"#276419\"]]},\"xaxis\":{\"gridcolor\":\"white\",\"linecolor\":\"white\",\"ticks\":\"\",\"title\":{\"standoff\":15},\"zerolinecolor\":\"white\",\"automargin\":true,\"zerolinewidth\":2},\"yaxis\":{\"gridcolor\":\"white\",\"linecolor\":\"white\",\"ticks\":\"\",\"title\":{\"standoff\":15},\"zerolinecolor\":\"white\",\"automargin\":true,\"zerolinewidth\":2},\"scene\":{\"xaxis\":{\"backgroundcolor\":\"#E5ECF6\",\"gridcolor\":\"white\",\"linecolor\":\"white\",\"showbackground\":true,\"ticks\":\"\",\"zerolinecolor\":\"white\",\"gridwidth\":2},\"yaxis\":{\"backgroundcolor\":\"#E5ECF6\",\"gridcolor\":\"white\",\"linecolor\":\"white\",\"showbackground\":true,\"ticks\":\"\",\"zerolinecolor\":\"white\",\"gridwidth\":2},\"zaxis\":{\"backgroundcolor\":\"#E5ECF6\",\"gridcolor\":\"white\",\"linecolor\":\"white\",\"showbackground\":true,\"ticks\":\"\",\"zerolinecolor\":\"white\",\"gridwidth\":2}},\"shapedefaults\":{\"line\":{\"color\":\"#2a3f5f\"}},\"annotationdefaults\":{\"arrowcolor\":\"#2a3f5f\",\"arrowhead\":0,\"arrowwidth\":1},\"geo\":{\"bgcolor\":\"white\",\"landcolor\":\"#E5ECF6\",\"subunitcolor\":\"white\",\"showland\":true,\"showlakes\":true,\"lakecolor\":\"white\"},\"title\":{\"x\":0.05},\"mapbox\":{\"style\":\"light\"}}},\"xaxis\":{\"anchor\":\"y\",\"domain\":[0.0,1.0],\"title\":{\"text\":\"x\"}},\"yaxis\":{\"anchor\":\"x\",\"domain\":[0.0,1.0],\"title\":{\"text\":\"y\"}},\"legend\":{\"tracegroupgap\":0},\"title\":{\"text\":\"Genetic algorithm results\"}},                        {\"responsive\": true}                    ).then(function(){\n",
              "                            \n",
              "var gd = document.getElementById('96979676-be06-4e5c-9fb8-ba84229c97f3');\n",
              "var x = new MutationObserver(function (mutations, observer) {{\n",
              "        var display = window.getComputedStyle(gd).display;\n",
              "        if (!display || display === 'none') {{\n",
              "            console.log([gd, 'removed!']);\n",
              "            Plotly.purge(gd);\n",
              "            observer.disconnect();\n",
              "        }}\n",
              "}});\n",
              "\n",
              "// Listen for the removal of the full notebook cells\n",
              "var notebookContainer = gd.closest('#notebook-container');\n",
              "if (notebookContainer) {{\n",
              "    x.observe(notebookContainer, {childList: true});\n",
              "}}\n",
              "\n",
              "// Listen for the clearing of the current output cell\n",
              "var outputEl = gd.closest('.output');\n",
              "if (outputEl) {{\n",
              "    x.observe(outputEl, {childList: true});\n",
              "}}\n",
              "\n",
              "                        })                };                            </script>        </div>\n",
              "</body>\n",
              "</html>"
            ]
          },
          "metadata": {}
        }
      ]
    },
    {
      "cell_type": "markdown",
      "source": [
        "# **DEAP Library**\n",
        "\n",
        "Genetic Algorithms pre-implemented."
      ],
      "metadata": {
        "id": "B5jwrYGVOD0n"
      }
    },
    {
      "cell_type": "code",
      "source": [
        "!pip install deap"
      ],
      "metadata": {
        "colab": {
          "base_uri": "https://localhost:8080/"
        },
        "id": "P0g7lZeuHh1e",
        "outputId": "c2defc4a-c05c-427f-f265-09e2d987895e"
      },
      "execution_count": 13,
      "outputs": [
        {
          "output_type": "stream",
          "name": "stdout",
          "text": [
            "Collecting deap\n",
            "  Downloading deap-1.4.3-cp311-cp311-manylinux_2_5_x86_64.manylinux1_x86_64.manylinux_2_17_x86_64.manylinux2014_x86_64.whl.metadata (13 kB)\n",
            "Requirement already satisfied: numpy in /usr/local/lib/python3.11/dist-packages (from deap) (2.0.2)\n",
            "Downloading deap-1.4.3-cp311-cp311-manylinux_2_5_x86_64.manylinux1_x86_64.manylinux_2_17_x86_64.manylinux2014_x86_64.whl (135 kB)\n",
            "\u001b[2K   \u001b[90m━━━━━━━━━━━━━━━━━━━━━━━━━━━━━━━━━━━━━━━━\u001b[0m \u001b[32m135.6/135.6 kB\u001b[0m \u001b[31m1.6 MB/s\u001b[0m eta \u001b[36m0:00:00\u001b[0m\n",
            "\u001b[?25hInstalling collected packages: deap\n",
            "Successfully installed deap-1.4.3\n"
          ]
        }
      ]
    },
    {
      "cell_type": "code",
      "source": [
        "class Product():\n",
        "    def __init__(self, name, space, price):\n",
        "        self.name = name\n",
        "        self.space = space\n",
        "        self.price = price"
      ],
      "metadata": {
        "id": "mAhfTds2P4It"
      },
      "execution_count": null,
      "outputs": []
    },
    {
      "cell_type": "code",
      "source": [
        "products_list = []\n",
        "products_list.append(Product(\"Refrigerator A\", 0.751, 999.90))\n",
        "products_list.append(Product(\"Cell phone\", 0.0000899, 2911.12))\n",
        "products_list.append(Product(\"TV 55' \", 0.400, 4346.99))\n",
        "products_list.append(Product(\"TV 50' \", 0.290, 3999.90))\n",
        "products_list.append(Product(\"TV 42' \", 0.200, 2999.00))\n",
        "products_list.append(Product(\"Notebook A\", 0.00350, 2499.90))\n",
        "products_list.append(Product(\"Ventilator\", 0.496, 199.90))\n",
        "products_list.append(Product(\"Microwave A\", 0.0424, 308.66))\n",
        "products_list.append(Product(\"Microwave B\", 0.0544, 429.90))\n",
        "products_list.append(Product(\"Microwave C\", 0.0319, 299.29))\n",
        "products_list.append(Product(\"Refrigerator B\", 0.635, 849.00))\n",
        "products_list.append(Product(\"Refrigerator C\", 0.870, 1199.89))\n",
        "products_list.append(Product(\"Notebook B\", 0.498, 1999.90))\n",
        "products_list.append(Product(\"Notebook C\", 0.527, 3999.00))\n",
        "spaces = []\n",
        "prices = []\n",
        "names = []\n",
        "for product in products_list:\n",
        "  spaces.append(product.space)\n",
        "  prices.append(product.price)\n",
        "  names.append(product.name)\n",
        "limit = 3\n",
        "population_size = 20\n",
        "mutation_probability = 0.01\n",
        "number_of_generations = 100"
      ],
      "metadata": {
        "id": "mxdIVM9tsI-u"
      },
      "execution_count": null,
      "outputs": []
    },
    {
      "cell_type": "code",
      "source": [
        "import numpy\n",
        "import random\n",
        "from deap import base\n",
        "from deap import creator\n",
        "from deap import algorithms\n",
        "from deap import tools"
      ],
      "metadata": {
        "id": "Au0ayJw8sKWW"
      },
      "execution_count": null,
      "outputs": []
    },
    {
      "cell_type": "code",
      "source": [
        "# [0, 1, 1, 1, 1, 1, 0, 1, 1, 1, 0, 1, 1, 1]\n",
        "def fitness(solution):\n",
        "  cost = 0\n",
        "  sum_space = 0\n",
        "  for i in range(len(solution)):\n",
        "    if solution[i] == 1:\n",
        "      cost += prices[i]\n",
        "      sum_space += spaces[i]\n",
        "  if sum_space > limit:\n",
        "    cost = 1\n",
        "  return cost,"
      ],
      "metadata": {
        "id": "Pe_LV_ALsPaO"
      },
      "execution_count": null,
      "outputs": []
    },
    {
      "cell_type": "code",
      "source": [
        "toolbox = base.Toolbox()\n",
        "# Since we want to maximize cost : use 'FitnessMax'\n",
        "creator.create('FitnessMax', base.Fitness, weights=(1.0,))\n",
        "creator.create('Individual', list, fitness=creator.FitnessMax)"
      ],
      "metadata": {
        "colab": {
          "base_uri": "https://localhost:8080/"
        },
        "id": "nztyNEzSsSeG",
        "outputId": "a03f0540-3459-472f-871b-70396df85a64"
      },
      "execution_count": null,
      "outputs": [
        {
          "output_type": "stream",
          "name": "stderr",
          "text": [
            "/usr/local/lib/python3.11/dist-packages/deap/creator.py:185: RuntimeWarning: A class named 'FitnessMax' has already been created and it will be overwritten. Consider deleting previous creation of that class or rename it.\n",
            "  warnings.warn(\"A class named '{0}' has already been created and it \"\n",
            "/usr/local/lib/python3.11/dist-packages/deap/creator.py:185: RuntimeWarning: A class named 'Individual' has already been created and it will be overwritten. Consider deleting previous creation of that class or rename it.\n",
            "  warnings.warn(\"A class named '{0}' has already been created and it \"\n"
          ]
        }
      ]
    },
    {
      "cell_type": "code",
      "source": [
        "# Creating the Chromosome\n",
        "\n",
        "# Every value in a chromosome is in 0-1\n",
        "toolbox.register('attr_bool', random.randint, 0, 1)\n",
        "# It will be random and 14 0 or 1 length\n",
        "toolbox.register('individual', tools.initRepeat, creator.Individual, toolbox.attr_bool, n=14)\n",
        "# Create a population with individuals\n",
        "toolbox.register('population', tools.initRepeat, list, toolbox.individual)\n",
        "# Evaluation based on fitness function\n",
        "toolbox.register('evaluate', fitness)\n",
        "# Cross over from one crossing point\n",
        "toolbox.register('mate', tools.cxOnePoint)\n",
        "# Mutate by replacinge 1 with 0 and 0 with 1 plus probibility with 0.01\n",
        "toolbox.register('mutate', tools.mutFlipBit, indpb = 0.01)\n",
        "# Random selection\n",
        "toolbox.register('select', tools.selRoulette)"
      ],
      "metadata": {
        "id": "zL9ucBc9tc2O"
      },
      "execution_count": null,
      "outputs": []
    },
    {
      "cell_type": "code",
      "source": [
        "population = toolbox.population(n = 20)\n",
        "crossover_probability = 1.0\n",
        "number_of_generations = 100\n",
        "\n",
        "statistics = tools.Statistics(key = lambda individual: individual.fitness.values)\n",
        "statistics.register('max', numpy.max)\n",
        "statistics.register('min', numpy.min)\n",
        "statistics.register('med', numpy.mean)\n",
        "statistics.register('std', numpy.std)\n",
        "\n",
        "population, info = algorithms.eaSimple(population, toolbox, crossover_probability, mutation_probability,\n",
        "                                       number_of_generations, statistics)"
      ],
      "metadata": {
        "colab": {
          "base_uri": "https://localhost:8080/"
        },
        "id": "38akHk2zuaD1",
        "outputId": "89383f07-3514-4a78-c2f3-911731c7f8c5"
      },
      "execution_count": null,
      "outputs": [
        {
          "output_type": "stream",
          "name": "stdout",
          "text": [
            "gen\tnevals\tmax    \tmin\tmed    \tstd    \n",
            "0  \t20    \t21993.7\t1  \t8973.78\t7156.25\n",
            "1  \t20    \t23993.6\t1  \t12433.7\t6997.43\n",
            "2  \t20    \t22842.7\t1  \t14988.1\t5252.77\n",
            "3  \t20    \t22842.7\t1  \t16361  \t4965.09\n",
            "4  \t20    \t24212.8\t10867.9\t17646.6\t3367.48\n",
            "5  \t20    \t22913.5\t1      \t16792.3\t6762.93\n",
            "6  \t20    \t22842.7\t1      \t18115.8\t5273.53\n",
            "7  \t20    \t24212.8\t1      \t19362.7\t4860.21\n",
            "8  \t20    \t24212.8\t1      \t19715.8\t4808.77\n",
            "9  \t20    \t24212.8\t19301.7\t20797  \t1457.43\n",
            "10 \t20    \t24212.8\t19301.7\t20808.4\t1448.13\n",
            "11 \t20    \t22842.7\t19301.7\t20558.5\t1410.98\n",
            "12 \t20    \t22842.7\t19301.7\t20798.1\t1401.01\n",
            "13 \t20    \t22842.7\t19301.7\t21210.7\t1386.7 \n",
            "14 \t20    \t23212.8\t19301.7\t21675.9\t1265.06\n",
            "15 \t20    \t23642.7\t1      \t20509.8\t4936.22\n",
            "16 \t20    \t22842.7\t1      \t19757.3\t6668.31\n",
            "17 \t20    \t22842.7\t19501.6\t22268.1\t886.934\n",
            "18 \t20    \t22842.7\t19501.6\t22225.1\t873.202\n",
            "19 \t20    \t22842.7\t19931.5\t22382.2\t612.911\n",
            "20 \t20    \t22842.7\t19301.7\t22203.7\t900.833\n",
            "21 \t20    \t22842.7\t19931.5\t22400.7\t613.517\n",
            "22 \t20    \t22842.7\t19301.7\t22129.6\t1098.46\n",
            "23 \t20    \t22842.7\t19301.7\t22139.6\t1126.21\n",
            "24 \t20    \t22842.7\t19301.7\t21961  \t1218.19\n",
            "25 \t20    \t22842.7\t19301.7\t21869.9\t1355.83\n",
            "26 \t20    \t22842.7\t19501.6\t21705.9\t1315.81\n",
            "27 \t20    \t22842.7\t19731.6\t21657.8\t1293.61\n",
            "28 \t20    \t22842.7\t19501.6\t21814.9\t1331.65\n",
            "29 \t20    \t22842.7\t19731.6\t21712.3\t1374.86\n",
            "30 \t20    \t22842.7\t19501.6\t21305.6\t1481.83\n",
            "31 \t20    \t22842.7\t19501.6\t21003  \t1444.61\n",
            "32 \t20    \t22842.7\t19501.6\t21439.7\t1474.26\n",
            "33 \t20    \t22842.7\t19301.7\t20983  \t1443.52\n",
            "34 \t20    \t22842.7\t19301.7\t21429.7\t1510.32\n",
            "35 \t20    \t22842.7\t19501.6\t21335.6\t1471.3 \n",
            "36 \t20    \t22842.7\t19501.6\t21742.3\t1399.97\n",
            "37 \t20    \t22842.7\t19501.6\t21897.9\t1360.99\n",
            "38 \t20    \t22842.7\t19731.6\t21899.4\t1335.27\n",
            "39 \t20    \t22842.7\t19731.6\t22064.9\t1257.75\n",
            "40 \t20    \t22842.7\t19931.5\t21783.8\t1361.21\n",
            "41 \t20    \t22842.7\t19731.6\t21743.8\t1353.82\n",
            "42 \t20    \t22842.7\t19731.6\t21462.7\t1428.16\n",
            "43 \t20    \t22842.7\t15932.5\t21523.9\t1839.9 \n",
            "44 \t20    \t22842.7\t18843.7\t21323.9\t1566.3 \n",
            "45 \t20    \t22842.7\t19731.6\t22316  \t1034.43\n",
            "46 \t20    \t22842.7\t19731.6\t22346  \t1046.29\n",
            "47 \t20    \t22842.7\t19931.5\t22094.9\t1250.4 \n",
            "48 \t20    \t22842.7\t19931.5\t22230.5\t1151.57\n",
            "49 \t20    \t22842.7\t19931.5\t22210.5\t1142.47\n",
            "50 \t20    \t22842.7\t19931.5\t22336  \t1014.15\n",
            "51 \t20    \t22842.7\t19731.6\t22471.6\t885.407\n",
            "52 \t20    \t22842.7\t19731.6\t22326  \t1066.14\n",
            "53 \t20    \t22842.7\t19731.6\t22316  \t1089.23\n",
            "54 \t20    \t22842.7\t19931.5\t22471.6\t851.911\n",
            "55 \t20    \t22842.7\t19931.5\t22637.1\t627.278\n",
            "56 \t20    \t22842.7\t22642.8\t22812.7\t71.3786\n",
            "57 \t20    \t22842.7\t22642.8\t22782.7\t91.6057\n",
            "58 \t20    \t22842.7\t22642.8\t22762.7\t97.9306\n",
            "59 \t20    \t22842.7\t22642.8\t22742.7\t99.95  \n",
            "60 \t20    \t22842.7\t22642.8\t22762.7\t97.9306\n",
            "61 \t20    \t22842.7\t22642.8\t22772.7\t95.3462\n",
            "62 \t20    \t22842.7\t22642.8\t22702.7\t91.6057\n",
            "63 \t20    \t22842.7\t22642.8\t22682.7\t79.96  \n",
            "64 \t20    \t22842.7\t22642.8\t22682.7\t79.96  \n",
            "65 \t20    \t22842.7\t22642.8\t22682.7\t79.96  \n",
            "66 \t20    \t22842.7\t22642.8\t22662.8\t59.97  \n",
            "67 \t20    \t22842.7\t22642.8\t22662.8\t59.97  \n",
            "68 \t20    \t22842.7\t22642.8\t22672.7\t71.3786\n",
            "69 \t20    \t22842.7\t22642.8\t22672.7\t71.3786\n",
            "70 \t20    \t22842.7\t22642.8\t22672.7\t71.3786\n",
            "71 \t20    \t22842.7\t22642.8\t22662.8\t59.97  \n",
            "72 \t20    \t22642.8\t22642.8\t22642.8\t0      \n",
            "73 \t20    \t22642.8\t22642.8\t22642.8\t0      \n",
            "74 \t20    \t22642.8\t22642.8\t22642.8\t0      \n",
            "75 \t20    \t22642.8\t22642.8\t22642.8\t0      \n",
            "76 \t20    \t22642.8\t22642.8\t22642.8\t0      \n",
            "77 \t20    \t22642.8\t22642.8\t22642.8\t0      \n",
            "78 \t20    \t22642.8\t22642.8\t22642.8\t0      \n",
            "79 \t20    \t22642.8\t22642.8\t22642.8\t0      \n",
            "80 \t20    \t22642.8\t22642.8\t22642.8\t0      \n",
            "81 \t20    \t22642.8\t22642.8\t22642.8\t0      \n",
            "82 \t20    \t22642.8\t22642.8\t22642.8\t0      \n",
            "83 \t20    \t22642.8\t22642.8\t22642.8\t0      \n",
            "84 \t20    \t22642.8\t22642.8\t22642.8\t0      \n",
            "85 \t20    \t22642.8\t15296.8\t22275.5\t1601.02\n",
            "86 \t20    \t22642.8\t15296.8\t22275.5\t1601.02\n",
            "87 \t20    \t22642.8\t22642.8\t22642.8\t0      \n",
            "88 \t20    \t22642.8\t22642.8\t22642.8\t0      \n",
            "89 \t20    \t22642.8\t22642.8\t22642.8\t0      \n",
            "90 \t20    \t22642.8\t22642.8\t22642.8\t0      \n",
            "91 \t20    \t22642.8\t22642.8\t22642.8\t0      \n",
            "92 \t20    \t22642.8\t22642.8\t22642.8\t0      \n",
            "93 \t20    \t22642.8\t22642.8\t22642.8\t0      \n",
            "94 \t20    \t22642.8\t22642.8\t22642.8\t0      \n",
            "95 \t20    \t22642.8\t22642.8\t22642.8\t0      \n",
            "96 \t20    \t22642.8\t22642.8\t22642.8\t0      \n",
            "97 \t20    \t22642.8\t22642.8\t22642.8\t0      \n",
            "98 \t20    \t22642.8\t22642.8\t22642.8\t0      \n",
            "99 \t20    \t22642.8\t22642.8\t22642.8\t0      \n",
            "100\t20    \t22642.8\t22642.8\t22642.8\t0      \n"
          ]
        }
      ]
    },
    {
      "cell_type": "code",
      "source": [
        "best_solutions = tools.selBest(population, 1)\n",
        "for individual in best_solutions:\n",
        "  print(individual)\n",
        "  print(individual.fitness)\n",
        "  for i in range(len(individual)):\n",
        "    if individual[i] == 1:\n",
        "      print('Name: ', names[i], ' - Price: ', prices[i])"
      ],
      "metadata": {
        "colab": {
          "base_uri": "https://localhost:8080/"
        },
        "id": "E4mHGEbCuigN",
        "outputId": "62c205cb-8f3b-458e-a1dc-7c804ee0cfd9"
      },
      "execution_count": null,
      "outputs": [
        {
          "output_type": "stream",
          "name": "stdout",
          "text": [
            "[0, 1, 1, 1, 1, 1, 0, 1, 1, 1, 1, 0, 0, 1]\n",
            "(22642.760000000002,)\n",
            "Name:  Cell phone  - Price:  2911.12\n",
            "Name:  TV 55'   - Price:  4346.99\n",
            "Name:  TV 50'   - Price:  3999.9\n",
            "Name:  TV 42'   - Price:  2999.0\n",
            "Name:  Notebook A  - Price:  2499.9\n",
            "Name:  Microwave A  - Price:  308.66\n",
            "Name:  Microwave B  - Price:  429.9\n",
            "Name:  Microwave C  - Price:  299.29\n",
            "Name:  Refrigerator B  - Price:  849.0\n",
            "Name:  Notebook C  - Price:  3999.0\n"
          ]
        }
      ]
    },
    {
      "cell_type": "code",
      "source": [
        "info.select('max')"
      ],
      "metadata": {
        "colab": {
          "base_uri": "https://localhost:8080/"
        },
        "id": "31aV0b4gvsN8",
        "outputId": "d201b40d-a2ab-4bae-c760-02954fa03bcc"
      },
      "execution_count": null,
      "outputs": [
        {
          "output_type": "execute_result",
          "data": {
            "text/plain": [
              "[np.float64(21993.660000000003),\n",
              " np.float64(23993.560000000005),\n",
              " np.float64(22842.660000000003),\n",
              " np.float64(22842.660000000003),\n",
              " np.float64(24212.760000000002),\n",
              " np.float64(22913.47),\n",
              " np.float64(22842.660000000003),\n",
              " np.float64(24212.760000000002),\n",
              " np.float64(24212.760000000002),\n",
              " np.float64(24212.760000000002),\n",
              " np.float64(24212.760000000002),\n",
              " np.float64(22842.660000000003),\n",
              " np.float64(22842.660000000003),\n",
              " np.float64(22842.660000000003),\n",
              " np.float64(23212.760000000002),\n",
              " np.float64(23642.660000000003),\n",
              " np.float64(22842.660000000003),\n",
              " np.float64(22842.660000000003),\n",
              " np.float64(22842.660000000003),\n",
              " np.float64(22842.660000000003),\n",
              " np.float64(22842.660000000003),\n",
              " np.float64(22842.660000000003),\n",
              " np.float64(22842.660000000003),\n",
              " np.float64(22842.660000000003),\n",
              " np.float64(22842.660000000003),\n",
              " np.float64(22842.660000000003),\n",
              " np.float64(22842.660000000003),\n",
              " np.float64(22842.660000000003),\n",
              " np.float64(22842.660000000003),\n",
              " np.float64(22842.660000000003),\n",
              " np.float64(22842.660000000003),\n",
              " np.float64(22842.660000000003),\n",
              " np.float64(22842.660000000003),\n",
              " np.float64(22842.660000000003),\n",
              " np.float64(22842.660000000003),\n",
              " np.float64(22842.660000000003),\n",
              " np.float64(22842.660000000003),\n",
              " np.float64(22842.660000000003),\n",
              " np.float64(22842.660000000003),\n",
              " np.float64(22842.660000000003),\n",
              " np.float64(22842.660000000003),\n",
              " np.float64(22842.660000000003),\n",
              " np.float64(22842.660000000003),\n",
              " np.float64(22842.660000000003),\n",
              " np.float64(22842.660000000003),\n",
              " np.float64(22842.660000000003),\n",
              " np.float64(22842.660000000003),\n",
              " np.float64(22842.660000000003),\n",
              " np.float64(22842.660000000003),\n",
              " np.float64(22842.660000000003),\n",
              " np.float64(22842.660000000003),\n",
              " np.float64(22842.660000000003),\n",
              " np.float64(22842.660000000003),\n",
              " np.float64(22842.660000000003),\n",
              " np.float64(22842.660000000003),\n",
              " np.float64(22842.660000000003),\n",
              " np.float64(22842.660000000003),\n",
              " np.float64(22842.660000000003),\n",
              " np.float64(22842.660000000003),\n",
              " np.float64(22842.660000000003),\n",
              " np.float64(22842.660000000003),\n",
              " np.float64(22842.660000000003),\n",
              " np.float64(22842.660000000003),\n",
              " np.float64(22842.660000000003),\n",
              " np.float64(22842.660000000003),\n",
              " np.float64(22842.660000000003),\n",
              " np.float64(22842.660000000003),\n",
              " np.float64(22842.660000000003),\n",
              " np.float64(22842.660000000003),\n",
              " np.float64(22842.660000000003),\n",
              " np.float64(22842.660000000003),\n",
              " np.float64(22842.660000000003),\n",
              " np.float64(22642.760000000002),\n",
              " np.float64(22642.760000000002),\n",
              " np.float64(22642.760000000002),\n",
              " np.float64(22642.760000000002),\n",
              " np.float64(22642.760000000002),\n",
              " np.float64(22642.760000000002),\n",
              " np.float64(22642.760000000002),\n",
              " np.float64(22642.760000000002),\n",
              " np.float64(22642.760000000002),\n",
              " np.float64(22642.760000000002),\n",
              " np.float64(22642.760000000002),\n",
              " np.float64(22642.760000000002),\n",
              " np.float64(22642.760000000002),\n",
              " np.float64(22642.760000000002),\n",
              " np.float64(22642.760000000002),\n",
              " np.float64(22642.760000000002),\n",
              " np.float64(22642.760000000002),\n",
              " np.float64(22642.760000000002),\n",
              " np.float64(22642.760000000002),\n",
              " np.float64(22642.760000000002),\n",
              " np.float64(22642.760000000002),\n",
              " np.float64(22642.760000000002),\n",
              " np.float64(22642.760000000002),\n",
              " np.float64(22642.760000000002),\n",
              " np.float64(22642.760000000002),\n",
              " np.float64(22642.760000000002),\n",
              " np.float64(22642.760000000002),\n",
              " np.float64(22642.760000000002),\n",
              " np.float64(22642.760000000002)]"
            ]
          },
          "metadata": {},
          "execution_count": 15
        }
      ]
    },
    {
      "cell_type": "code",
      "source": [
        "import plotly.express as px\n",
        "figure = px.line(x = range(0,101), y = info.select('max'), title = 'Genetic algorithm results')\n",
        "figure.show()"
      ],
      "metadata": {
        "colab": {
          "base_uri": "https://localhost:8080/",
          "height": 542
        },
        "id": "Ba7q4Y8Mvunc",
        "outputId": "130fb264-165e-41e3-ae1f-1f56b72b47fd"
      },
      "execution_count": null,
      "outputs": [
        {
          "output_type": "display_data",
          "data": {
            "text/html": [
              "<html>\n",
              "<head><meta charset=\"utf-8\" /></head>\n",
              "<body>\n",
              "    <div>            <script src=\"https://cdnjs.cloudflare.com/ajax/libs/mathjax/2.7.5/MathJax.js?config=TeX-AMS-MML_SVG\"></script><script type=\"text/javascript\">if (window.MathJax && window.MathJax.Hub && window.MathJax.Hub.Config) {window.MathJax.Hub.Config({SVG: {font: \"STIX-Web\"}});}</script>                <script type=\"text/javascript\">window.PlotlyConfig = {MathJaxConfig: 'local'};</script>\n",
              "        <script charset=\"utf-8\" src=\"https://cdn.plot.ly/plotly-2.35.2.min.js\"></script>                <div id=\"b950e488-a592-421b-adf2-9a397218b756\" class=\"plotly-graph-div\" style=\"height:525px; width:100%;\"></div>            <script type=\"text/javascript\">                                    window.PLOTLYENV=window.PLOTLYENV || {};                                    if (document.getElementById(\"b950e488-a592-421b-adf2-9a397218b756\")) {                    Plotly.newPlot(                        \"b950e488-a592-421b-adf2-9a397218b756\",                        [{\"hovertemplate\":\"x=%{x}\\u003cbr\\u003ey=%{y}\\u003cextra\\u003e\\u003c\\u002fextra\\u003e\",\"legendgroup\":\"\",\"line\":{\"color\":\"#636efa\",\"dash\":\"solid\"},\"marker\":{\"symbol\":\"circle\"},\"mode\":\"lines\",\"name\":\"\",\"orientation\":\"v\",\"showlegend\":false,\"x\":[0,1,2,3,4,5,6,7,8,9,10,11,12,13,14,15,16,17,18,19,20,21,22,23,24,25,26,27,28,29,30,31,32,33,34,35,36,37,38,39,40,41,42,43,44,45,46,47,48,49,50,51,52,53,54,55,56,57,58,59,60,61,62,63,64,65,66,67,68,69,70,71,72,73,74,75,76,77,78,79,80,81,82,83,84,85,86,87,88,89,90,91,92,93,94,95,96,97,98,99,100],\"xaxis\":\"x\",\"y\":[21993.660000000003,23993.560000000005,22842.660000000003,22842.660000000003,24212.760000000002,22913.47,22842.660000000003,24212.760000000002,24212.760000000002,24212.760000000002,24212.760000000002,22842.660000000003,22842.660000000003,22842.660000000003,23212.760000000002,23642.660000000003,22842.660000000003,22842.660000000003,22842.660000000003,22842.660000000003,22842.660000000003,22842.660000000003,22842.660000000003,22842.660000000003,22842.660000000003,22842.660000000003,22842.660000000003,22842.660000000003,22842.660000000003,22842.660000000003,22842.660000000003,22842.660000000003,22842.660000000003,22842.660000000003,22842.660000000003,22842.660000000003,22842.660000000003,22842.660000000003,22842.660000000003,22842.660000000003,22842.660000000003,22842.660000000003,22842.660000000003,22842.660000000003,22842.660000000003,22842.660000000003,22842.660000000003,22842.660000000003,22842.660000000003,22842.660000000003,22842.660000000003,22842.660000000003,22842.660000000003,22842.660000000003,22842.660000000003,22842.660000000003,22842.660000000003,22842.660000000003,22842.660000000003,22842.660000000003,22842.660000000003,22842.660000000003,22842.660000000003,22842.660000000003,22842.660000000003,22842.660000000003,22842.660000000003,22842.660000000003,22842.660000000003,22842.660000000003,22842.660000000003,22842.660000000003,22642.760000000002,22642.760000000002,22642.760000000002,22642.760000000002,22642.760000000002,22642.760000000002,22642.760000000002,22642.760000000002,22642.760000000002,22642.760000000002,22642.760000000002,22642.760000000002,22642.760000000002,22642.760000000002,22642.760000000002,22642.760000000002,22642.760000000002,22642.760000000002,22642.760000000002,22642.760000000002,22642.760000000002,22642.760000000002,22642.760000000002,22642.760000000002,22642.760000000002,22642.760000000002,22642.760000000002,22642.760000000002,22642.760000000002],\"yaxis\":\"y\",\"type\":\"scatter\"}],                        {\"template\":{\"data\":{\"histogram2dcontour\":[{\"type\":\"histogram2dcontour\",\"colorbar\":{\"outlinewidth\":0,\"ticks\":\"\"},\"colorscale\":[[0.0,\"#0d0887\"],[0.1111111111111111,\"#46039f\"],[0.2222222222222222,\"#7201a8\"],[0.3333333333333333,\"#9c179e\"],[0.4444444444444444,\"#bd3786\"],[0.5555555555555556,\"#d8576b\"],[0.6666666666666666,\"#ed7953\"],[0.7777777777777778,\"#fb9f3a\"],[0.8888888888888888,\"#fdca26\"],[1.0,\"#f0f921\"]]}],\"choropleth\":[{\"type\":\"choropleth\",\"colorbar\":{\"outlinewidth\":0,\"ticks\":\"\"}}],\"histogram2d\":[{\"type\":\"histogram2d\",\"colorbar\":{\"outlinewidth\":0,\"ticks\":\"\"},\"colorscale\":[[0.0,\"#0d0887\"],[0.1111111111111111,\"#46039f\"],[0.2222222222222222,\"#7201a8\"],[0.3333333333333333,\"#9c179e\"],[0.4444444444444444,\"#bd3786\"],[0.5555555555555556,\"#d8576b\"],[0.6666666666666666,\"#ed7953\"],[0.7777777777777778,\"#fb9f3a\"],[0.8888888888888888,\"#fdca26\"],[1.0,\"#f0f921\"]]}],\"heatmap\":[{\"type\":\"heatmap\",\"colorbar\":{\"outlinewidth\":0,\"ticks\":\"\"},\"colorscale\":[[0.0,\"#0d0887\"],[0.1111111111111111,\"#46039f\"],[0.2222222222222222,\"#7201a8\"],[0.3333333333333333,\"#9c179e\"],[0.4444444444444444,\"#bd3786\"],[0.5555555555555556,\"#d8576b\"],[0.6666666666666666,\"#ed7953\"],[0.7777777777777778,\"#fb9f3a\"],[0.8888888888888888,\"#fdca26\"],[1.0,\"#f0f921\"]]}],\"heatmapgl\":[{\"type\":\"heatmapgl\",\"colorbar\":{\"outlinewidth\":0,\"ticks\":\"\"},\"colorscale\":[[0.0,\"#0d0887\"],[0.1111111111111111,\"#46039f\"],[0.2222222222222222,\"#7201a8\"],[0.3333333333333333,\"#9c179e\"],[0.4444444444444444,\"#bd3786\"],[0.5555555555555556,\"#d8576b\"],[0.6666666666666666,\"#ed7953\"],[0.7777777777777778,\"#fb9f3a\"],[0.8888888888888888,\"#fdca26\"],[1.0,\"#f0f921\"]]}],\"contourcarpet\":[{\"type\":\"contourcarpet\",\"colorbar\":{\"outlinewidth\":0,\"ticks\":\"\"}}],\"contour\":[{\"type\":\"contour\",\"colorbar\":{\"outlinewidth\":0,\"ticks\":\"\"},\"colorscale\":[[0.0,\"#0d0887\"],[0.1111111111111111,\"#46039f\"],[0.2222222222222222,\"#7201a8\"],[0.3333333333333333,\"#9c179e\"],[0.4444444444444444,\"#bd3786\"],[0.5555555555555556,\"#d8576b\"],[0.6666666666666666,\"#ed7953\"],[0.7777777777777778,\"#fb9f3a\"],[0.8888888888888888,\"#fdca26\"],[1.0,\"#f0f921\"]]}],\"surface\":[{\"type\":\"surface\",\"colorbar\":{\"outlinewidth\":0,\"ticks\":\"\"},\"colorscale\":[[0.0,\"#0d0887\"],[0.1111111111111111,\"#46039f\"],[0.2222222222222222,\"#7201a8\"],[0.3333333333333333,\"#9c179e\"],[0.4444444444444444,\"#bd3786\"],[0.5555555555555556,\"#d8576b\"],[0.6666666666666666,\"#ed7953\"],[0.7777777777777778,\"#fb9f3a\"],[0.8888888888888888,\"#fdca26\"],[1.0,\"#f0f921\"]]}],\"mesh3d\":[{\"type\":\"mesh3d\",\"colorbar\":{\"outlinewidth\":0,\"ticks\":\"\"}}],\"scatter\":[{\"fillpattern\":{\"fillmode\":\"overlay\",\"size\":10,\"solidity\":0.2},\"type\":\"scatter\"}],\"parcoords\":[{\"type\":\"parcoords\",\"line\":{\"colorbar\":{\"outlinewidth\":0,\"ticks\":\"\"}}}],\"scatterpolargl\":[{\"type\":\"scatterpolargl\",\"marker\":{\"colorbar\":{\"outlinewidth\":0,\"ticks\":\"\"}}}],\"bar\":[{\"error_x\":{\"color\":\"#2a3f5f\"},\"error_y\":{\"color\":\"#2a3f5f\"},\"marker\":{\"line\":{\"color\":\"#E5ECF6\",\"width\":0.5},\"pattern\":{\"fillmode\":\"overlay\",\"size\":10,\"solidity\":0.2}},\"type\":\"bar\"}],\"scattergeo\":[{\"type\":\"scattergeo\",\"marker\":{\"colorbar\":{\"outlinewidth\":0,\"ticks\":\"\"}}}],\"scatterpolar\":[{\"type\":\"scatterpolar\",\"marker\":{\"colorbar\":{\"outlinewidth\":0,\"ticks\":\"\"}}}],\"histogram\":[{\"marker\":{\"pattern\":{\"fillmode\":\"overlay\",\"size\":10,\"solidity\":0.2}},\"type\":\"histogram\"}],\"scattergl\":[{\"type\":\"scattergl\",\"marker\":{\"colorbar\":{\"outlinewidth\":0,\"ticks\":\"\"}}}],\"scatter3d\":[{\"type\":\"scatter3d\",\"line\":{\"colorbar\":{\"outlinewidth\":0,\"ticks\":\"\"}},\"marker\":{\"colorbar\":{\"outlinewidth\":0,\"ticks\":\"\"}}}],\"scattermapbox\":[{\"type\":\"scattermapbox\",\"marker\":{\"colorbar\":{\"outlinewidth\":0,\"ticks\":\"\"}}}],\"scatterternary\":[{\"type\":\"scatterternary\",\"marker\":{\"colorbar\":{\"outlinewidth\":0,\"ticks\":\"\"}}}],\"scattercarpet\":[{\"type\":\"scattercarpet\",\"marker\":{\"colorbar\":{\"outlinewidth\":0,\"ticks\":\"\"}}}],\"carpet\":[{\"aaxis\":{\"endlinecolor\":\"#2a3f5f\",\"gridcolor\":\"white\",\"linecolor\":\"white\",\"minorgridcolor\":\"white\",\"startlinecolor\":\"#2a3f5f\"},\"baxis\":{\"endlinecolor\":\"#2a3f5f\",\"gridcolor\":\"white\",\"linecolor\":\"white\",\"minorgridcolor\":\"white\",\"startlinecolor\":\"#2a3f5f\"},\"type\":\"carpet\"}],\"table\":[{\"cells\":{\"fill\":{\"color\":\"#EBF0F8\"},\"line\":{\"color\":\"white\"}},\"header\":{\"fill\":{\"color\":\"#C8D4E3\"},\"line\":{\"color\":\"white\"}},\"type\":\"table\"}],\"barpolar\":[{\"marker\":{\"line\":{\"color\":\"#E5ECF6\",\"width\":0.5},\"pattern\":{\"fillmode\":\"overlay\",\"size\":10,\"solidity\":0.2}},\"type\":\"barpolar\"}],\"pie\":[{\"automargin\":true,\"type\":\"pie\"}]},\"layout\":{\"autotypenumbers\":\"strict\",\"colorway\":[\"#636efa\",\"#EF553B\",\"#00cc96\",\"#ab63fa\",\"#FFA15A\",\"#19d3f3\",\"#FF6692\",\"#B6E880\",\"#FF97FF\",\"#FECB52\"],\"font\":{\"color\":\"#2a3f5f\"},\"hovermode\":\"closest\",\"hoverlabel\":{\"align\":\"left\"},\"paper_bgcolor\":\"white\",\"plot_bgcolor\":\"#E5ECF6\",\"polar\":{\"bgcolor\":\"#E5ECF6\",\"angularaxis\":{\"gridcolor\":\"white\",\"linecolor\":\"white\",\"ticks\":\"\"},\"radialaxis\":{\"gridcolor\":\"white\",\"linecolor\":\"white\",\"ticks\":\"\"}},\"ternary\":{\"bgcolor\":\"#E5ECF6\",\"aaxis\":{\"gridcolor\":\"white\",\"linecolor\":\"white\",\"ticks\":\"\"},\"baxis\":{\"gridcolor\":\"white\",\"linecolor\":\"white\",\"ticks\":\"\"},\"caxis\":{\"gridcolor\":\"white\",\"linecolor\":\"white\",\"ticks\":\"\"}},\"coloraxis\":{\"colorbar\":{\"outlinewidth\":0,\"ticks\":\"\"}},\"colorscale\":{\"sequential\":[[0.0,\"#0d0887\"],[0.1111111111111111,\"#46039f\"],[0.2222222222222222,\"#7201a8\"],[0.3333333333333333,\"#9c179e\"],[0.4444444444444444,\"#bd3786\"],[0.5555555555555556,\"#d8576b\"],[0.6666666666666666,\"#ed7953\"],[0.7777777777777778,\"#fb9f3a\"],[0.8888888888888888,\"#fdca26\"],[1.0,\"#f0f921\"]],\"sequentialminus\":[[0.0,\"#0d0887\"],[0.1111111111111111,\"#46039f\"],[0.2222222222222222,\"#7201a8\"],[0.3333333333333333,\"#9c179e\"],[0.4444444444444444,\"#bd3786\"],[0.5555555555555556,\"#d8576b\"],[0.6666666666666666,\"#ed7953\"],[0.7777777777777778,\"#fb9f3a\"],[0.8888888888888888,\"#fdca26\"],[1.0,\"#f0f921\"]],\"diverging\":[[0,\"#8e0152\"],[0.1,\"#c51b7d\"],[0.2,\"#de77ae\"],[0.3,\"#f1b6da\"],[0.4,\"#fde0ef\"],[0.5,\"#f7f7f7\"],[0.6,\"#e6f5d0\"],[0.7,\"#b8e186\"],[0.8,\"#7fbc41\"],[0.9,\"#4d9221\"],[1,\"#276419\"]]},\"xaxis\":{\"gridcolor\":\"white\",\"linecolor\":\"white\",\"ticks\":\"\",\"title\":{\"standoff\":15},\"zerolinecolor\":\"white\",\"automargin\":true,\"zerolinewidth\":2},\"yaxis\":{\"gridcolor\":\"white\",\"linecolor\":\"white\",\"ticks\":\"\",\"title\":{\"standoff\":15},\"zerolinecolor\":\"white\",\"automargin\":true,\"zerolinewidth\":2},\"scene\":{\"xaxis\":{\"backgroundcolor\":\"#E5ECF6\",\"gridcolor\":\"white\",\"linecolor\":\"white\",\"showbackground\":true,\"ticks\":\"\",\"zerolinecolor\":\"white\",\"gridwidth\":2},\"yaxis\":{\"backgroundcolor\":\"#E5ECF6\",\"gridcolor\":\"white\",\"linecolor\":\"white\",\"showbackground\":true,\"ticks\":\"\",\"zerolinecolor\":\"white\",\"gridwidth\":2},\"zaxis\":{\"backgroundcolor\":\"#E5ECF6\",\"gridcolor\":\"white\",\"linecolor\":\"white\",\"showbackground\":true,\"ticks\":\"\",\"zerolinecolor\":\"white\",\"gridwidth\":2}},\"shapedefaults\":{\"line\":{\"color\":\"#2a3f5f\"}},\"annotationdefaults\":{\"arrowcolor\":\"#2a3f5f\",\"arrowhead\":0,\"arrowwidth\":1},\"geo\":{\"bgcolor\":\"white\",\"landcolor\":\"#E5ECF6\",\"subunitcolor\":\"white\",\"showland\":true,\"showlakes\":true,\"lakecolor\":\"white\"},\"title\":{\"x\":0.05},\"mapbox\":{\"style\":\"light\"}}},\"xaxis\":{\"anchor\":\"y\",\"domain\":[0.0,1.0],\"title\":{\"text\":\"x\"}},\"yaxis\":{\"anchor\":\"x\",\"domain\":[0.0,1.0],\"title\":{\"text\":\"y\"}},\"legend\":{\"tracegroupgap\":0},\"title\":{\"text\":\"Genetic algorithm results\"}},                        {\"responsive\": true}                    ).then(function(){\n",
              "                            \n",
              "var gd = document.getElementById('b950e488-a592-421b-adf2-9a397218b756');\n",
              "var x = new MutationObserver(function (mutations, observer) {{\n",
              "        var display = window.getComputedStyle(gd).display;\n",
              "        if (!display || display === 'none') {{\n",
              "            console.log([gd, 'removed!']);\n",
              "            Plotly.purge(gd);\n",
              "            observer.disconnect();\n",
              "        }}\n",
              "}});\n",
              "\n",
              "// Listen for the removal of the full notebook cells\n",
              "var notebookContainer = gd.closest('#notebook-container');\n",
              "if (notebookContainer) {{\n",
              "    x.observe(notebookContainer, {childList: true});\n",
              "}}\n",
              "\n",
              "// Listen for the clearing of the current output cell\n",
              "var outputEl = gd.closest('.output');\n",
              "if (outputEl) {{\n",
              "    x.observe(outputEl, {childList: true});\n",
              "}}\n",
              "\n",
              "                        })                };                            </script>        </div>\n",
              "</body>\n",
              "</html>"
            ]
          },
          "metadata": {}
        }
      ]
    },
    {
      "cell_type": "markdown",
      "source": [
        "# **MLROSe Library**\n",
        "MLROSe-hiive is a Python library for optimization using algorithms such as\n",
        "Genetic Algorithm, Simulated Annealing, and Hill Climb.\n",
        "In GA, it automatically handles population initialization, selection, crossover, mutation, and stopping conditions, requiring only the fitness function\n",
        "and parameters to be defined.\n"
      ],
      "metadata": {
        "id": "c7_vyuNZv3_V"
      }
    },
    {
      "cell_type": "code",
      "source": [
        "!pip install joblib==1.2.0"
      ],
      "metadata": {
        "colab": {
          "base_uri": "https://localhost:8080/"
        },
        "id": "uQ-QzmcXw26T",
        "outputId": "42abf111-1b5e-4198-cf98-ef14ecf5d122"
      },
      "execution_count": 14,
      "outputs": [
        {
          "output_type": "stream",
          "name": "stdout",
          "text": [
            "Collecting joblib==1.2.0\n",
            "  Downloading joblib-1.2.0-py3-none-any.whl.metadata (5.3 kB)\n",
            "Downloading joblib-1.2.0-py3-none-any.whl (297 kB)\n",
            "\u001b[2K   \u001b[90m━━━━━━━━━━━━━━━━━━━━━━━━━━━━━━━━━━━━━━━━\u001b[0m \u001b[32m298.0/298.0 kB\u001b[0m \u001b[31m1.2 MB/s\u001b[0m eta \u001b[36m0:00:00\u001b[0m\n",
            "\u001b[?25hInstalling collected packages: joblib\n",
            "  Attempting uninstall: joblib\n",
            "    Found existing installation: joblib 1.5.1\n",
            "    Uninstalling joblib-1.5.1:\n",
            "      Successfully uninstalled joblib-1.5.1\n",
            "Successfully installed joblib-1.2.0\n"
          ]
        }
      ]
    },
    {
      "cell_type": "code",
      "source": [
        "!pip install mlrose-hiive"
      ],
      "metadata": {
        "colab": {
          "base_uri": "https://localhost:8080/"
        },
        "id": "tJXv_tsdvxjT",
        "outputId": "0b1e8f50-d093-47c2-8a14-dd25240bc4dd"
      },
      "execution_count": 15,
      "outputs": [
        {
          "output_type": "stream",
          "name": "stdout",
          "text": [
            "Collecting mlrose-hiive\n",
            "  Downloading mlrose_hiive-2.2.4.tar.gz (49 kB)\n",
            "\u001b[2K     \u001b[90m━━━━━━━━━━━━━━━━━━━━━━━━━━━━━━━━━━━━━━━\u001b[0m \u001b[32m49.7/49.7 kB\u001b[0m \u001b[31m546.7 kB/s\u001b[0m eta \u001b[36m0:00:00\u001b[0m\n",
            "\u001b[?25h  Preparing metadata (setup.py) ... \u001b[?25l\u001b[?25hdone\n",
            "Requirement already satisfied: numpy in /usr/local/lib/python3.11/dist-packages (from mlrose-hiive) (2.0.2)\n",
            "Requirement already satisfied: scipy in /usr/local/lib/python3.11/dist-packages (from mlrose-hiive) (1.16.1)\n",
            "Requirement already satisfied: scikit-learn in /usr/local/lib/python3.11/dist-packages (from mlrose-hiive) (1.6.1)\n",
            "Requirement already satisfied: pandas in /usr/local/lib/python3.11/dist-packages (from mlrose-hiive) (2.2.2)\n",
            "Requirement already satisfied: networkx in /usr/local/lib/python3.11/dist-packages (from mlrose-hiive) (3.5)\n",
            "Requirement already satisfied: joblib in /usr/local/lib/python3.11/dist-packages (from mlrose-hiive) (1.2.0)\n",
            "Requirement already satisfied: python-dateutil>=2.8.2 in /usr/local/lib/python3.11/dist-packages (from pandas->mlrose-hiive) (2.9.0.post0)\n",
            "Requirement already satisfied: pytz>=2020.1 in /usr/local/lib/python3.11/dist-packages (from pandas->mlrose-hiive) (2025.2)\n",
            "Requirement already satisfied: tzdata>=2022.7 in /usr/local/lib/python3.11/dist-packages (from pandas->mlrose-hiive) (2025.2)\n",
            "Requirement already satisfied: threadpoolctl>=3.1.0 in /usr/local/lib/python3.11/dist-packages (from scikit-learn->mlrose-hiive) (3.6.0)\n",
            "Requirement already satisfied: six>=1.5 in /usr/local/lib/python3.11/dist-packages (from python-dateutil>=2.8.2->pandas->mlrose-hiive) (1.17.0)\n",
            "Building wheels for collected packages: mlrose-hiive\n",
            "  Building wheel for mlrose-hiive (setup.py) ... \u001b[?25l\u001b[?25hdone\n",
            "  Created wheel for mlrose-hiive: filename=mlrose_hiive-2.2.4-py3-none-any.whl size=98335 sha256=18a1d041bc82bb63a97c0a8cd07803d8f2033fe146183492e97e1bd9be2fb6a2\n",
            "  Stored in directory: /root/.cache/pip/wheels/7d/37/ec/8f4f01ed6712f4784ba7bcb6c666a6a20e0c31901bb8c6578d\n",
            "Successfully built mlrose-hiive\n",
            "Installing collected packages: mlrose-hiive\n",
            "Successfully installed mlrose-hiive-2.2.4\n"
          ]
        }
      ]
    },
    {
      "cell_type": "code",
      "source": [
        "import mlrose_hiive as mlrose\n"
      ],
      "metadata": {
        "id": "mVDdB3lnwBH7"
      },
      "execution_count": 16,
      "outputs": []
    },
    {
      "cell_type": "code",
      "source": [
        "products = [('Refrigerator A', 0.751, 999.90),\n",
        "            ('Cell phone', 0.0000899, 2911.12),\n",
        "            ('TV 55', 0.400, 4346.99),\n",
        "            ('TV 50', 0.290, 3999.90),\n",
        "            ('TV 42', 0.200, 2999.00),\n",
        "            ('Notebook A', 0.00350, 2499.90),\n",
        "            ('Ventilator', 0.496, 199.90),\n",
        "            ('Microwave A', 0.0424, 308.66),\n",
        "            ('Microwave B', 0.0544, 429.90),\n",
        "            ('Microwave C', 0.0319, 299.29),\n",
        "            ('Refrigerator B', 0.635, 849.00),\n",
        "            ('Refrigerator C', 0.870, 1199.89),\n",
        "            ('Notebook B', 0.498, 1999.90),\n",
        "            ('Notebook C', 0.527, 3999.00)]"
      ],
      "metadata": {
        "id": "MGyqpu4ywoer"
      },
      "execution_count": null,
      "outputs": []
    },
    {
      "cell_type": "code",
      "source": [
        "limit = 3"
      ],
      "metadata": {
        "id": "0jb1ZbZhxFyT"
      },
      "execution_count": null,
      "outputs": []
    },
    {
      "cell_type": "code",
      "source": [
        "def fitness_function(solution):\n",
        "  cost = 0\n",
        "  sum_space = 0\n",
        "  for i in range(len(solution)):\n",
        "    if solution[i] == 1:\n",
        "      cost += products[i][2]\n",
        "      sum_space += products[i][1]\n",
        "  if sum_space > limit:\n",
        "    cost = 1\n",
        "  return cost"
      ],
      "metadata": {
        "id": "wDolCChnxGFi"
      },
      "execution_count": null,
      "outputs": []
    },
    {
      "cell_type": "code",
      "source": [
        "fitness = mlrose.CustomFitness(fitness_function)"
      ],
      "metadata": {
        "id": "CxqKIduIxIP6"
      },
      "execution_count": null,
      "outputs": []
    },
    {
      "cell_type": "code",
      "source": [
        "# Discreate - working with integers\n",
        "# Max val = 2 means only generate 0 or 1\n",
        "problem = mlrose.DiscreteOpt(length=len(products), fitness_fn=fitness, maximize=True, max_val=2) # 0, 1"
      ],
      "metadata": {
        "id": "rz6h18lYxJ5b"
      },
      "execution_count": null,
      "outputs": []
    },
    {
      "cell_type": "code",
      "source": [
        "# No generation limit - Algorithm will stop after reaching an optimal plateu\n",
        "best_solution = mlrose.genetic_alg(problem, pop_size=20, mutation_prob=0.01)\n",
        "\n",
        "print(\"Best solution:\", best_solution)\n",
        "\n"
      ],
      "metadata": {
        "colab": {
          "base_uri": "https://localhost:8080/"
        },
        "id": "PRMg-4EZxPNS",
        "outputId": "24916aad-4003-4c01-ab2b-afb7730588b0"
      },
      "execution_count": null,
      "outputs": [
        {
          "output_type": "stream",
          "name": "stdout",
          "text": [
            "Best solution: (array([0, 1, 1, 1, 1, 1, 0, 1, 1, 1, 0, 1, 1, 1]), 24993.550000000003, None)\n"
          ]
        }
      ]
    },
    {
      "cell_type": "code",
      "source": [
        "for i in range(len(best_solution[0])):\n",
        "  if best_solution[0][i] == 1:\n",
        "    print('Name: ', products[i][0], ' - Price: ', products[i][2])"
      ],
      "metadata": {
        "colab": {
          "base_uri": "https://localhost:8080/"
        },
        "id": "T9FjvHJJxhZq",
        "outputId": "1712fc68-9c75-4d8f-b1ff-ee15dca8f418"
      },
      "execution_count": null,
      "outputs": [
        {
          "output_type": "stream",
          "name": "stdout",
          "text": [
            "Name:  Cell phone  - Price:  2911.12\n",
            "Name:  TV 55  - Price:  4346.99\n",
            "Name:  TV 50  - Price:  3999.9\n",
            "Name:  TV 42  - Price:  2999.0\n",
            "Name:  Notebook A  - Price:  2499.9\n",
            "Name:  Microwave A  - Price:  308.66\n",
            "Name:  Microwave B  - Price:  429.9\n",
            "Name:  Microwave C  - Price:  299.29\n",
            "Name:  Refrigerator C  - Price:  1199.89\n",
            "Name:  Notebook B  - Price:  1999.9\n",
            "Name:  Notebook C  - Price:  3999.0\n"
          ]
        }
      ]
    },
    {
      "cell_type": "markdown",
      "source": [
        "# **Case Study 2 - Flight Schedule**\n",
        "\n",
        " In this problem we have people who wants to have a meeting at the same place but in different countries. Airlines offer a few options to fly target country. After that every person will fly back.\n",
        "\n",
        "\n",
        "\n",
        "*  We want to both minimize time by making the time early as possible.\n",
        "\n",
        "\n",
        "\n"
      ],
      "metadata": {
        "id": "N8j8oGEuAtPm"
      }
    },
    {
      "cell_type": "code",
      "source": [
        "people = [('Lisbon', 'LIS'),\n",
        "          ('Madrid', 'MAD'),\n",
        "          ('Paris', 'CDG'),\n",
        "          ('Dublin', 'DUB'),\n",
        "          ('Brussels', 'BRU'),\n",
        "          ('London', 'LHR')]"
      ],
      "metadata": {
        "id": "sGUv0mYqyvTJ"
      },
      "execution_count": 1,
      "outputs": []
    },
    {
      "cell_type": "code",
      "source": [
        "destiny = 'FCO'"
      ],
      "metadata": {
        "id": "l3fDdRF0BSaV"
      },
      "execution_count": 2,
      "outputs": []
    },
    {
      "cell_type": "code",
      "source": [
        "# BRU -> FCO / Departure time - Arrival time / Price\n",
        "flights = {('BRU', 'FCO'): ['15:44', '18:55', 382]}"
      ],
      "metadata": {
        "id": "efqzLce3BU6E"
      },
      "execution_count": 3,
      "outputs": []
    },
    {
      "cell_type": "code",
      "source": [
        "flights = {}\n",
        "for row in open('flights.txt'):\n",
        "  #print(row)\n",
        "  #print(row.split(','))\n",
        "  origin, destiny, departure, arrival, price = row.split(',')\n",
        "  #print(origin, destiny, departure, arrival, price)\n",
        "  flights.setdefault((origin, destiny), [])\n",
        "  #print(flights)\n",
        "  flights[(origin, destiny)].append((departure, arrival, int(price)))"
      ],
      "metadata": {
        "id": "MdWoswQUCDHu"
      },
      "execution_count": 4,
      "outputs": []
    },
    {
      "cell_type": "code",
      "source": [
        "# 6 people departure - arrival flights\n",
        "schedule = [1, 0, 3, 2, 7, 3, 6, 3, 2, 4, 5, 3]"
      ],
      "metadata": {
        "id": "kTLrt_OuCDm7"
      },
      "execution_count": 6,
      "outputs": []
    },
    {
      "cell_type": "code",
      "source": [
        "def print_schedule(schedule):\n",
        "  flight_id = -1\n",
        "  total_price = 0\n",
        "  for i in range(len(schedule) // 2):\n",
        "    name = people[i][0]\n",
        "    #print(name)\n",
        "    origin = people[i][1]\n",
        "    #print(origin)\n",
        "    flight_id += 1\n",
        "    going = flights[(origin, destiny)][schedule[flight_id]]\n",
        "    #print(going)\n",
        "    total_price += going[2]\n",
        "    flight_id += 1\n",
        "    returning = flights[(destiny, origin)][schedule[flight_id]]\n",
        "    total_price += returning[2]\n",
        "    #print('\\n')\n",
        "    print('%10s%10s %5s-%5s %3s %5s-%5s %3s' % (name, origin, going[0], going[1], going[2],\n",
        "                                                returning[0], returning[1], returning[2]))\n",
        "  print('Total price:', total_price)"
      ],
      "metadata": {
        "id": "07u86gQtYC6_"
      },
      "execution_count": 7,
      "outputs": []
    },
    {
      "cell_type": "code",
      "source": [
        "# Name    Flight Name   Departure-Arrival Time    Price   Same to go back\n",
        "print_schedule(schedule)"
      ],
      "metadata": {
        "colab": {
          "base_uri": "https://localhost:8080/"
        },
        "id": "GsTeLokYYqhW",
        "outputId": "520e06ed-9094-4489-ddfa-574e6b6134da"
      },
      "execution_count": 9,
      "outputs": [
        {
          "output_type": "stream",
          "name": "stdout",
          "text": [
            "    Lisbon       LIS  7:39-10:24 219  6:19- 8:13 239\n",
            "    Madrid       MAD 11:01-12:39 260  9:11-10:42 172\n",
            "     Paris       CDG 17:07-20:04 291 11:08-14:38 262\n",
            "    Dublin       DUB 15:27-17:18 151 10:33-12:03  74\n",
            "  Brussels       BRU  9:08-12:12 364 12:20-16:34 500\n",
            "    London       LHR 13:40-15:38 137 10:32-13:16 139\n",
            "Total price: 2808\n"
          ]
        }
      ]
    },
    {
      "cell_type": "code",
      "source": [
        "def fitness_function_deap(schedule):\n",
        "  flight_id = -1\n",
        "  total_price = 0\n",
        "  for i in range(0, 6):\n",
        "    origin = people[i][1]\n",
        "    flight_id += 1\n",
        "    going = flights[(origin, destiny)][schedule[flight_id]]\n",
        "    total_price += going[2]\n",
        "    flight_id += 1\n",
        "    returning = flights[(destiny, origin)][schedule[flight_id]]\n",
        "    total_price += returning[2]\n",
        "\n",
        "  return total_price,"
      ],
      "metadata": {
        "id": "0cIfuh7IYsg-"
      },
      "execution_count": 10,
      "outputs": []
    },
    {
      "cell_type": "code",
      "source": [
        "def fitness_function_mlrose(schedule):\n",
        "  flight_id = -1\n",
        "  total_price = 0\n",
        "  for i in range(0, 6):\n",
        "    origin = people[i][1]\n",
        "    flight_id += 1\n",
        "    going = flights[(origin, destiny)][schedule[flight_id]]\n",
        "    total_price += going[2]\n",
        "    flight_id += 1\n",
        "    returning = flights[(destiny, origin)][schedule[flight_id]]\n",
        "    total_price += returning[2]\n",
        "\n",
        "  return total_price"
      ],
      "metadata": {
        "id": "xrKYXftCbXHT"
      },
      "execution_count": 11,
      "outputs": []
    },
    {
      "cell_type": "markdown",
      "source": [
        "# Deap Library - Flight Schedule Problem"
      ],
      "metadata": {
        "id": "kdqGEjvCbeZ0"
      }
    },
    {
      "cell_type": "code",
      "source": [
        "from deap import base, creator, tools, algorithms\n",
        "import random\n",
        "import numpy\n"
      ],
      "metadata": {
        "id": "LVxrIof7dA-7"
      },
      "execution_count": 18,
      "outputs": []
    },
    {
      "cell_type": "code",
      "source": [
        "# Create a toolbox to hold evolutionary operators (like selection, mutation, etc.)\n",
        "toolbox = base.Toolbox()\n",
        "\n",
        "# Define a fitness class that should be minimized (negative weight means minimization)\n",
        "creator.create('FitnessMin', base.Fitness, weights=(-1.0,))\n",
        "\n",
        "# Define the 'Individual' class: a list with an associated minimization fitness\n",
        "creator.create('Individual', list, fitness=creator.FitnessMin)\n",
        "\n",
        "# Register a function that generates a random integer between 0 and 9 (Flight Numbers)\n",
        "toolbox.register('attr_int', random.randint, a=0, b=9)\n",
        "\n",
        "# Register a function to create an individual by repeating 'attr_int' 12 times\n",
        "toolbox.register('individual', tools.initRepeat, creator.Individual, toolbox.attr_int, n=12)\n",
        "\n",
        "# Register a function to create a population as a list of individuals\n",
        "toolbox.register('population', tools.initRepeat, list, toolbox.individual)\n",
        "\n",
        "# Register the evaluation function (fitness function) that scores an individual\n",
        "toolbox.register('evaluate', fitness_function_deap)\n",
        "\n",
        "# Register the crossover operator (one-point crossover)\n",
        "toolbox.register('mate', tools.cxOnePoint)\n",
        "\n",
        "# Register the mutation operator (flip bits with probability 'indpb')\n",
        "toolbox.register('mutate', tools.mutFlipBit, indpb=0.01)\n",
        "\n",
        "# Register the selection operator (tournament selection with size 3)\n",
        "toolbox.register('select', tools.selTournament, tournsize=3)\n",
        "\n",
        "# Create an initial population of 500 individuals\n",
        "population = toolbox.population(n=500)\n",
        "\n",
        "# Set genetic algorithm parameters\n",
        "crossover_probability = 0.7   # Probability of crossover between two parents\n",
        "mutation_probability = 0.3    # Probability of mutating an individual\n",
        "number_of_generations = 100   # Number of generations to evolve\n",
        "\n",
        "# Create a statistics object to track progress during evolution\n",
        "statistics = tools.Statistics(key=lambda individuo: individuo.fitness.values)\n",
        "\n",
        "# Track the maximum fitness in the population\n",
        "statistics.register(\"max\", numpy.max)\n",
        "# Track the minimum fitness in the population\n",
        "statistics.register(\"min\", numpy.min)\n",
        "# Track the mean fitness in the population\n",
        "statistics.register(\"med\", numpy.mean)\n",
        "# Track the standard deviation of fitness in the population\n",
        "statistics.register(\"std\", numpy.std)\n",
        "\n",
        "# Run the evolutionary algorithm using the simple GA strategy\n",
        "# eaSimple will evolve the population using the specified probabilities and generations\n",
        "population, info = algorithms.eaSimple(population, toolbox,\n",
        "                                       crossover_probability, mutation_probability,\n",
        "                                       number_of_generations, statistics)\n"
      ],
      "metadata": {
        "colab": {
          "base_uri": "https://localhost:8080/"
        },
        "id": "txbmnxjUbZQr",
        "outputId": "cca25527-024a-4503-a375-9b96535b1e5e"
      },
      "execution_count": 19,
      "outputs": [
        {
          "output_type": "stream",
          "name": "stdout",
          "text": [
            "gen\tnevals\tmax \tmin \tmed    \tstd   \n",
            "0  \t500   \t3191\t2078\t2623.78\t198.07\n",
            "1  \t401   \t2897\t1954\t2461.89\t164.098\n",
            "2  \t379   \t2849\t1954\t2320   \t148.096\n",
            "3  \t393   \t2563\t1811\t2204.13\t135.684\n",
            "4  \t393   \t2495\t1709\t2092.04\t114.532\n",
            "5  \t383   \t2332\t1673\t1995.52\t107.93 \n",
            "6  \t395   \t2213\t1673\t1903.56\t94.5334\n",
            "7  \t388   \t2159\t1615\t1818.01\t77.3406\n",
            "8  \t386   \t2006\t1602\t1757.98\t57.0115\n",
            "9  \t388   \t1932\t1602\t1715.32\t44.9345\n",
            "10 \t412   \t1876\t1596\t1682.51\t39.973 \n",
            "11 \t395   \t1875\t1596\t1656.73\t36.4866\n",
            "12 \t386   \t1844\t1579\t1632.41\t30.7564\n",
            "13 \t398   \t1816\t1579\t1615.6 \t27.8072\n",
            "14 \t394   \t1782\t1573\t1605.4 \t21.3974\n",
            "15 \t393   \t1897\t1572\t1600.56\t30.718 \n",
            "16 \t394   \t1782\t1566\t1590.54\t22.404 \n",
            "17 \t392   \t1774\t1566\t1582.14\t21.6304\n",
            "18 \t394   \t1782\t1566\t1579.69\t27.3567\n",
            "19 \t417   \t1776\t1566\t1576.84\t27.2123\n",
            "20 \t381   \t1840\t1566\t1575.89\t33.0897\n",
            "21 \t378   \t1891\t1566\t1570.63\t25.8934\n",
            "22 \t398   \t1901\t1566\t1570.29\t27.5907\n",
            "23 \t391   \t1792\t1566\t1570.05\t23.922 \n",
            "24 \t396   \t1767\t1566\t1569.22\t20.573 \n",
            "25 \t395   \t1861\t1566\t1571.39\t30.4167\n",
            "26 \t405   \t1767\t1566\t1569.49\t21.4011\n",
            "27 \t393   \t1769\t1566\t1568.29\t18.4339\n",
            "28 \t402   \t1767\t1566\t1568.37\t18.3442\n",
            "29 \t383   \t1767\t1566\t1568.98\t20.2039\n",
            "30 \t400   \t1875\t1566\t1569.23\t23.636 \n",
            "31 \t400   \t1767\t1566\t1568.78\t19.4749\n",
            "32 \t391   \t1767\t1566\t1568.9 \t19.9461\n",
            "33 \t408   \t1799\t1566\t1571.23\t27.9619\n",
            "34 \t398   \t1769\t1566\t1569.14\t21.3671\n",
            "35 \t398   \t1767\t1566\t1571.17\t26.7094\n",
            "36 \t406   \t1861\t1566\t1568.54\t20.3942\n",
            "37 \t384   \t1769\t1566\t1571.18\t27.0271\n",
            "38 \t399   \t1769\t1566\t1570.24\t26.6563\n",
            "39 \t393   \t1954\t1566\t1569.74\t29.4665\n",
            "40 \t399   \t1796\t1566\t1570.19\t25.1919\n",
            "41 \t398   \t1791\t1566\t1570.67\t25.1946\n",
            "42 \t384   \t1767\t1566\t1569.97\t22.1202\n",
            "43 \t410   \t1769\t1566\t1568.62\t20.0981\n",
            "44 \t407   \t1769\t1566\t1570.07\t25.2846\n",
            "45 \t412   \t1769\t1566\t1569   \t19.9412\n",
            "46 \t396   \t1952\t1566\t1569.98\t26.6493\n",
            "47 \t386   \t1769\t1566\t1570.54\t26.7032\n",
            "48 \t388   \t1769\t1566\t1569.55\t22.854 \n",
            "49 \t384   \t1769\t1566\t1570.57\t26.9291\n",
            "50 \t403   \t1893\t1566\t1569.21\t24.5962\n",
            "51 \t413   \t1769\t1566\t1571.54\t30.0882\n",
            "52 \t387   \t1769\t1566\t1568.88\t20.9946\n",
            "53 \t410   \t1891\t1566\t1570.84\t28.7213\n",
            "54 \t378   \t1767\t1566\t1569.18\t21.9719\n",
            "55 \t377   \t1954\t1566\t1572.51\t35.2688\n",
            "56 \t387   \t1799\t1566\t1568.26\t18.9463\n",
            "57 \t382   \t1769\t1566\t1569.79\t22.9496\n",
            "58 \t363   \t1751\t1566\t1568.25\t15.5105\n",
            "59 \t410   \t1840\t1566\t1571.64\t29.4822\n",
            "60 \t382   \t1875\t1566\t1570.57\t29.5911\n",
            "61 \t378   \t1954\t1566\t1569.93\t26.4354\n",
            "62 \t387   \t1767\t1566\t1569.95\t23.9013\n",
            "63 \t405   \t1769\t1566\t1568.36\t19.2618\n",
            "64 \t399   \t1769\t1566\t1570.46\t25.1476\n",
            "65 \t406   \t1769\t1566\t1570.48\t25.7631\n",
            "66 \t364   \t1840\t1566\t1571.55\t30.3499\n",
            "67 \t412   \t1861\t1566\t1569.83\t25.0122\n",
            "68 \t398   \t1769\t1566\t1571.06\t26.9574\n",
            "69 \t408   \t1826\t1566\t1570.75\t27.0534\n",
            "70 \t401   \t1769\t1566\t1569.55\t24.0422\n",
            "71 \t377   \t1769\t1566\t1568.19\t16.4369\n",
            "72 \t402   \t1769\t1566\t1569.43\t23.8337\n",
            "73 \t386   \t1769\t1566\t1569.54\t23.1589\n",
            "74 \t388   \t1767\t1566\t1570.2 \t23.7394\n",
            "75 \t396   \t1767\t1566\t1569.62\t21.4252\n",
            "76 \t394   \t1901\t1566\t1570.09\t26.2507\n",
            "77 \t388   \t1767\t1566\t1569   \t20.3348\n",
            "78 \t387   \t1931\t1566\t1571.19\t30.6251\n",
            "79 \t381   \t1769\t1566\t1568.01\t15.4162\n",
            "80 \t418   \t1769\t1566\t1568.35\t17.6052\n",
            "81 \t404   \t1751\t1566\t1569.18\t19.1072\n",
            "82 \t375   \t1769\t1566\t1570.52\t25.6363\n",
            "83 \t384   \t1767\t1566\t1569.09\t18.98  \n",
            "84 \t383   \t1769\t1566\t1569.39\t23.8447\n",
            "85 \t412   \t1877\t1566\t1569.74\t24.2216\n",
            "86 \t380   \t1769\t1566\t1569.76\t24.2403\n",
            "87 \t400   \t1826\t1566\t1570.76\t27.4827\n",
            "88 \t397   \t1769\t1566\t1568.56\t19.1616\n",
            "89 \t389   \t1901\t1566\t1570.96\t28.8139\n",
            "90 \t390   \t1769\t1566\t1569.12\t20.542 \n",
            "91 \t403   \t1767\t1566\t1569.7 \t23.1636\n",
            "92 \t396   \t1861\t1566\t1570.92\t28.2736\n",
            "93 \t392   \t1883\t1566\t1570.82\t28.5411\n",
            "94 \t369   \t1877\t1566\t1569.64\t24.9206\n",
            "95 \t394   \t1919\t1566\t1571.43\t32.0403\n",
            "96 \t398   \t1751\t1566\t1569.04\t19.1174\n",
            "97 \t395   \t1792\t1566\t1570.86\t26.7044\n",
            "98 \t393   \t1769\t1566\t1569.86\t24.024 \n",
            "99 \t391   \t1769\t1566\t1570.49\t25.2906\n",
            "100\t403   \t2064\t1566\t1571.25\t33.8054\n"
          ]
        }
      ]
    },
    {
      "cell_type": "code",
      "source": [
        "best_solution = tools.selBest(population, 1)\n",
        "for individual in best_solution:\n",
        "  print(individual)\n",
        "  print(individual.fitness)"
      ],
      "metadata": {
        "colab": {
          "base_uri": "https://localhost:8080/"
        },
        "id": "vzPbg1wCcXea",
        "outputId": "bbe5056b-0b77-4e23-c220-4a2b9994828e"
      },
      "execution_count": 20,
      "outputs": [
        {
          "output_type": "stream",
          "name": "stdout",
          "text": [
            "[2, 6, 5, 7, 8, 1, 3, 6, 0, 2, 9, 1]\n",
            "(1566.0,)\n"
          ]
        }
      ]
    },
    {
      "cell_type": "code",
      "source": [
        "print_schedule(individual)"
      ],
      "metadata": {
        "colab": {
          "base_uri": "https://localhost:8080/"
        },
        "id": "GjYfetyIdNfh",
        "outputId": "3435cb48-1a71-46de-a66b-56b977805da6"
      },
      "execution_count": 21,
      "outputs": [
        {
          "output_type": "stream",
          "name": "stdout",
          "text": [
            "    Lisbon       LIS  9:15-12:03  99 15:07-17:21 129\n",
            "    Madrid       MAD 14:22-16:32 126 17:06-20:00  95\n",
            "     Paris       CDG 18:23-21:35 134  8:23-11:07 143\n",
            "    Dublin       DUB 11:16-13:29  83 15:25-16:58  62\n",
            "  Brussels       BRU  6:12-10:22 230  9:49-13:51 229\n",
            "    London       LHR 20:30-23:11 114  8:19-11:16 122\n",
            "Total price: 1566\n"
          ]
        }
      ]
    },
    {
      "cell_type": "markdown",
      "source": [
        "# MLROSe Library - Flight Schedule Problem"
      ],
      "metadata": {
        "id": "_OVzO8wEdYK5"
      }
    },
    {
      "cell_type": "code",
      "source": [
        "fitness = mlrose.CustomFitness(fitness_function_mlrose)"
      ],
      "metadata": {
        "id": "xKYOymyEdQXI"
      },
      "execution_count": 22,
      "outputs": []
    },
    {
      "cell_type": "code",
      "source": [
        "problem = mlrose.DiscreteOpt(length=12, fitness_fn=fitness, maximize = False, max_val=10) # 0 - 9"
      ],
      "metadata": {
        "id": "6ZbMMTvJdUgY"
      },
      "execution_count": 23,
      "outputs": []
    },
    {
      "cell_type": "code",
      "source": [
        "best_solution = mlrose.genetic_alg(problem, pop_size=500, mutation_prob=0.3)\n",
        "best_solution[0]"
      ],
      "metadata": {
        "colab": {
          "base_uri": "https://localhost:8080/"
        },
        "id": "A1RyRLZmdhqg",
        "outputId": "12225fc4-65f8-4148-d86d-0d135cbc09aa"
      },
      "execution_count": 26,
      "outputs": [
        {
          "output_type": "execute_result",
          "data": {
            "text/plain": [
              "array([2, 6, 5, 7, 8, 1, 3, 6, 0, 2, 9, 1])"
            ]
          },
          "metadata": {},
          "execution_count": 26
        }
      ]
    },
    {
      "cell_type": "code",
      "source": [
        "print_schedule(best_solution[0])"
      ],
      "metadata": {
        "colab": {
          "base_uri": "https://localhost:8080/"
        },
        "id": "7wE4Ld8zdjiQ",
        "outputId": "fcdb1c1b-5636-4841-e13c-ef3876dcffcb"
      },
      "execution_count": 27,
      "outputs": [
        {
          "output_type": "stream",
          "name": "stdout",
          "text": [
            "    Lisbon       LIS  9:15-12:03  99 15:07-17:21 129\n",
            "    Madrid       MAD 14:22-16:32 126 17:06-20:00  95\n",
            "     Paris       CDG 18:23-21:35 134  8:23-11:07 143\n",
            "    Dublin       DUB 11:16-13:29  83 15:25-16:58  62\n",
            "  Brussels       BRU  6:12-10:22 230  9:49-13:51 229\n",
            "    London       LHR 20:30-23:11 114  8:19-11:16 122\n",
            "Total price: 1566\n"
          ]
        }
      ]
    },
    {
      "cell_type": "code",
      "source": [],
      "metadata": {
        "id": "PBfRjZQDdqpA"
      },
      "execution_count": null,
      "outputs": []
    }
  ],
  "metadata": {
    "colab": {
      "provenance": [],
      "authorship_tag": "ABX9TyNMLb1GYJy3i8Gg0D2h0MqB",
      "include_colab_link": true
    },
    "kernelspec": {
      "display_name": "Python 3",
      "name": "python3"
    },
    "language_info": {
      "name": "python"
    }
  },
  "nbformat": 4,
  "nbformat_minor": 0
}