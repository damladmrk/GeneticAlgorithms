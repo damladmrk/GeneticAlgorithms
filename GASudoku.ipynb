{
  "nbformat": 4,
  "nbformat_minor": 0,
  "metadata": {
    "colab": {
      "provenance": [],
      "authorship_tag": "ABX9TyMiUpm9wY6v20tJk0V85t7U",
      "include_colab_link": true
    },
    "kernelspec": {
      "name": "python3",
      "display_name": "Python 3"
    },
    "language_info": {
      "name": "python"
    }
  },
  "cells": [
    {
      "cell_type": "markdown",
      "metadata": {
        "id": "view-in-github",
        "colab_type": "text"
      },
      "source": [
        "<a href=\"https://colab.research.google.com/github/damladmrk/GeneticAlgorithms/blob/main/GASudoku.ipynb\" target=\"_parent\"><img src=\"https://colab.research.google.com/assets/colab-badge.svg\" alt=\"Open In Colab\"/></a>"
      ]
    },
    {
      "cell_type": "markdown",
      "source": [
        "### Genetic Algorithm Explanation\n",
        "\n",
        "In this notebook, we implement a simple **Genetic Algorithm (GA)** to solve an optimization problem.  \n",
        "The algorithm works as follows:\n",
        "\n",
        "1. **Initialization**  \n",
        "   - A random population of candidate solutions is generated.  \n",
        "   - Each solution is represented as a set of values (genes).  \n",
        "\n",
        "2. **Fitness Evaluation**  \n",
        "   - Every solution is evaluated using a **fitness function**, which measures how good the solution is for the problem.  \n",
        "\n",
        "3. **Selection**  \n",
        "   - The best-performing individuals are selected as parents.  \n",
        "   - We use strategies such as **roulette-wheel selection** or **tournament selection** to ensure that better solutions have a higher chance of being chosen.  \n",
        "\n",
        "4. **Crossover (Recombination)**  \n",
        "   - Two parent solutions are combined to create new offspring.  \n",
        "   - This allows the algorithm to explore new areas of the solution space.  \n",
        "\n",
        "5. **Mutation**  \n",
        "   - Some genes in the offspring are randomly modified.  \n",
        "   - Mutation helps maintain genetic diversity and prevents the population from converging too early.  \n",
        "\n",
        "6. **New Generation**  \n",
        "   - The offspring replace the old population (fully or partially).  \n",
        "   - The process repeats until a **stopping condition** is met (e.g., maximum generations achieved).  \n",
        "\n",
        "\n",
        "---\n",
        "This notebook demonstrates how populations evolve over generations, gradually improving towards an optimal or near-optimal solution.\n"
      ],
      "metadata": {
        "id": "P1M19OxsTcRZ"
      }
    },
    {
      "cell_type": "code",
      "execution_count": 19,
      "metadata": {
        "id": "f1Gcc6v6QLaS"
      },
      "outputs": [],
      "source": [
        "import random\n",
        "import numpy as np\n",
        "import math\n",
        "import matplotlib.pyplot as plt"
      ]
    },
    {
      "cell_type": "code",
      "source": [
        "# 0 represents empty cells\n",
        "sudoku_board = [\n",
        "    [5, 3, 0, 0, 7, 0, 0, 0, 0],\n",
        "    [6, 0, 0, 1, 9, 5, 0, 0, 0],\n",
        "    [0, 9, 8, 0, 0, 0, 0, 6, 0],\n",
        "    [8, 0, 0, 0, 6, 0, 0, 0, 3],\n",
        "    [4, 0, 0, 8, 0, 3, 0, 0, 1],\n",
        "    [7, 0, 0, 0, 2, 0, 0, 0, 6],\n",
        "    [0, 6, 0, 0, 0, 0, 2, 8, 0],\n",
        "    [0, 0, 0, 4, 1, 9, 0, 0, 5],\n",
        "    [0, 0, 0, 0, 8, 0, 0, 7, 9]\n",
        "]\n",
        "\n",
        "solved_sudoku = [\n",
        "    [5, 3, 4, 6, 7, 8, 9, 1, 2],\n",
        "    [6, 7, 2, 1, 9, 5, 3, 4, 8],\n",
        "    [1, 9, 8, 3, 4, 2, 5, 6, 7],\n",
        "    [8, 5, 9, 7, 6, 1, 4, 2, 3],\n",
        "    [4, 2, 6, 8, 5, 3, 7, 9, 1],\n",
        "    [7, 1, 3, 9, 2, 4, 8, 5, 6],\n",
        "    [9, 6, 1, 5, 3, 7, 2, 8, 4],\n",
        "    [2, 8, 7, 4, 1, 9, 6, 3, 5],\n",
        "    [3, 4, 5, 2, 8, 6, 1, 7, 9]\n",
        "]"
      ],
      "metadata": {
        "id": "Pwz2Za76Vi9Y"
      },
      "execution_count": 3,
      "outputs": []
    },
    {
      "cell_type": "code",
      "source": [
        "# -------------------------\n",
        "# 1) Print function\n",
        "# -------------------------\n",
        "def print_sudoku(board):\n",
        "    \"\"\"\n",
        "    Nicely print a 9x9 sudoku board. Empty cells are represented by 0.\n",
        "    \"\"\"\n",
        "    sep_line = \"+-------+-------+-------+\"\n",
        "    for r in range(9):\n",
        "        if r % 3 == 0:\n",
        "            print(sep_line)\n",
        "        row_str = \"\"\n",
        "        for c in range(9):\n",
        "            if c % 3 == 0:\n",
        "                row_str += \"| \"\n",
        "            val = board[r][c]\n",
        "            row_str += (str(val) if val != 0 else \".\") + \" \"\n",
        "        row_str += \"|\"\n",
        "        print(row_str)\n",
        "    print(sep_line)"
      ],
      "metadata": {
        "id": "TaeAsqWcUbua"
      },
      "execution_count": 4,
      "outputs": []
    },
    {
      "cell_type": "code",
      "source": [
        "print_sudoku(sudoku_board)"
      ],
      "metadata": {
        "colab": {
          "base_uri": "https://localhost:8080/",
          "height": 0
        },
        "id": "rfnw5xTfWQz_",
        "outputId": "297e9c11-d6f4-4e97-f899-dbe3a3426ce1"
      },
      "execution_count": 5,
      "outputs": [
        {
          "output_type": "stream",
          "name": "stdout",
          "text": [
            "+-------+-------+-------+\n",
            "| 5 3 . | . 7 . | . . . |\n",
            "| 6 . . | 1 9 5 | . . . |\n",
            "| . 9 8 | . . . | . 6 . |\n",
            "+-------+-------+-------+\n",
            "| 8 . . | . 6 . | . . 3 |\n",
            "| 4 . . | 8 . 3 | . . 1 |\n",
            "| 7 . . | . 2 . | . . 6 |\n",
            "+-------+-------+-------+\n",
            "| . 6 . | . . . | 2 8 . |\n",
            "| . . . | 4 1 9 | . . 5 |\n",
            "| . . . | . 8 . | . 7 9 |\n",
            "+-------+-------+-------+\n"
          ]
        }
      ]
    },
    {
      "cell_type": "code",
      "source": [
        "print_sudoku(solved_sudoku)"
      ],
      "metadata": {
        "colab": {
          "base_uri": "https://localhost:8080/",
          "height": 0
        },
        "id": "7SHmoA3XatP9",
        "outputId": "2e9d0676-bd83-482b-d364-1782b1ddc8a3"
      },
      "execution_count": 6,
      "outputs": [
        {
          "output_type": "stream",
          "name": "stdout",
          "text": [
            "+-------+-------+-------+\n",
            "| 5 3 4 | 6 7 8 | 9 1 2 |\n",
            "| 6 7 2 | 1 9 5 | 3 4 8 |\n",
            "| 1 9 8 | 3 4 2 | 5 6 7 |\n",
            "+-------+-------+-------+\n",
            "| 8 5 9 | 7 6 1 | 4 2 3 |\n",
            "| 4 2 6 | 8 5 3 | 7 9 1 |\n",
            "| 7 1 3 | 9 2 4 | 8 5 6 |\n",
            "+-------+-------+-------+\n",
            "| 9 6 1 | 5 3 7 | 2 8 4 |\n",
            "| 2 8 7 | 4 1 9 | 6 3 5 |\n",
            "| 3 4 5 | 2 8 6 | 1 7 9 |\n",
            "+-------+-------+-------+\n"
          ]
        }
      ]
    },
    {
      "cell_type": "code",
      "source": [
        "def sudoku_errors(board):\n",
        "    errors = 0\n",
        "\n",
        "    for i in range(9):\n",
        "        row_seen = {}\n",
        "        col_seen = {}\n",
        "        for j in range(9):\n",
        "            val_row = board[i][j]\n",
        "            if val_row != 0:\n",
        "                if val_row in row_seen:\n",
        "                    errors += 1\n",
        "                else:\n",
        "                    row_seen[val_row] = True\n",
        "\n",
        "            val_col = board[j][i]\n",
        "            if val_col != 0:\n",
        "                if val_col in col_seen:\n",
        "                    errors += 1\n",
        "                else:\n",
        "                    col_seen[val_col] = True\n",
        "\n",
        "    for box_row in range(0, 9, 3):\n",
        "        for box_col in range(0, 9, 3):\n",
        "            box_seen = {}\n",
        "            for i in range(3):\n",
        "                for j in range(3):\n",
        "                    val = board[box_row+i][box_col+j]\n",
        "                    if val != 0:\n",
        "                        if val in box_seen:\n",
        "                            errors += 1\n",
        "                        else:\n",
        "                            box_seen[val] = True\n",
        "\n",
        "    return errors\n"
      ],
      "metadata": {
        "id": "ftNPsH2xUcDw"
      },
      "execution_count": 7,
      "outputs": []
    },
    {
      "cell_type": "code",
      "source": [
        "def fitness(individual, board):\n",
        "    test_board = create_board(board, individual)\n",
        "    errors = sudoku_errors(test_board)\n",
        "    return 81 - errors"
      ],
      "metadata": {
        "id": "nLuupVGSVInY"
      },
      "execution_count": 25,
      "outputs": []
    },
    {
      "cell_type": "code",
      "source": [
        "def create_individual(board):\n",
        "    chromosome = []\n",
        "    for i in range(9):\n",
        "        for j in range(9):\n",
        "            if board[i][j] == 0:\n",
        "                chromosome.append(random.randint(1, 9))\n",
        "    return chromosome"
      ],
      "metadata": {
        "id": "ggj0kP-gVKKP"
      },
      "execution_count": 12,
      "outputs": []
    },
    {
      "cell_type": "code",
      "source": [
        "def create_population(board, population_size=100):\n",
        "    population = []\n",
        "    for _ in range(population_size):\n",
        "        individual = create_individual(board)\n",
        "        population.append(individual)\n",
        "    return population"
      ],
      "metadata": {
        "id": "lNQWzkwtwtml"
      },
      "execution_count": 13,
      "outputs": []
    },
    {
      "cell_type": "code",
      "source": [
        "def create_board(board, soln):\n",
        "  new_board = [row[:] for row in board]\n",
        "  s = 0\n",
        "  for i in range(9):\n",
        "      for j in range(9):\n",
        "          if new_board[i][j] == 0:\n",
        "            new_board[i][j] = soln[s]\n",
        "            s += 1\n",
        "  return new_board"
      ],
      "metadata": {
        "id": "mdAgrd7XwvJE"
      },
      "execution_count": 14,
      "outputs": []
    },
    {
      "cell_type": "code",
      "source": [
        "def crossover(parent1, parent2):\n",
        "    point = random.randint(1, len(parent1)-1)\n",
        "    child1 = parent1[:point] + parent2[point:]\n",
        "    child2 = parent2[:point] + parent1[point:]\n",
        "    return child1, child2"
      ],
      "metadata": {
        "id": "GjdBtuTRyZtc"
      },
      "execution_count": 15,
      "outputs": []
    },
    {
      "cell_type": "code",
      "source": [
        "def mutate(individual, mutation_rate=0.05):\n",
        "    for i in range(len(individual)):\n",
        "        if random.random() < mutation_rate:\n",
        "            individual[i] = random.randint(1, 9)\n",
        "    return individual"
      ],
      "metadata": {
        "id": "8cYd75UTybBM"
      },
      "execution_count": 16,
      "outputs": []
    },
    {
      "cell_type": "markdown",
      "source": [
        "## Parent Selection Strategy: Top Half Selection\n",
        "\n",
        "### Why I Used the Selection Strategy\n",
        "  \n",
        "\n",
        "To ensure that the genetic algorithm **focuses more on the fittest solutions**, we changed the strategy to **Top Half Selection**. This means we first sort the population based on fitness and then select parents only from the top 50%. By doing this:\n",
        "- We guarantee that only stronger individuals are chosen as parents.\n",
        "- The algorithm converges faster because weak individuals are excluded from reproduction.\n",
        "- It reduces randomness while maintaining enough genetic diversity.\n",
        "\n",
        "### How It Works\n",
        "1. **Sort the population** based on fitness (highest fitness first).\n",
        "2. **Take the elit part** most fitted ones directly added to the new population.  \n",
        "3. **Take the top half** of the population as potential parents.  \n",
        "4. **Randomly select parents** from this top half to generate offspring.  \n",
        "\n",
        "This approach strikes a balance between **exploitation** (using the best solutions) and **exploration** (random selection within the top half).\n",
        "\n",
        "\n"
      ],
      "metadata": {
        "id": "PX5hSlf7zK8m"
      }
    },
    {
      "cell_type": "code",
      "source": [
        "def select_mating_pool(population, board, elite_ratio=0.1):\n",
        "    sorted_pop = sorted(population, key=lambda ind: fitness(ind, board), reverse=True)\n",
        "\n",
        "    elite_count = max(1, int(len(population) * elite_ratio))\n",
        "    elites = sorted_pop[:elite_count]\n",
        "\n",
        "    half = len(population) // 2\n",
        "    pool = sorted_pop[:half]\n",
        "\n",
        "    return elites, pool\n"
      ],
      "metadata": {
        "id": "r_Bczg-OydxL"
      },
      "execution_count": 17,
      "outputs": []
    },
    {
      "cell_type": "code",
      "source": [
        "def create_new_population(population, board, elite_ratio=0.1):\n",
        "    elites, pool = select_mating_pool(population, board, elite_ratio)\n",
        "    new_population = elites[:]\n",
        "    while len(new_population) < len(population):\n",
        "        parent1 = random.choice(pool)\n",
        "        parent2 = random.choice(pool)\n",
        "        child = crossover(parent1, parent2)\n",
        "        child = mutate(child)\n",
        "        new_population.append(child)\n",
        "\n",
        "    return new_population\n"
      ],
      "metadata": {
        "id": "zbGBqAxrzASM"
      },
      "execution_count": 18,
      "outputs": []
    },
    {
      "cell_type": "code",
      "source": [
        "# hyperparams\n",
        "POP_SIZE      = 100\n",
        "GENERATIONS   = 500\n",
        "MUTATION_RATE = 0.05\n",
        "ELITE_RATIO   = 0.10\n",
        "REPORT_EVERY  = 10"
      ],
      "metadata": {
        "id": "dhj5AF_ezi_E"
      },
      "execution_count": 36,
      "outputs": []
    },
    {
      "cell_type": "code",
      "source": [
        "population = create_population(sudoku_board, population_size=POP_SIZE)\n",
        "best_hist, avg_hist = [], []"
      ],
      "metadata": {
        "id": "iqMIYZ8K05sL"
      },
      "execution_count": 37,
      "outputs": []
    },
    {
      "cell_type": "code",
      "source": [
        "for gen in range(1, GENERATIONS + 1):\n",
        "    # evaluate\n",
        "    fits = [fitness(ind, sudoku_board) for ind in population]\n",
        "    best_idx = max(range(len(population)), key=lambda i: fits[i])\n",
        "    best_fit = fits[best_idx]\n",
        "    avg_fit  = sum(fits) / len(fits)\n",
        "    best_hist.append(best_fit)\n",
        "    avg_hist.append(avg_fit)\n",
        "\n",
        "    # progress print\n",
        "    if gen % REPORT_EVERY == 0 or best_fit >= 81:\n",
        "        # accuracy = fitness / 81\n",
        "        acc = max(0.0, min(1.0, best_fit / 81.0))\n",
        "        print(f\"Gen {gen:4d} | Best fitness: {best_fit:5.1f} | Avg: {avg_fit:5.1f} | Accuracy: {acc*100:5.1f}%\")\n",
        "\n",
        "    # solved?\n",
        "    if best_fit >= 81:\n",
        "        print(f\"\\n✅ Solved at generation {gen}!\")\n",
        "        solved = create_board(sudoku_board, population[best_idx])\n",
        "        try:\n",
        "            print_sudoku(solved)\n",
        "        except:\n",
        "            for row in solved: print(row)\n",
        "        break\n",
        "\n",
        "    # next generation (elitism + top-half mating pool)\n",
        "    elites, pool = select_mating_pool(population, sudoku_board, elite_ratio=ELITE_RATIO)\n",
        "    new_pop = elites[:]\n",
        "    while len(new_pop) < len(population):\n",
        "        p1 = random.choice(pool)\n",
        "        p2 = random.choice(pool)\n",
        "        c1, c2 = crossover(p1, p2)\n",
        "        c1 = mutate(c1, mutation_rate=MUTATION_RATE)\n",
        "        c2 = mutate(c2, mutation_rate=MUTATION_RATE)\n",
        "        new_pop.extend([c1, c2])\n",
        "    population = new_pop[:len(population)]\n",
        "else:\n",
        "    # even if the best couldn't find show the best\n",
        "    print(\"\\n⚠️ No perfect solution found.\")\n",
        "    best_idx = max(range(len(population)), key=lambda i: fitness(population[i], sudoku_board))\n",
        "    best_fit = fitness(population[best_idx], sudoku_board)\n",
        "    print(f\"Best fitness after {GENERATIONS} generations: {best_fit}\")\n",
        "    best_board = create_board(sudoku_board, population[best_idx])\n",
        "    try:\n",
        "        print_sudoku(best_board)\n",
        "    except:\n",
        "        for row in best_board: print(row)"
      ],
      "metadata": {
        "colab": {
          "base_uri": "https://localhost:8080/"
        },
        "id": "O0U81m1k07Bi",
        "outputId": "9ff97008-d2dd-4e61-c800-6d5c37ca9e10"
      },
      "execution_count": 38,
      "outputs": [
        {
          "output_type": "stream",
          "name": "stdout",
          "text": [
            "Gen   10 | Best fitness:  31.0 | Avg:  23.3 | Accuracy:  38.3%\n",
            "Gen   20 | Best fitness:  40.0 | Avg:  32.3 | Accuracy:  49.4%\n",
            "Gen   30 | Best fitness:  45.0 | Avg:  37.2 | Accuracy:  55.6%\n",
            "Gen   40 | Best fitness:  50.0 | Avg:  42.7 | Accuracy:  61.7%\n",
            "Gen   50 | Best fitness:  53.0 | Avg:  44.5 | Accuracy:  65.4%\n",
            "Gen   60 | Best fitness:  55.0 | Avg:  47.2 | Accuracy:  67.9%\n",
            "Gen   70 | Best fitness:  55.0 | Avg:  48.2 | Accuracy:  67.9%\n",
            "Gen   80 | Best fitness:  56.0 | Avg:  48.5 | Accuracy:  69.1%\n",
            "Gen   90 | Best fitness:  57.0 | Avg:  48.7 | Accuracy:  70.4%\n",
            "Gen  100 | Best fitness:  58.0 | Avg:  49.7 | Accuracy:  71.6%\n",
            "Gen  110 | Best fitness:  58.0 | Avg:  50.4 | Accuracy:  71.6%\n",
            "Gen  120 | Best fitness:  59.0 | Avg:  49.3 | Accuracy:  72.8%\n",
            "Gen  130 | Best fitness:  59.0 | Avg:  52.5 | Accuracy:  72.8%\n",
            "Gen  140 | Best fitness:  60.0 | Avg:  51.4 | Accuracy:  74.1%\n",
            "Gen  150 | Best fitness:  60.0 | Avg:  52.4 | Accuracy:  74.1%\n",
            "Gen  160 | Best fitness:  60.0 | Avg:  52.4 | Accuracy:  74.1%\n",
            "Gen  170 | Best fitness:  60.0 | Avg:  52.8 | Accuracy:  74.1%\n",
            "Gen  180 | Best fitness:  60.0 | Avg:  52.7 | Accuracy:  74.1%\n",
            "Gen  190 | Best fitness:  61.0 | Avg:  52.6 | Accuracy:  75.3%\n",
            "Gen  200 | Best fitness:  61.0 | Avg:  51.7 | Accuracy:  75.3%\n",
            "Gen  210 | Best fitness:  61.0 | Avg:  52.0 | Accuracy:  75.3%\n",
            "Gen  220 | Best fitness:  61.0 | Avg:  53.1 | Accuracy:  75.3%\n",
            "Gen  230 | Best fitness:  61.0 | Avg:  53.1 | Accuracy:  75.3%\n",
            "Gen  240 | Best fitness:  61.0 | Avg:  53.0 | Accuracy:  75.3%\n",
            "Gen  250 | Best fitness:  61.0 | Avg:  52.7 | Accuracy:  75.3%\n",
            "Gen  260 | Best fitness:  61.0 | Avg:  54.5 | Accuracy:  75.3%\n",
            "Gen  270 | Best fitness:  62.0 | Avg:  53.7 | Accuracy:  76.5%\n",
            "Gen  280 | Best fitness:  62.0 | Avg:  54.0 | Accuracy:  76.5%\n",
            "Gen  290 | Best fitness:  62.0 | Avg:  54.1 | Accuracy:  76.5%\n",
            "Gen  300 | Best fitness:  62.0 | Avg:  54.2 | Accuracy:  76.5%\n",
            "Gen  310 | Best fitness:  63.0 | Avg:  54.2 | Accuracy:  77.8%\n",
            "Gen  320 | Best fitness:  63.0 | Avg:  55.0 | Accuracy:  77.8%\n",
            "Gen  330 | Best fitness:  63.0 | Avg:  55.3 | Accuracy:  77.8%\n",
            "Gen  340 | Best fitness:  63.0 | Avg:  54.4 | Accuracy:  77.8%\n",
            "Gen  350 | Best fitness:  63.0 | Avg:  55.0 | Accuracy:  77.8%\n",
            "Gen  360 | Best fitness:  63.0 | Avg:  56.1 | Accuracy:  77.8%\n",
            "Gen  370 | Best fitness:  63.0 | Avg:  55.4 | Accuracy:  77.8%\n",
            "Gen  380 | Best fitness:  63.0 | Avg:  54.1 | Accuracy:  77.8%\n",
            "Gen  390 | Best fitness:  63.0 | Avg:  54.6 | Accuracy:  77.8%\n",
            "Gen  400 | Best fitness:  63.0 | Avg:  55.1 | Accuracy:  77.8%\n",
            "Gen  410 | Best fitness:  63.0 | Avg:  55.9 | Accuracy:  77.8%\n",
            "Gen  420 | Best fitness:  63.0 | Avg:  54.6 | Accuracy:  77.8%\n",
            "Gen  430 | Best fitness:  63.0 | Avg:  55.1 | Accuracy:  77.8%\n",
            "Gen  440 | Best fitness:  63.0 | Avg:  54.0 | Accuracy:  77.8%\n",
            "Gen  450 | Best fitness:  63.0 | Avg:  56.1 | Accuracy:  77.8%\n",
            "Gen  460 | Best fitness:  63.0 | Avg:  55.9 | Accuracy:  77.8%\n",
            "Gen  470 | Best fitness:  63.0 | Avg:  56.0 | Accuracy:  77.8%\n",
            "Gen  480 | Best fitness:  63.0 | Avg:  55.5 | Accuracy:  77.8%\n",
            "Gen  490 | Best fitness:  63.0 | Avg:  55.4 | Accuracy:  77.8%\n",
            "Gen  500 | Best fitness:  63.0 | Avg:  54.9 | Accuracy:  77.8%\n",
            "\n",
            "⚠️ No perfect solution found.\n",
            "Best fitness after 500 generations: 63\n",
            "+-------+-------+-------+\n",
            "| 5 3 7 | 2 7 6 | 9 1 4 |\n",
            "| 6 2 4 | 1 9 5 | 3 8 7 |\n",
            "| 1 9 8 | 4 3 8 | 5 6 2 |\n",
            "+-------+-------+-------+\n",
            "| 8 1 2 | 9 6 7 | 8 4 3 |\n",
            "| 4 6 5 | 8 4 3 | 9 2 1 |\n",
            "| 7 4 9 | 5 2 1 | 7 5 6 |\n",
            "+-------+-------+-------+\n",
            "| 9 6 1 | 7 5 2 | 2 8 3 |\n",
            "| 3 8 7 | 4 1 9 | 4 6 5 |\n",
            "| 2 5 4 | 3 8 6 | 1 7 9 |\n",
            "+-------+-------+-------+\n"
          ]
        }
      ]
    },
    {
      "cell_type": "code",
      "source": [
        "# plot progress\n",
        "plt.figure()\n",
        "plt.plot(best_hist, label=\"Best fitness\")\n",
        "plt.plot(avg_hist,  label=\"Average fitness\")\n",
        "plt.xlabel(\"Generation\")\n",
        "plt.ylabel(\"Fitness\")\n",
        "plt.title(\"GA Progress on Sudoku\")\n",
        "plt.legend()\n",
        "plt.show()"
      ],
      "metadata": {
        "colab": {
          "base_uri": "https://localhost:8080/",
          "height": 472
        },
        "id": "XOQX-_zQ1PuZ",
        "outputId": "61bf1e8f-9768-4080-a2f8-27dae5798e32"
      },
      "execution_count": 39,
      "outputs": [
        {
          "output_type": "display_data",
          "data": {
            "text/plain": [
              "<Figure size 640x480 with 1 Axes>"
            ],
            "image/png": "[encoded data removed]"
          },
          "metadata": {}
        }
      ]
    },
    {
      "cell_type": "markdown",
      "source": [
        "# Row-wise Individual Initialization for Genetic Sudoku Solver\n",
        "\n",
        "In a standard Genetic Algorithm (GA) for solving Sudoku, individuals (chromosomes) represent candidate solutions.\n",
        "\n",
        "If we initialize each individual completely randomly, many obvious rule violations occur from the start. This results in a large number of errors and makes the GA take much longer to converge.\n",
        "\n",
        "To improve efficiency, we use **row-wise initialization**:\n",
        "\n",
        "1. For each row, we identify which numbers (1-9) are missing.  \n",
        "2. We randomly shuffle these missing numbers.  \n",
        "3. We fill the empty cells in that row with the shuffled numbers.  \n",
        "\n",
        "Advantages:\n",
        "\n",
        "- Each row is valid from the start (no duplicate numbers in a row).  \n",
        "- The population starts with fewer errors, allowing the GA to focus on fixing column and 3x3 box conflicts.  \n",
        "- This approach significantly improves convergence speed and overall GA performance.\n",
        "\n",
        "This strategy provides a smarter initial population while maintaining randomness, which is essential for the GA to explore different solutions.\n"
      ],
      "metadata": {
        "id": "IP4vQ1kK3_Lj"
      }
    },
    {
      "cell_type": "code",
      "source": [
        "def create_individual_v2(board):\n",
        "    \"\"\"\n",
        "    Creates an individual chromosome for GA Sudoku solver.\n",
        "    Fills each row's empty cells with missing numbers in random order.\n",
        "    \"\"\"\n",
        "    chromosome = []\n",
        "    for i in range(9):\n",
        "        row = board[i]\n",
        "        missing_numbers = [n for n in range(1,10) if n not in row]\n",
        "        empty_indices = [j for j in range(9) if row[j] == 0]\n",
        "        random.shuffle(missing_numbers)\n",
        "        for idx, j in enumerate(empty_indices):\n",
        "            chromosome.append(missing_numbers[idx])\n",
        "    return chromosome"
      ],
      "metadata": {
        "id": "XTsi8KVD1p6R"
      },
      "execution_count": 42,
      "outputs": []
    },
    {
      "cell_type": "code",
      "source": [
        "def create_population_v2(board, population_size=100):\n",
        "    population = []\n",
        "    for _ in range(population_size):\n",
        "        individual = create_individual_v2(board)\n",
        "        population.append(individual)\n",
        "    return population"
      ],
      "metadata": {
        "id": "7y9LqZZl2xd5"
      },
      "execution_count": 43,
      "outputs": []
    },
    {
      "cell_type": "code",
      "source": [
        "population_v2 = create_population_v2(sudoku_board, population_size=POP_SIZE)\n",
        "best_hist_v2, avg_hist_v2 = [], []"
      ],
      "metadata": {
        "id": "y6pYRSGI2mQJ"
      },
      "execution_count": 44,
      "outputs": []
    },
    {
      "cell_type": "code",
      "source": [
        "for gen in range(1, GENERATIONS + 1):\n",
        "    # evaluate\n",
        "    fits = [fitness(ind, sudoku_board) for ind in population_v2]\n",
        "    best_idx = max(range(len(population)), key=lambda i: fits[i])\n",
        "    best_fit = fits[best_idx]\n",
        "    avg_fit  = sum(fits) / len(fits)\n",
        "    best_hist_v2.append(best_fit)\n",
        "    avg_hist_v2.append(avg_fit)\n",
        "\n",
        "    # progress print\n",
        "    if gen % REPORT_EVERY == 0 or best_fit >= 81:\n",
        "        # accuracy = fitness / 81\n",
        "        acc = max(0.0, min(1.0, best_fit / 81.0))\n",
        "        print(f\"Gen {gen:4d} | Best fitness: {best_fit:5.1f} | Avg: {avg_fit:5.1f} | Accuracy: {acc*100:5.1f}%\")\n",
        "\n",
        "    # solved?\n",
        "    if best_fit >= 81:\n",
        "        print(f\"\\n✅ Solved at generation {gen}!\")\n",
        "        solved = create_board(sudoku_board, population_v2[best_idx])\n",
        "        try:\n",
        "            print_sudoku(solved)\n",
        "        except:\n",
        "            for row in solved: print(row)\n",
        "        break\n",
        "\n",
        "    # next generation (elitism + top-half mating pool)\n",
        "    elites, pool = select_mating_pool(population_v2, sudoku_board, elite_ratio=ELITE_RATIO)\n",
        "    new_pop = elites[:]\n",
        "    while len(new_pop) < len(population_v2):\n",
        "        p1 = random.choice(pool)\n",
        "        p2 = random.choice(pool)\n",
        "        c1, c2 = crossover(p1, p2)\n",
        "        c1 = mutate(c1, mutation_rate=MUTATION_RATE)\n",
        "        c2 = mutate(c2, mutation_rate=MUTATION_RATE)\n",
        "        new_pop.extend([c1, c2])\n",
        "    population_v2 = new_pop[:len(population_v2)]\n",
        "else:\n",
        "    # even if the best couldn't find show the best\n",
        "    print(\"\\n⚠️ No perfect solution found.\")\n",
        "    best_idx = max(range(len(population)), key=lambda i: fitness(population_v2[i], sudoku_board))\n",
        "    best_fit = fitness(population_v2[best_idx], sudoku_board)\n",
        "    print(f\"Best fitness after {GENERATIONS} generations: {best_fit}\")\n",
        "    best_board = create_board(sudoku_board, population_v2[best_idx])\n",
        "    try:\n",
        "        print_sudoku(best_board)\n",
        "    except:\n",
        "        for row in best_board: print(row)"
      ],
      "metadata": {
        "colab": {
          "base_uri": "https://localhost:8080/"
        },
        "outputId": "d5189f97-9f99-4afc-8b11-c898052c65bb",
        "id": "KAbwWTrF2xlB"
      },
      "execution_count": 45,
      "outputs": [
        {
          "output_type": "stream",
          "name": "stdout",
          "text": [
            "Gen   10 | Best fitness:  50.0 | Avg:  39.2 | Accuracy:  61.7%\n",
            "Gen   20 | Best fitness:  53.0 | Avg:  44.8 | Accuracy:  65.4%\n",
            "Gen   30 | Best fitness:  53.0 | Avg:  47.0 | Accuracy:  65.4%\n",
            "Gen   40 | Best fitness:  56.0 | Avg:  47.1 | Accuracy:  69.1%\n",
            "Gen   50 | Best fitness:  59.0 | Avg:  51.6 | Accuracy:  72.8%\n",
            "Gen   60 | Best fitness:  61.0 | Avg:  52.5 | Accuracy:  75.3%\n",
            "Gen   70 | Best fitness:  61.0 | Avg:  54.5 | Accuracy:  75.3%\n",
            "Gen   80 | Best fitness:  61.0 | Avg:  53.9 | Accuracy:  75.3%\n",
            "Gen   90 | Best fitness:  61.0 | Avg:  53.8 | Accuracy:  75.3%\n",
            "Gen  100 | Best fitness:  61.0 | Avg:  54.4 | Accuracy:  75.3%\n",
            "Gen  110 | Best fitness:  61.0 | Avg:  54.0 | Accuracy:  75.3%\n",
            "Gen  120 | Best fitness:  61.0 | Avg:  54.1 | Accuracy:  75.3%\n",
            "Gen  130 | Best fitness:  61.0 | Avg:  54.2 | Accuracy:  75.3%\n",
            "Gen  140 | Best fitness:  61.0 | Avg:  54.9 | Accuracy:  75.3%\n",
            "Gen  150 | Best fitness:  61.0 | Avg:  55.0 | Accuracy:  75.3%\n",
            "Gen  160 | Best fitness:  62.0 | Avg:  54.5 | Accuracy:  76.5%\n",
            "Gen  170 | Best fitness:  63.0 | Avg:  54.3 | Accuracy:  77.8%\n",
            "Gen  180 | Best fitness:  63.0 | Avg:  54.5 | Accuracy:  77.8%\n",
            "Gen  190 | Best fitness:  64.0 | Avg:  55.1 | Accuracy:  79.0%\n",
            "Gen  200 | Best fitness:  64.0 | Avg:  55.5 | Accuracy:  79.0%\n",
            "Gen  210 | Best fitness:  64.0 | Avg:  55.9 | Accuracy:  79.0%\n",
            "Gen  220 | Best fitness:  66.0 | Avg:  56.5 | Accuracy:  81.5%\n",
            "Gen  230 | Best fitness:  66.0 | Avg:  57.2 | Accuracy:  81.5%\n",
            "Gen  240 | Best fitness:  67.0 | Avg:  57.7 | Accuracy:  82.7%\n",
            "Gen  250 | Best fitness:  67.0 | Avg:  58.9 | Accuracy:  82.7%\n",
            "Gen  260 | Best fitness:  68.0 | Avg:  59.0 | Accuracy:  84.0%\n",
            "Gen  270 | Best fitness:  68.0 | Avg:  59.6 | Accuracy:  84.0%\n",
            "Gen  280 | Best fitness:  68.0 | Avg:  59.2 | Accuracy:  84.0%\n",
            "Gen  290 | Best fitness:  68.0 | Avg:  59.8 | Accuracy:  84.0%\n",
            "Gen  300 | Best fitness:  68.0 | Avg:  59.2 | Accuracy:  84.0%\n",
            "Gen  310 | Best fitness:  68.0 | Avg:  59.1 | Accuracy:  84.0%\n",
            "Gen  320 | Best fitness:  68.0 | Avg:  58.7 | Accuracy:  84.0%\n",
            "Gen  330 | Best fitness:  68.0 | Avg:  60.1 | Accuracy:  84.0%\n",
            "Gen  340 | Best fitness:  68.0 | Avg:  60.3 | Accuracy:  84.0%\n",
            "Gen  350 | Best fitness:  68.0 | Avg:  58.9 | Accuracy:  84.0%\n",
            "Gen  360 | Best fitness:  68.0 | Avg:  59.4 | Accuracy:  84.0%\n",
            "Gen  370 | Best fitness:  68.0 | Avg:  58.9 | Accuracy:  84.0%\n",
            "Gen  380 | Best fitness:  68.0 | Avg:  59.5 | Accuracy:  84.0%\n",
            "Gen  390 | Best fitness:  68.0 | Avg:  59.3 | Accuracy:  84.0%\n",
            "Gen  400 | Best fitness:  68.0 | Avg:  59.9 | Accuracy:  84.0%\n",
            "Gen  410 | Best fitness:  68.0 | Avg:  59.1 | Accuracy:  84.0%\n",
            "Gen  420 | Best fitness:  68.0 | Avg:  59.8 | Accuracy:  84.0%\n",
            "Gen  430 | Best fitness:  68.0 | Avg:  59.5 | Accuracy:  84.0%\n",
            "Gen  440 | Best fitness:  69.0 | Avg:  58.6 | Accuracy:  85.2%\n",
            "Gen  450 | Best fitness:  69.0 | Avg:  58.8 | Accuracy:  85.2%\n",
            "Gen  460 | Best fitness:  69.0 | Avg:  60.4 | Accuracy:  85.2%\n",
            "Gen  470 | Best fitness:  69.0 | Avg:  59.5 | Accuracy:  85.2%\n",
            "Gen  480 | Best fitness:  69.0 | Avg:  60.3 | Accuracy:  85.2%\n",
            "Gen  490 | Best fitness:  69.0 | Avg:  60.9 | Accuracy:  85.2%\n",
            "Gen  500 | Best fitness:  69.0 | Avg:  60.9 | Accuracy:  85.2%\n",
            "\n",
            "⚠️ No perfect solution found.\n",
            "Best fitness after 500 generations: 69\n",
            "+-------+-------+-------+\n",
            "| 5 3 4 | 3 7 6 | 9 1 8 |\n",
            "| 6 7 2 | 1 9 5 | 3 4 2 |\n",
            "| 1 9 8 | 2 4 8 | 5 6 7 |\n",
            "+-------+-------+-------+\n",
            "| 8 5 1 | 7 6 4 | 9 2 3 |\n",
            "| 4 2 6 | 8 9 3 | 7 5 1 |\n",
            "| 7 3 9 | 5 2 1 | 8 4 6 |\n",
            "+-------+-------+-------+\n",
            "| 3 6 4 | 9 5 7 | 2 8 1 |\n",
            "| 9 8 7 | 4 1 9 | 6 3 5 |\n",
            "| 2 1 5 | 6 8 3 | 4 7 9 |\n",
            "+-------+-------+-------+\n"
          ]
        }
      ]
    },
    {
      "cell_type": "code",
      "source": [
        "# plot progress\n",
        "plt.figure()\n",
        "plt.plot(best_hist_v2, label=\"Best fitness\")\n",
        "plt.plot(avg_hist_v2,  label=\"Average fitness\")\n",
        "plt.xlabel(\"Generation\")\n",
        "plt.ylabel(\"Fitness\")\n",
        "plt.title(\"GA Progress on Sudoku\")\n",
        "plt.legend()\n",
        "plt.show()"
      ],
      "metadata": {
        "colab": {
          "base_uri": "https://localhost:8080/",
          "height": 472
        },
        "id": "px808uzx3yi4",
        "outputId": "5f1ccc18-0ab1-48c0-e5ea-b9f44e05f0be"
      },
      "execution_count": 47,
      "outputs": [
        {
          "output_type": "display_data",
          "data": {
            "text/plain": [
              "<Figure size 640x480 with 1 Axes>"
            ],
            "image/png": "[encoded data removed]"
          },
          "metadata": {}
        }
      ]
    },
    {
      "cell_type": "code",
      "source": [],
      "metadata": {
        "id": "GJXG0Jhv4DU4"
      },
      "execution_count": null,
      "outputs": []
    }
  ]
}